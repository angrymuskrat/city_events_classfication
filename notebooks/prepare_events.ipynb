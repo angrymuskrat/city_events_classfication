{
 "cells": [
  {
   "cell_type": "markdown",
   "metadata": {
    "colab_type": "text",
    "id": "5ymw4CB2EH4Q"
   },
   "source": [
    "this notebook prepare posts and events for training model"
   ]
  },
  {
   "cell_type": "code",
   "execution_count": 1,
   "metadata": {
    "colab": {
     "base_uri": "https://localhost:8080/",
     "height": 462
    },
    "colab_type": "code",
    "executionInfo": {
     "elapsed": 31366,
     "status": "ok",
     "timestamp": 1586262978862,
     "user": {
      "displayName": "Михаил Ковальчук",
      "photoUrl": "",
      "userId": "00328138544128199672"
     },
     "user_tz": -180
    },
    "id": "f_gq-hpeDHu4",
    "outputId": "f6f95c88-38a9-4c6f-b2d0-f58ad3cb0247",
    "pycharm": {
     "is_executing": true
    }
   },
   "outputs": [],
   "source": [
    "import time\n",
    "\n",
    "from ipywidgets import IntProgress\n",
    "from IPython.display import display\n",
    "\n",
    "\n",
    "import pandas as pd\n",
    "from collections import defaultdict\n",
    "\n",
    "import gensim.models\n",
    "\n",
    "DATA_PATH = '/data/'\n",
    "\n",
    "CAPTION_PATH = DATA_PATH + 'captions/'\n",
    "EVENTS_PATH = DATA_PATH + 'events/'\n",
    "\n",
    "\n",
    "cities = ['spb', 'moscow']\n",
    "years = ['2019', '2020']\n",
    "posts_types = ['raw/', 'cleaned/', 'lem/']\n",
    "\n",
    "def events_path(path, city):\n",
    "    return path + city + '_events.csv'\n",
    "\n",
    "def posts_path(path, city, year):\n",
    "    return path + city + '_posts_' + year + '.csv'\n",
    "\n",
    "def read_events(path: str, city: str):\n",
    "    df = pd.read_csv(events_path(path, city))\n",
    "    df['postcodes'] = [codes[2:-2].split(\"', '\") for codes in df['postcodes']]\n",
    "    df['city'] = [city] * len(df)\n",
    "    return df\n",
    "\n",
    "def read_posts(type_file: str, city: str, year: str):\n",
    "    return pd.read_csv(posts_path(CAPTION_PATH + type_file, city, year)).dropna()"
   ]
  },
  {
   "cell_type": "markdown",
   "metadata": {},
   "source": [
    "preprocessing for events"
   ]
  },
  {
   "cell_type": "code",
   "execution_count": 3,
   "metadata": {},
   "outputs": [],
   "source": [
    "df_events = pd.concat([read_events(EVENTS_PATH, city) for city in cities])"
   ]
  },
  {
   "cell_type": "code",
   "execution_count": 4,
   "metadata": {},
   "outputs": [],
   "source": [
    "events_codes = [ids[2:-2].split(\"', '\") for ids in df_events['postcodes']]\n",
    "codes_to_ids = [[(code, event_id) for code in codes] for event_id, codes in enumerate(events_codes)]\n",
    "code_to_event = dict(sum(codes_to_ids, []))"
   ]
  },
  {
   "cell_type": "code",
   "execution_count": 19,
   "metadata": {},
   "outputs": [
    {
     "name": "stdout",
     "output_type": "stream",
     "text": [
      "0\n"
     ]
    }
   ],
   "source": [
    "SPLITTER = ' &+& '\n",
    "cities = ['spb']#, 'moscow']\n",
    "df_events = pd.concat([read_events(EVENTS_PATH, city) for city in cities])\n",
    "\n",
    "events_codes = [ids[2:-2].split(\"', '\") for ids in df_events['postcodes']]\n",
    "codes_to_ids = [[(code, event_id) for code in codes] for event_id, codes in enumerate(events_codes)]\n",
    "code_to_event = dict(sum(codes_to_ids, []))\n",
    "\n",
    "years = ['2019', '2020']\n",
    "posts_types = ['raw/']#['raw/', 'cleaned/', 'lem/']\n",
    "def process_posts_csv(path: str, captions: list):\n",
    "    df = pd.read_csv(path).dropna()\n",
    "    df = df[df['code'].isin(code_to_event)]\n",
    "    for ind, row in df.iterrows():\n",
    "        captions[code_to_event[row['code']]].append(row['caption'])\n",
    "    return captions\n",
    "\n",
    "def process_dir(posts_type: str, cities: list, years: list):\n",
    "    captions = [[] for i in range(len(df_events))]\n",
    "    for city in cities:\n",
    "        for year in years:\n",
    "            path_csv = posts_path(f'{CAPTION_PATH}{posts_type}', city, year)\n",
    "            captions = process_posts_csv(path_csv, captions)\n",
    "    \n",
    "    df_events['captions'] = captions\n",
    "    \n",
    "    df_events['description'] = [SPLITTER.join(posts) for posts in captions]\n",
    "    print(len(df_events[df_events['description'] == '']))\n",
    "    df_events.to_csv(r'' + EVENTS_PATH + posts_type + 'events.csv', index=False)\n",
    "            \n",
    "    \n",
    "\n",
    "for pt in posts_types:\n",
    "    process_dir(pt, cities, years)"
   ]
  },
  {
   "cell_type": "code",
   "execution_count": 2,
   "metadata": {},
   "outputs": [],
   "source": [
    "from itertools import product\n",
    "\n",
    "captions = []\n",
    "\n",
    "cities = ['spb', 'moscow']\n",
    "years = ['2019', '2020']\n",
    "posts_types = ['lem/']\n",
    "df_posts = pd.concat([read_posts(*triplet) for triplet in product(posts_types, cities, years)])\n",
    "df_events = pd.concat([read_events(EVENTS_PATH, city) for city in cities])"
   ]
  },
  {
   "cell_type": "code",
   "execution_count": 3,
   "metadata": {},
   "outputs": [
    {
     "data": {
      "application/vnd.jupyter.widget-view+json": {
       "model_id": "5bfc3b59f478423ca4e038aa76715477",
       "version_major": 2,
       "version_minor": 0
      },
      "text/plain": [
       "IntProgress(value=0, max=10214)"
      ]
     },
     "metadata": {},
     "output_type": "display_data"
    }
   ],
   "source": [
    "from ipywidgets import IntProgress\n",
    "from IPython.display import display\n",
    "\n",
    "f = IntProgress(min=0, max=len(df_events))\n",
    "display(f)\n",
    "\n",
    "for ind, row in df_events.iterrows():\n",
    "    captions.append(df_posts.caption[df_posts.code.isin(set(row.postcodes))].tolist())\n",
    "    f.value +=1"
   ]
  },
  {
   "cell_type": "code",
   "execution_count": 64,
   "metadata": {},
   "outputs": [
    {
     "data": {
      "text/plain": [
       "8780359"
      ]
     },
     "execution_count": 64,
     "metadata": {},
     "output_type": "execute_result"
    }
   ],
   "source": [
    "post_codes = set(df_posts.code.tolist())\n",
    "len(post_codes)"
   ]
  },
  {
   "cell_type": "code",
   "execution_count": 65,
   "metadata": {},
   "outputs": [
    {
     "data": {
      "text/plain": [
       "95820"
      ]
     },
     "execution_count": 65,
     "metadata": {},
     "output_type": "execute_result"
    }
   ],
   "source": [
    "event_codes = set(sum([codes for codes in df_events.postcodes], []))\n",
    "len(event_codes)"
   ]
  },
  {
   "cell_type": "code",
   "execution_count": 66,
   "metadata": {},
   "outputs": [
    {
     "data": {
      "text/plain": [
       "95826"
      ]
     },
     "execution_count": 66,
     "metadata": {},
     "output_type": "execute_result"
    }
   ],
   "source": [
    "sum([len(codes) for codes in df_events.postcodes], 0)"
   ]
  },
  {
   "cell_type": "code",
   "execution_count": 67,
   "metadata": {},
   "outputs": [
    {
     "name": "stdout",
     "output_type": "stream",
     "text": [
      "95820 95820\n"
     ]
    }
   ],
   "source": [
    "print(len(event_codes), len(event_codes & post_codes))"
   ]
  },
  {
   "cell_type": "code",
   "execution_count": 62,
   "metadata": {},
   "outputs": [
    {
     "name": "stdout",
     "output_type": "stream",
     "text": [
      "95820 95691\n"
     ]
    }
   ],
   "source": [
    "captions = []\n",
    "\n",
    "from ipywidgets import IntProgress\n",
    "from IPython.display import display\n",
    "\n",
    "for ind, row in df_events.iterrows():\n",
    "    df.caption[df_posts.code.isin(set(row.codes))].tolist()\n",
    "    captions.append(df.caption[df_posts.code.isin(set(row.codes))].tolist())"
   ]
  },
  {
   "cell_type": "code",
   "execution_count": null,
   "metadata": {},
   "outputs": [],
   "source": [
    "df_events = read_events(EVENTS_PATH, 'spb')\n",
    "events_codes = [ids[2:-2].split(\"', '\") for ids in df_events['postcodes']]\n",
    "codes_to_ids = [[(code, event_id) for code in codes] for event_id, codes in enumerate(events_codes)]\n",
    "code_to_event = dict(sum(codes_to_ids, []))\n",
    "code_used = dict([(code, False) for code in code_to_event])\n",
    "print(len(df_events))\n",
    "captions = [[] for i in range(len(df_events))]\n",
    "\n",
    "years = [2019, 2020]\n",
    "df_posts = pd.concat([pd.read_csv(f'{CAPTION_PATH}cleaned/spb_posts_{y}.csv') for y in years])\n",
    "df = df_posts[df_posts['code'].isin(code_to_event)]\n",
    "for ind, row in df.iterrows():\n",
    "    captions[code_to_event[row['code']]].append(row['caption'])\n",
    "    code_used[row['code']] = True\n",
    "    "
   ]
  },
  {
   "cell_type": "code",
   "execution_count": null,
   "metadata": {},
   "outputs": [],
   "source": [
    "codes = []\n",
    "\n",
    "for code in code_used:\n",
    "    if not code_used[code]:\n",
    "        codes.append(code)\n",
    "        \n",
    "len(codes)"
   ]
  },
  {
   "cell_type": "code",
   "execution_count": 43,
   "metadata": {},
   "outputs": [],
   "source": [
    "code_used = dict([(code, False) for code in code_to_event])\n",
    "for ind, row in df.iterrows():\n",
    "    captions[code_to_event[row['code']]].append(row['caption'])\n",
    "    code_used[row['code']] = True"
   ]
  },
  {
   "cell_type": "code",
   "execution_count": null,
   "metadata": {},
   "outputs": [],
   "source": []
  }
 ],
 "metadata": {
  "colab": {
   "authorship_tag": "ABX9TyMZsRMlgE+83bZ7K7jNXAb5",
   "machine_shape": "hm",
   "name": "filter_caption.ipynb",
   "provenance": []
  },
  "kernelspec": {
   "display_name": "Python 3",
   "language": "python",
   "name": "python3"
  },
  "language_info": {
   "codemirror_mode": {
    "name": "ipython",
    "version": 3
   },
   "file_extension": ".py",
   "mimetype": "text/x-python",
   "name": "python",
   "nbconvert_exporter": "python",
   "pygments_lexer": "ipython3",
   "version": "3.7.6"
  },
  "pycharm": {
   "stem_cell": {
    "cell_type": "raw",
    "metadata": {
     "collapsed": false
    },
    "source": []
   }
  }
 },
 "nbformat": 4,
 "nbformat_minor": 1
}
