{
 "cells": [
  {
   "cell_type": "raw",
   "metadata": {
    "colab_type": "text",
    "id": "5ymw4CB2EH4Q"
   },
   "source": [
    "this notebook prepare posts and events for training model"
   ]
  },
  {
   "cell_type": "code",
   "execution_count": 14,
   "metadata": {
    "colab": {
     "base_uri": "https://localhost:8080/",
     "height": 462
    },
    "colab_type": "code",
    "executionInfo": {
     "elapsed": 31366,
     "status": "ok",
     "timestamp": 1586262978862,
     "user": {
      "displayName": "Михаил Ковальчук",
      "photoUrl": "",
      "userId": "00328138544128199672"
     },
     "user_tz": -180
    },
    "id": "f_gq-hpeDHu4",
    "outputId": "f6f95c88-38a9-4c6f-b2d0-f58ad3cb0247",
    "pycharm": {
     "is_executing": true
    }
   },
   "outputs": [],
   "source": [
    "from pymystem3 import Mystem # for normalization of text\n",
    "my_stem = Mystem()\n",
    "\n",
    "import time\n",
    "\n",
    "from ipywidgets import IntProgress\n",
    "from IPython.display import display\n",
    "\n",
    "\n",
    "import pandas as pd\n",
    "from collections import defaultdict\n",
    "\n",
    "import gensim.models\n",
    "\n",
    "DATA_PATH = '/data/'\n",
    "\n",
    "CAPTION_PATH = DATA_PATH + 'captions/'\n",
    "EVENTS_PATH = DATA_PATH + 'events/'\n",
    "\n",
    "\n",
    "cities = ['spb', 'moscow']\n",
    "years = ['2019', '2020']\n",
    "posts_types = ['raw/', 'cleaned/', 'lem/']\n",
    "\n",
    "def events_path(path, city):\n",
    "    return path + city + '_events.csv'\n",
    "\n",
    "def posts_path(path, city, year):\n",
    "    return path + city + '_posts_' + year + '.csv'"
   ]
  },
  {
   "cell_type": "code",
   "execution_count": 38,
   "metadata": {},
   "outputs": [],
   "source": [
    "CAPTION_PATH = DATA_PATH + 'captions/'"
   ]
  },
  {
   "cell_type": "markdown",
   "metadata": {},
   "source": [
    "preprocessing for events"
   ]
  },
  {
   "cell_type": "code",
   "execution_count": 31,
   "metadata": {},
   "outputs": [],
   "source": [
    "def read_events(path: str, city: str):\n",
    "    df = pd.read_csv(events_path(path, city))\n",
    "    df['city'] = [city] * len(df)\n",
    "    return df\n",
    "\n",
    "df_events = pd.concat([read_events(EVENTS_PATH, city) for city in cities])"
   ]
  },
  {
   "cell_type": "code",
   "execution_count": 25,
   "metadata": {},
   "outputs": [],
   "source": [
    "events_codes = [ids[2:-2].split(\"', '\") for ids in df_events['postcodes']]\n",
    "codes_to_ids = [[(code, event_id) for code in codes] for event_id, codes in enumerate(events_codes)]\n",
    "code_to_event = dict(sum(codes_to_ids, []))"
   ]
  },
  {
   "cell_type": "code",
   "execution_count": 40,
   "metadata": {},
   "outputs": [],
   "source": [
    "SPLITTER = ' &+& '\n",
    "\n",
    "def process_posts_csv(path: str, captions: list):\n",
    "    df = pd.read_csv(path)\n",
    "    df = df[df['code'].isin(code_to_event)]\n",
    "    for ind, row in df.iterrows():\n",
    "        captions[code_to_event[row['code']]].append(row['caption'])\n",
    "    return captions\n",
    "\n",
    "def process_dir(posts_type: str, cities: list, years: list):\n",
    "    captions = [[] for i in range(len(df_events))]\n",
    "    for city in cities:\n",
    "        for year in years:\n",
    "            path_csv = posts_path(f'{CAPTION_PATH}{posts_type}', city, year)\n",
    "            captions = process_posts_csv(path_csv, captions)\n",
    "    \n",
    "    df_events['caption'] = captions\n",
    "    df_events['description'] = [SPLITTER.join(posts) for posts in captions]\n",
    "    df_events.to_csv(r'' + EVENTS_PATH + posts_type + 'events.csv', index=False)\n",
    "            \n",
    "    \n",
    "\n",
    "for pt in posts_types:\n",
    "    process_dir(pt, cities, years)"
   ]
  }
 ],
 "metadata": {
  "colab": {
   "authorship_tag": "ABX9TyMZsRMlgE+83bZ7K7jNXAb5",
   "machine_shape": "hm",
   "name": "filter_caption.ipynb",
   "provenance": []
  },
  "kernelspec": {
   "display_name": "Python 3",
   "language": "python",
   "name": "python3"
  },
  "language_info": {
   "codemirror_mode": {
    "name": "ipython",
    "version": 3
   },
   "file_extension": ".py",
   "mimetype": "text/x-python",
   "name": "python",
   "nbconvert_exporter": "python",
   "pygments_lexer": "ipython3",
   "version": "3.7.6"
  },
  "pycharm": {
   "stem_cell": {
    "cell_type": "raw",
    "metadata": {
     "collapsed": false
    },
    "source": []
   }
  }
 },
 "nbformat": 4,
 "nbformat_minor": 1
}
