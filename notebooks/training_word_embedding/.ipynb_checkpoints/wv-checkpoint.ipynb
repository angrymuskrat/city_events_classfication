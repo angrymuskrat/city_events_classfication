{
 "cells": [
  {
   "cell_type": "markdown",
   "metadata": {},
   "source": [
    "init"
   ]
  },
  {
   "cell_type": "code",
   "execution_count": 1,
   "metadata": {},
   "outputs": [],
   "source": [
    "import gensim.models\n",
    "import gensim\n",
    "\n",
    "DATA_PATH = '/data/'\n",
    "MODEL_PATH = DATA_PATH + 'models/wv2/'\n",
    "SOURCE_PATH = DATA_PATH + 'captions/lem/'\n",
    "\n",
    "cities = ['moscow', 'spb', 'nyc', 'london']\n",
    "years = ['2016', '2017', '2018', '2019', '2020']\n",
    "files = []\n",
    "for city in cities:\n",
    "    for year in years:\n",
    "        files.append([city, year])\n",
    "\n",
    "def csv_path(path, city, year):\n",
    "    return path + city + '_posts_' + year + '.csv'"
   ]
  },
  {
   "cell_type": "markdown",
   "metadata": {},
   "source": [
    "training of model"
   ]
  },
  {
   "cell_type": "code",
   "execution_count": null,
   "metadata": {},
   "outputs": [],
   "source": [
    "class MyCorpus(object):\n",
    "    iter = 0\n",
    "    def __iter__(self):\n",
    "        self.iter += 1\n",
    "        for city in cities:\n",
    "            for year in years:\n",
    "                for line in open(csv_path(SOURCE_PATH, city, year)):\n",
    "                    yield (line.split(',')[1]).split()\n",
    "            print(f'iter {self.iter} for {city} completed')\n",
    "                \n",
    "        print(f'\\niter {self.iter} completed\\n')\n",
    "\n",
    "\n",
    "sentences = MyCorpus()\n",
    "model = gensim.models.Word2Vec(sentences=sentences, workers=35, size=300, min_count=5, window=10, negative=15, iter=10, sg=1)\n",
    "model.save(MODEL_PATH + 'mdl')"
   ]
  },
  {
   "cell_type": "code",
   "execution_count": null,
   "metadata": {},
   "outputs": [],
   "source": [
    "f = open(MODEL_PATH + 'description.txt', 'w')\n",
    "f.write('date: 28.04\\n')\n",
    "f.write('params: size=300, min_count=5, window=10, negative=15, iter=10, sg=1')\n",
    "f.write(f'sourse: {SOURCE_PATH}\\n')\n",
    "f.write('cities: moscow, spb, london, nyc\\n')\n",
    "print('success')"
   ]
  },
  {
   "cell_type": "code",
   "execution_count": null,
   "metadata": {},
   "outputs": [],
   "source": [
    "f.close()"
   ]
  },
  {
   "cell_type": "code",
   "execution_count": null,
   "metadata": {},
   "outputs": [],
   "source": [
    "model.wv.most_similar(positive=['cat', 'fish'], negative=['home']) "
   ]
  },
  {
   "cell_type": "code",
   "execution_count": null,
   "metadata": {},
   "outputs": [],
   "source": [
    "print(\"d\")"
   ]
  },
  {
   "cell_type": "code",
   "execution_count": null,
   "metadata": {},
   "outputs": [],
   "source": []
  }
 ],
 "metadata": {
  "kernelspec": {
   "display_name": "Python 3",
   "language": "python",
   "name": "python3"
  },
  "language_info": {
   "codemirror_mode": {
    "name": "ipython",
    "version": 3
   },
   "file_extension": ".py",
   "mimetype": "text/x-python",
   "name": "python",
   "nbconvert_exporter": "python",
   "pygments_lexer": "ipython3",
   "version": "3.7.6"
  }
 },
 "nbformat": 4,
 "nbformat_minor": 4
}
