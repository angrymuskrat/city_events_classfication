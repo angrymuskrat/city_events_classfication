{
 "cells": [
  {
   "cell_type": "code",
   "execution_count": 8,
   "metadata": {},
   "outputs": [],
   "source": [
    "from gensim.models import FastText\n",
    "import gensim\n",
    "\n",
    "DATA_PATH = '/data/'\n",
    "MODEL_PATH = DATA_PATH + 'models/ft1/'\n",
    "SOURCE_PATH = DATA_PATH + 'captions/lem/'\n",
    "\n",
    "cities = ['moscow', 'spb', 'nyc', 'london']\n",
    "years = ['2016', '2017', '2018', '2019', '2020']\n",
    "files = []\n",
    "for city in cities:\n",
    "    for year in years:\n",
    "        files.append([city, year])\n",
    "\n",
    "def csv_path(path, city, year):\n",
    "    return path + city + '_posts_' + year + '.csv'"
   ]
  },
  {
   "cell_type": "code",
   "execution_count": 9,
   "metadata": {},
   "outputs": [
    {
     "name": "stdout",
     "output_type": "stream",
     "text": [
      "success\n"
     ]
    }
   ],
   "source": [
    "class MyCorpus(object):\n",
    "    iter = 0\n",
    "    def __iter__(self):\n",
    "        self.iter += 1\n",
    "        for city in cities:\n",
    "            for year in years:\n",
    "                for line in open(csv_path(SOURCE_PATH, city, year)):\n",
    "                    yield (line.split(',')[1]).split()\n",
    "            print(f'iter {self.iter} for {city} completed')\n",
    "                \n",
    "        print(f'\\niter {self.iter} completed\\n')\n",
    "\n",
    "sentences = MyCorpus()\n",
    "\n",
    "# dimension 300, with character n-grams of length 5, a window of size 5 and 10 negatives\n",
    "# https://fasttext.cc/docs/en/crawl-vectors.html\n",
    "\n",
    "model = FastText(size=300, window=5, min_count=1, word_ngrams=5, negative=10, workers=35)\n",
    "print('success')"
   ]
  },
  {
   "cell_type": "code",
   "execution_count": null,
   "metadata": {},
   "outputs": [
    {
     "name": "stdout",
     "output_type": "stream",
     "text": [
      "building vocab\n",
      "\n",
      "iter 1 for moscow completed\n",
      "iter 1 for spb completed\n",
      "iter 1 for nyc completed\n",
      "iter 1 for london completed\n",
      "\n",
      "iter 1 completed\n",
      "\n"
     ]
    }
   ],
   "source": [
    "print('building vocab\\n')\n",
    "model.build_vocab(sentences=MyCorpus())\n",
    "total_examples = model.corpus_count\n",
    "print(f'corpus count: {total_examples}')\n",
    "print('\\nend of building')"
   ]
  },
  {
   "cell_type": "code",
   "execution_count": null,
   "metadata": {},
   "outputs": [],
   "source": [
    "model.train(sentences=MyCorpus(), total_examples=total_examples, epochs=5)"
   ]
  }
 ],
 "metadata": {
  "kernelspec": {
   "display_name": "Python 3",
   "language": "python",
   "name": "python3"
  },
  "language_info": {
   "codemirror_mode": {
    "name": "ipython",
    "version": 3
   },
   "file_extension": ".py",
   "mimetype": "text/x-python",
   "name": "python",
   "nbconvert_exporter": "python",
   "pygments_lexer": "ipython3",
   "version": "3.7.6"
  }
 },
 "nbformat": 4,
 "nbformat_minor": 4
}
