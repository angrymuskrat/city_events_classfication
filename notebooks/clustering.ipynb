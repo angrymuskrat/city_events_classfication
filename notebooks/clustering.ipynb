{
 "cells": [
  {
   "cell_type": "markdown",
   "metadata": {},
   "source": [
    "init"
   ]
  },
  {
   "cell_type": "code",
   "execution_count": 3,
   "metadata": {},
   "outputs": [
    {
     "name": "stdout",
     "output_type": "stream",
     "text": [
      "success\n"
     ]
    }
   ],
   "source": [
    "import gensim.models\n",
    "import gensim\n",
    "from sklearn import cluster\n",
    "\n",
    "from sklearn.cluster import DBSCAN\n",
    "from sklearn import metrics\n",
    "from sklearn.preprocessing import StandardScaler\n",
    "\n",
    "DATA_PATH = '/data/'\n",
    "MODEL_PATH = DATA_PATH + 'models/wv1/'\n",
    "LEM_CAPTION_PATH = DATA_PATH + 'lem_caption/'\n",
    "CAPTIONS = ['posts2016.csv', 'posts2017.csv', 'posts2018.csv', 'posts2019.csv', 'posts2020.csv']\n",
    "\n",
    "model = gensim.models.Word2Vec.load(MODEL_PATH + 'mdl')\n",
    "# X = model.wv[model.wv.vocab]\n",
    "X = [] # positions in vector space\n",
    "words = [] # keep track of words to label our data again later\n",
    "for word in model.wv.vocab:\n",
    "    X.append(model.wv[word])\n",
    "    words.append(word)\n",
    "print('success')"
   ]
  },
  {
   "cell_type": "code",
   "execution_count": null,
   "metadata": {},
   "outputs": [],
   "source": [
    "dbscan = cluster.DBSCAN(eps=0.5, min_samples=5, n_jobs=20, metric='cosine')\n",
    "dbscan.fit(X)\n",
    "\n",
    "data = list(zip(dbscan.labels_, words))\n",
    "\n",
    "f = open(DATA_PATH + 'semantic_clusters.txt', 'w')\n",
    "for label, word in data: \n",
    "    f.write(f'{word},{label}\\n')\n",
    "\n",
    "#import cudf\n",
    "#from cuml.cluster import DBSCAN\n",
    "#gdf_float = cudf.DataFrame()\n",
    "\n",
    "\n",
    "print('success')"
   ]
  },
  {
   "cell_type": "code",
   "execution_count": null,
   "metadata": {},
   "outputs": [],
   "source": [
    "print('d')"
   ]
  },
  {
   "cell_type": "code",
   "execution_count": null,
   "metadata": {},
   "outputs": [],
   "source": [
    "labels = dbscan.labels_\n",
    "centroids = dbscan.cluster_centers_\n",
    "print(labels[:10])"
   ]
  },
  {
   "cell_type": "code",
   "execution_count": null,
   "metadata": {},
   "outputs": [],
   "source": []
  }
 ],
 "metadata": {
  "kernelspec": {
   "display_name": "Python 3",
   "language": "python",
   "name": "python3"
  },
  "language_info": {
   "codemirror_mode": {
    "name": "ipython",
    "version": 3
   },
   "file_extension": ".py",
   "mimetype": "text/x-python",
   "name": "python",
   "nbconvert_exporter": "python",
   "pygments_lexer": "ipython3",
   "version": "3.7.6"
  }
 },
 "nbformat": 4,
 "nbformat_minor": 4
}
