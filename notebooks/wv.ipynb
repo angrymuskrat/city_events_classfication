{
 "cells": [
  {
   "cell_type": "markdown",
   "metadata": {},
   "source": [
    "init"
   ]
  },
  {
   "cell_type": "code",
   "execution_count": 1,
   "metadata": {},
   "outputs": [],
   "source": [
    "import gensim.models\n",
    "import gensim\n",
    "import pandas as pd\n",
    "\n",
    "DATA_PATH = '/data/'\n",
    "MODEL_PATH = DATA_PATH + 'models/wv2_ru/'\n",
    "SOURCE_PATH = DATA_PATH + 'captions/lem/'\n",
    "\n",
    "cities = ['moscow', 'spb']#, 'nyc', 'london']\n",
    "years = ['2016', '2017', '2018', '2019', '2020']\n",
    "files = []\n",
    "for city in cities:\n",
    "    for year in years:\n",
    "        files.append([city, year])\n",
    "\n",
    "def csv_path(path, city, year):\n",
    "    return path + city + '_posts_' + year + '.csv'\n",
    "\n",
    "valid_langs = set(['__label__ru'])"
   ]
  },
  {
   "cell_type": "markdown",
   "metadata": {},
   "source": [
    "training of model"
   ]
  },
  {
   "cell_type": "code",
   "execution_count": null,
   "metadata": {},
   "outputs": [
    {
     "name": "stdout",
     "output_type": "stream",
     "text": [
      "iter 1 for moscow completed\n",
      "iter 1 for spb completed\n",
      "\n",
      "iter 1 completed\n",
      "\n"
     ]
    }
   ],
   "source": [
    "class MyCorpus(object):\n",
    "    iter = 0\n",
    "    def __iter__(self):\n",
    "        self.iter += 1\n",
    "        for city in cities:\n",
    "            for year in years:\n",
    "                df = pd.read_csv(csv_path(SOURCE_PATH, city, year))\n",
    "                df = df[df.lang.isin(valid_langs)]\n",
    "                for s in df['caption']:\n",
    "                    yield s\n",
    "            print(f'iter {self.iter} for {city} completed')\n",
    "                \n",
    "        print(f'\\niter {self.iter} completed\\n')\n",
    "\n",
    "\n",
    "sentences = MyCorpus()\n",
    "model = gensim.models.Word2Vec(sentences=sentences, workers=35, size=300, min_count=5, window=10, negative=15, iter=20, sg=1)\n",
    "model.save(MODEL_PATH + 'mdl')"
   ]
  },
  {
   "cell_type": "code",
   "execution_count": null,
   "metadata": {},
   "outputs": [],
   "source": [
    "f = open(MODEL_PATH + 'description.txt', 'w')\n",
    "f.write('date: 28.04\\n')\n",
    "f.write('params: size=300, min_count=5, window=10, negative=15, iter=10, sg=1')\n",
    "f.write(f'sourse: {SOURCE_PATH}\\n')\n",
    "f.write('cities: moscow, spb, london, nyc\\n')\n",
    "f.write(f'valid_langs: {valid_langs}\\n')\n",
    "print('success')\n",
    "f.close()"
   ]
  },
  {
   "cell_type": "code",
   "execution_count": 11,
   "metadata": {},
   "outputs": [
    {
     "data": {
      "text/plain": [
       "[('рпл', 0.7903112173080444),\n",
       " ('цска', 0.7845051288604736),\n",
       " ('бенфик', 0.7752741575241089),\n",
       " ('фкзенит', 0.7666481733322144),\n",
       " ('зенитспартак', 0.7630802392959595),\n",
       " ('зенитчемпион', 0.7541044354438782),\n",
       " ('сбг', 0.7371127605438232),\n",
       " ('zenit', 0.7347699403762817),\n",
       " ('динамо', 0.7326478362083435),\n",
       " ('зенитспб', 0.727488100528717)]"
      ]
     },
     "execution_count": 11,
     "metadata": {},
     "output_type": "execute_result"
    }
   ],
   "source": []
  },
  {
   "cell_type": "code",
   "execution_count": null,
   "metadata": {},
   "outputs": [],
   "source": [
    "print(\"d\")"
   ]
  },
  {
   "cell_type": "code",
   "execution_count": null,
   "metadata": {},
   "outputs": [],
   "source": []
  }
 ],
 "metadata": {
  "kernelspec": {
   "display_name": "Python 3",
   "language": "python",
   "name": "python3"
  },
  "language_info": {
   "codemirror_mode": {
    "name": "ipython",
    "version": 3
   },
   "file_extension": ".py",
   "mimetype": "text/x-python",
   "name": "python",
   "nbconvert_exporter": "python",
   "pygments_lexer": "ipython3",
   "version": "3.7.6"
  }
 },
 "nbformat": 4,
 "nbformat_minor": 4
}
