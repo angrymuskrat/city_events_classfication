{
 "cells": [
  {
   "cell_type": "markdown",
   "metadata": {},
   "source": [
    "init"
   ]
  },
  {
   "cell_type": "code",
   "execution_count": 1,
   "metadata": {},
   "outputs": [],
   "source": [
    "import gensim.models\n",
    "import gensim\n",
    "\n",
    "DATA_PATH = '/data/'\n",
    "MODEL_PATH = DATA_PATH + 'models/wv1/'\n",
    "LEM_CAPTION_PATH = DATA_PATH + 'lem_caption/'\n",
    "CAPTIONS = ['posts2016.csv', 'posts2017.csv', 'posts2018.csv', 'posts2019.csv', 'posts2020.csv']"
   ]
  },
  {
   "cell_type": "markdown",
   "metadata": {},
   "source": [
    "training of model"
   ]
  },
  {
   "cell_type": "code",
   "execution_count": 7,
   "metadata": {},
   "outputs": [
    {
     "name": "stdout",
     "output_type": "stream",
     "text": [
      "load posts2016.csv\n",
      "load posts2017.csv\n",
      "load posts2018.csv\n",
      "load posts2019.csv\n",
      "load posts2020.csv\n",
      "load posts2016.csv\n",
      "load posts2017.csv\n",
      "load posts2018.csv\n",
      "load posts2019.csv\n",
      "load posts2020.csv\n",
      "load posts2016.csv\n",
      "load posts2017.csv\n",
      "load posts2018.csv\n",
      "load posts2019.csv\n",
      "load posts2020.csv\n",
      "load posts2016.csv\n",
      "load posts2017.csv\n",
      "load posts2018.csv\n",
      "load posts2019.csv\n",
      "load posts2020.csv\n",
      "load posts2016.csv\n",
      "load posts2017.csv\n",
      "load posts2018.csv\n",
      "load posts2019.csv\n",
      "load posts2020.csv\n",
      "load posts2016.csv\n",
      "load posts2017.csv\n",
      "load posts2018.csv\n",
      "load posts2019.csv\n",
      "load posts2020.csv\n"
     ]
    }
   ],
   "source": [
    "\n",
    "class MyCorpus(object):\n",
    "    def __iter__(self):\n",
    "        for corpus in CAPTIONS:\n",
    "            for line in open(LEM_CAPTION_PATH + corpus):\n",
    "                yield (line.split(',')[1]).split()\n",
    "            print('load ' + corpus)\n",
    "\n",
    "sentences = MyCorpus()\n",
    "model = gensim.models.Word2Vec(sentences=sentences, size=300, min_count=5, workers=20, window=10)\n",
    "model.save(MODEL_PATH + 'mdl')"
   ]
  }
 ],
 "metadata": {
  "kernelspec": {
   "display_name": "Python 3",
   "language": "python",
   "name": "python3"
  },
  "language_info": {
   "codemirror_mode": {
    "name": "ipython",
    "version": 3
   },
   "file_extension": ".py",
   "mimetype": "text/x-python",
   "name": "python",
   "nbconvert_exporter": "python",
   "pygments_lexer": "ipython3",
   "version": "3.7.6"
  }
 },
 "nbformat": 4,
 "nbformat_minor": 4
}
