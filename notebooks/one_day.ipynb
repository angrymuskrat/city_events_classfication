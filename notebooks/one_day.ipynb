{
 "cells": [
  {
   "cell_type": "code",
   "execution_count": null,
   "metadata": {},
   "outputs": [],
   "source": [
    "import cudf\n",
    "import numpy as np\n",
    "import pandas as pd\n",
    "import plotly.express as px\n",
    "import semlib\n",
    "import tools\n",
    "\n",
    "# init paths to data and models\n",
    "DATA_PATH = '/data/'\n",
    "\n",
    "SEM_MODEL_NAME = 'sm_wv3_ru_norm'\n",
    "OPT_SEM = 70\n",
    "SEM_MODEL_PATH = DATA_PATH + f'models/{SEM_MODEL_NAME}/{OPT_SEM}/'\n",
    "IDS_PATH = DATA_PATH + 'psql/spb_posts_28_02_2020.csv'\n",
    "POST_PATH = DATA_PATH + 'captions/lem/spb_posts_2020.csv'\n",
    "TMP_PATH = f'{DATA_PATH}tmp/one_day/28_02_2020/'\n",
    "\n",
    "'success'\n",
    " \n",
    "#n_semantic = list(range(40, 130, 10)) + [150, 250, 500, 750, 1000]\n",
    "n_clusters = list(range(5, 151))"
   ]
  },
  {
   "cell_type": "code",
   "execution_count": null,
   "metadata": {},
   "outputs": [],
   "source": [
    "df = pd.read_csv(IDS_PATH)\n",
    "ids = set(df['id'].tolist())\n",
    "print(f'posts in day: {len(ids)}')\n",
    "\n",
    "df = pd.read_csv(POST_PATH)\n",
    "print(f'posts in year: {len(df)}')\n",
    "\n",
    "df = df[df['id'].isin(ids)]\n",
    "print(f'non empty posts: {len(df)}')"
   ]
  },
  {
   "cell_type": "code",
   "execution_count": null,
   "metadata": {},
   "outputs": [],
   "source": [
    "from sklearn.preprocessing import StandardScaler\n",
    "from sklearn.manifold import TSNE\n",
    "    \n",
    "!mkdir {TMP_PATH}\n",
    "\n",
    "with open(f'{SEM_MODEL_PATH}labels.txt') as f:\n",
    "    labels = list(map(lambda l: [l[0], int(l[1][:-1])], filter(lambda l: len(l) == 2, [line.split(',') for line in f])))\n",
    "w2l = {} # word to label\n",
    "for word, label in labels:\n",
    "    w2l[word] = label \n",
    "\n",
    "\n",
    "# calculate semantic vectors for events\n",
    "X = []\n",
    "is_not_empty = []\n",
    "\n",
    "for index, row in df.iterrows():\n",
    "    vec = np.zeros(OPT_SEM)\n",
    "    words = list(filter(lambda w: w in w2l, row.caption.split()))\n",
    "    for word in words:\n",
    "        vec[w2l[word]] += 1\n",
    "    \n",
    "    if len(words) > 0:\n",
    "        X.append(vec / len(words))\n",
    "        is_not_empty.append(True)\n",
    "    else:\n",
    "        is_not_empty.append(False)\n",
    "        \n",
    "X = np.array(X)\n",
    "df = df[is_not_empty]\n",
    "print(f'non empty after filtering words: {len(df)}')\n",
    "\n",
    "# scaling of semantic vectors\n",
    "scaler = StandardScaler()\n",
    "X = scaler.fit_transform(X)\n",
    "    \n",
    "\n",
    "# calculate 2d embeding for events\n",
    "tsne = TSNE(n_components=2, random_state=0, n_jobs=35, early_exaggeration=10, learning_rate=200)\n",
    "X_2d = tsne.fit_transform(X) \n",
    "x_vals, y_vals = list(zip(*X_2d))\n",
    "df['x'] = x_vals\n",
    "df['y'] = y_vals\n",
    "\n",
    "df.to_csv(r'' + TMP_PATH + 'df.csv', index=False)"
   ]
  },
  {
   "cell_type": "code",
   "execution_count": null,
   "metadata": {},
   "outputs": [],
   "source": [
    "max_row_len = 80\n",
    "rows_hover_name = []\n",
    "\n",
    "for index, row in df.iterrows():\n",
    "    hover_name = ''\n",
    "    row_len = 0\n",
    "    words = row.caption.split()\n",
    "    for word in words:\n",
    "        if row_len + len(word) > max_row_len:\n",
    "            hover_name += '<br>'\n",
    "            row_len = 0\n",
    "        hover_name += word + ' '\n",
    "        row_len += len(word) + 1\n",
    "    rows_hover_name.append(hover_name)\n",
    "df['hover_name'] = rows_hover_name      "
   ]
  },
  {
   "cell_type": "code",
   "execution_count": null,
   "metadata": {},
   "outputs": [],
   "source": [
    "rows_hover_tags = []\n",
    "\n",
    "for index, row in df.iterrows():\n",
    "    hover_tags = ''\n",
    "    words = row.caption.split()\n",
    "    for word in words:\n",
    "        if word[0] != '#' and word[0] != '@':\n",
    "            continue\n",
    "        hover_tags += word + '<br>'\n",
    "    rows_hover_tags.append(hover_tags)\n",
    "df['hover_tags'] = rows_hover_tags  "
   ]
  },
  {
   "cell_type": "code",
   "execution_count": null,
   "metadata": {},
   "outputs": [],
   "source": [
    "for index, row in df.iterrows():\n",
    "    words = row.caption.split()\n",
    "    for word in words:\n",
    "        if word[1:] == 'rock':\n",
    "            print(row.x, row.y)"
   ]
  },
  {
   "cell_type": "code",
   "execution_count": null,
   "metadata": {
    "scrolled": false
   },
   "outputs": [],
   "source": [
    "import plotly.express as px\n",
    "\n",
    "print(len(df))\n",
    "px.scatter(df, x='x', y='y', hover_name='hover_name').show()\n",
    "\n",
    "df_tmp = df[~(df['hover_tags'] == '')]\n",
    "print(len(df_tmp))\n",
    "px.scatter(df_tmp, x='x', y='y', hover_name='hover_tags').show()"
   ]
  },
  {
   "cell_type": "code",
   "execution_count": null,
   "metadata": {},
   "outputs": [],
   "source": [
    "px.scatter(df, x='x', y='y', hover_name='hover_name').show()"
   ]
  },
  {
   "cell_type": "code",
   "execution_count": null,
   "metadata": {},
   "outputs": [],
   "source": [
    "import semlib\n",
    "df = semlib.agglomerative_list(n_clusters, df, X)"
   ]
  },
  {
   "cell_type": "code",
   "execution_count": null,
   "metadata": {},
   "outputs": [],
   "source": [
    "df.to_csv(r'' + TMP_PATH + 'df_ag.csv', index=False)"
   ]
  },
  {
   "cell_type": "code",
   "execution_count": null,
   "metadata": {},
   "outputs": [],
   "source": [
    "best = semlib.find_best_score(n_semantic, TMP_PATH, 'scores_union.csv', 'f1')\n",
    "best"
   ]
  },
  {
   "cell_type": "code",
   "execution_count": null,
   "metadata": {},
   "outputs": [],
   "source": [
    "best = semlib.find_best_score(n_semantic, TMP_PATH, 'scores_ag.csv', 'f1')\n",
    "best"
   ]
  },
  {
   "cell_type": "code",
   "execution_count": null,
   "metadata": {},
   "outputs": [],
   "source": [
    "fig = semlib.score_plot_3d(n_semantic, n_clusters, TMP_PATH, 'scores_ag.csv', scores_name='f1')\n",
    "fig.show()"
   ]
  },
  {
   "cell_type": "code",
   "execution_count": null,
   "metadata": {},
   "outputs": [],
   "source": [
    "fig = semlib.score_plot_3d(n_semantic, n_clusters, TMP_PATH, 'scores_union.csv', scores_name='f1')\n",
    "fig.show()"
   ]
  },
  {
   "cell_type": "code",
   "execution_count": null,
   "metadata": {},
   "outputs": [],
   "source": [
    "best = semlib.find_best_score(n_semantic, TMP_PATH, 'scores_ag.csv', 'f1')\n",
    "print(f'score: {best[0]}, optimal_n_semantic: {best[1]}, optimal_n_clusters: {best[2]}')\n",
    "model = f'{best[1]}/'\n",
    "df = tools.read_events(TMP_PATH + model + 'df_ag.csv')\n",
    "df_scores = pd.read_csv(TMP_PATH + model + 'scores_ag.csv')\n",
    "\n",
    "tools.plot_score(df_scores, y=['f1', 'recall', 'precision']).show()\n",
    "\n",
    "tools.plot_clusters(df, str(best[2])).show()\n",
    "\n",
    "df_centroids = tools.create_centroids(df, int(best[2]), use_norm=False, hashtags_size=20)\n",
    "fig, df_filtered = tools.plot_centroids(df_centroids, size_max=80, size_text_tags=1)\n",
    "fig.show()\n",
    "len(df_filtered)"
   ]
  },
  {
   "cell_type": "code",
   "execution_count": null,
   "metadata": {},
   "outputs": [],
   "source": [
    "best = semlib.find_best_score(n_semantic, TMP_PATH, 'scores_union.csv', 'f1')\n",
    "print(f'score: {best[0]}, optimal_n_semantic: {best[1]}, optimal_n_clusters: {best[2]}')\n",
    "model = f'{best[1]}/'\n",
    "df = tools.read_events(TMP_PATH + model + 'df.csv')\n",
    "df_scores = pd.read_csv(TMP_PATH + model + 'scores_union.csv')\n",
    "\n",
    "tools.plot_score(df_scores, y=['f1', 'recall', 'precision']).show()\n",
    "\n",
    "tools.plot_clusters(df, str(best[2])).show()\n",
    "\n",
    "df_centroids = tools.create_centroids(df, int(best[2]), use_norm=False, hashtags_size=20)\n",
    "fig, df_filtered = tools.plot_centroids(df_centroids, size_max=80, size_text_tags=1)\n",
    "fig.show()\n",
    "len(df_filtered)"
   ]
  },
  {
   "cell_type": "code",
   "execution_count": null,
   "metadata": {},
   "outputs": [],
   "source": []
  }
 ],
 "metadata": {
  "kernelspec": {
   "display_name": "Python 3",
   "language": "python",
   "name": "python3"
  },
  "language_info": {
   "codemirror_mode": {
    "name": "ipython",
    "version": 3
   },
   "file_extension": ".py",
   "mimetype": "text/x-python",
   "name": "python",
   "nbconvert_exporter": "python",
   "pygments_lexer": "ipython3",
   "version": "3.7.6"
  }
 },
 "nbformat": 4,
 "nbformat_minor": 4
}
