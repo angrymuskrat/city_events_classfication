{
 "cells": [
  {
   "cell_type": "code",
   "execution_count": 1,
   "metadata": {},
   "outputs": [],
   "source": [
    "import cudf\n",
    "import numpy as np\n",
    "import pandas as pd\n",
    "import plotly.express as px\n",
    "\n",
    "# init paths to data and models\n",
    "DATA_PATH = '/data/'\n",
    "TMP_PATH = DATA_PATH + 'tmp/sm2_128/'\n",
    "\n",
    "df = pd.read_csv(TMP_PATH + 'df.csv')\n",
    "X = np.load(TMP_PATH + 'X_norm.npy')\n",
    "dists = np.load(TMP_PATH + 'dists.npy')"
   ]
  },
  {
   "cell_type": "markdown",
   "metadata": {},
   "source": [
    "1) high davies_bouldin_score is better\n",
    "2) low silhouette_score is better\n",
    "3) high calinski_harabasz_score is better"
   ]
  },
  {
   "cell_type": "code",
   "execution_count": 2,
   "metadata": {},
   "outputs": [],
   "source": [
    "from sklearn.metrics import davies_bouldin_score\n",
    "from sklearn.metrics import silhouette_score\n",
    "from sklearn.metrics import calinski_harabasz_score\n",
    "from cuml.cluster import KMeans\n",
    "\n",
    "\n",
    "# names of metrics in calc_scrore\n",
    "calc_scrore_names = ['Davies Bouldin', 'Silhouette', 'Calinski–Harabasz']\n",
    "\n",
    "\n",
    "# calulate scores for n clusters of events\n",
    "# return list of calc_scrore_names scores\n",
    "def calc_scrore(n):\n",
    "    kmeans = KMeans(n_clusters=n, n_init=5).fit(X)\n",
    "    dbs = davies_bouldin_score(X, kmeans.labels_)\n",
    "    sils = silhouette_score(dists, kmeans.labels_)\n",
    "    chs = calinski_harabasz_score(X, kmeans.labels_)\n",
    "    return [dbs, sils, chs]\n",
    "\n",
    "\n",
    "# calculate scores for list of different numbers of clusters - ns\n",
    "# return pandas DataFrame, where row contain n_clustres and different scores for this n_clustres\n",
    "def n_scores(ns: list):\n",
    "    ans = []\n",
    "    for n in ns: \n",
    "        ans.append([n] + calc_scrore(n)) \n",
    "    columns = ['n_clusters'] + calc_scrore_names\n",
    "    return pd.DataFrame(ans, columns=columns)"
   ]
  },
  {
   "cell_type": "code",
   "execution_count": null,
   "metadata": {},
   "outputs": [],
   "source": [
    "samples = list(range(120, 150))\n",
    "\n",
    "df_scores = pd.concat([df_scores, n_scores(samples)])\n",
    "df_scores.to_csv(r'' + TMP_PATH + 'scores2.csv', index=False)"
   ]
  },
  {
   "cell_type": "code",
   "execution_count": null,
   "metadata": {},
   "outputs": [],
   "source": [
    "df_scores = pd.read_csv(TMP_PATH + 'scores2.csv')\n",
    "\n",
    "for name in calc_scrore_names:\n",
    "    fig = px.line(df_scores, x=\"n_clusters\", y=name, title=name)\n",
    "    fig.show()"
   ]
  },
  {
   "cell_type": "code",
   "execution_count": null,
   "metadata": {},
   "outputs": [],
   "source": []
  }
 ],
 "metadata": {
  "kernelspec": {
   "display_name": "Python 3",
   "language": "python",
   "name": "python3"
  },
  "language_info": {
   "codemirror_mode": {
    "name": "ipython",
    "version": 3
   },
   "file_extension": ".py",
   "mimetype": "text/x-python",
   "name": "python",
   "nbconvert_exporter": "python",
   "pygments_lexer": "ipython3",
   "version": "3.7.6"
  }
 },
 "nbformat": 4,
 "nbformat_minor": 4
}
