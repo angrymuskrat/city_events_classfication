{
 "cells": [
  {
   "cell_type": "code",
   "execution_count": null,
   "metadata": {},
   "outputs": [],
   "source": [
    "import gensim.models\n",
    "import gensim\n",
    "\n",
    "DATA_PATH = '/data/'\n",
    "MODEL_PATH = DATA_PATH + 'models/'\n",
    "model = gensim.models.Word2Vec.load(MODEL_PATH + '/wv1')"
   ]
  },
  {
   "cell_type": "code",
   "execution_count": null,
   "metadata": {},
   "outputs": [],
   "source": [
    "with open('tests.txt') as f:\n",
    "    tests = [[word for word in line.split()] for line in f]\n",
    "\n",
    "for test in tests:\n",
    "    print(model.wv.similarity(test[0], test[1]), test[0], test[1])"
   ]
  },
  {
   "cell_type": "code",
   "execution_count": 6,
   "metadata": {},
   "outputs": [
    {
     "data": {
      "text/plain": [
       "[('алиса35', 0.7392298579216003),\n",
       " ('alisaarmy', 0.7373284101486206),\n",
       " ('армияалис', 0.7363405227661133),\n",
       " ('группаалис', 0.6956188082695007),\n",
       " ('константинкинчев', 0.6870197653770447),\n",
       " ('посолонь', 0.6809189915657043),\n",
       " ('алисапитер', 0.6743097901344299),\n",
       " ('всемгареть', 0.6428168416023254),\n",
       " ('армияжизнь', 0.6385772824287415),\n",
       " ('алиса35лет', 0.6318596005439758)]"
      ]
     },
     "execution_count": 6,
     "metadata": {},
     "output_type": "execute_result"
    }
   ],
   "source": [
    "model.wv.most_similar(positive=['алиса', 'кинчев']) "
   ]
  },
  {
   "cell_type": "code",
   "execution_count": null,
   "metadata": {},
   "outputs": [],
   "source": [
    "import pandas as pd\n",
    "\n",
    "df = pd.read_csv(DATA_PATH + 'events_norm.csv')"
   ]
  },
  {
   "cell_type": "code",
   "execution_count": null,
   "metadata": {},
   "outputs": [],
   "source": [
    "prunt(df.head())"
   ]
  },
  {
   "cell_type": "code",
   "execution_count": null,
   "metadata": {},
   "outputs": [],
   "source": []
  }
 ],
 "metadata": {
  "kernelspec": {
   "display_name": "Python 3",
   "language": "python",
   "name": "python3"
  },
  "language_info": {
   "codemirror_mode": {
    "name": "ipython",
    "version": 3
   },
   "file_extension": ".py",
   "mimetype": "text/x-python",
   "name": "python",
   "nbconvert_exporter": "python",
   "pygments_lexer": "ipython3",
   "version": "3.7.6"
  }
 },
 "nbformat": 4,
 "nbformat_minor": 4
}
