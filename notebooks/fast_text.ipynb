{
 "cells": [
  {
   "cell_type": "code",
   "execution_count": 1,
   "metadata": {},
   "outputs": [],
   "source": [
    "from gensim.models import FastText\n",
    "import gensim\n",
    "import pandas as pd\n",
    "\n",
    "DATA_PATH = '/data/'\n",
    "MODEL_PATH = DATA_PATH + 'models/ft1/'\n",
    "SOURCE_PATH = DATA_PATH + 'captions/lem/'\n",
    "\n",
    "cities = ['moscow', 'spb']#, 'nyc', 'london']\n",
    "years = ['2016', '2017', '2018', '2019', '2020']\n",
    "files = []\n",
    "for city in cities:\n",
    "    for year in years:\n",
    "        files.append([city, year])\n",
    "\n",
    "def csv_path(path, city, year):\n",
    "    return path + city + '_posts_' + year + '.csv'\n",
    "\n",
    "valid_langs = set(['__label__ru'])\n",
    "\n",
    "USE_PRETRAINED_MODEL = True"
   ]
  },
  {
   "cell_type": "code",
   "execution_count": 4,
   "metadata": {},
   "outputs": [
    {
     "name": "stdout",
     "output_type": "stream",
     "text": [
      "success\n"
     ]
    }
   ],
   "source": [
    "class MyCorpus(object):\n",
    "    iter = 0\n",
    "    def __iter__(self):\n",
    "        self.iter += 1\n",
    "        for city in cities:\n",
    "            for year in years:\n",
    "                df = pd.read_csv(csv_path(SOURCE_PATH, city, year))\n",
    "                df = df[df.lang.isin(valid_langs)]\n",
    "                for s in df['caption']:\n",
    "                    yield s\n",
    "                              \n",
    "            print(f'iter {self.iter} for {city} completed')\n",
    "                \n",
    "        print(f'\\niter {self.iter} completed\\n')\n",
    "\n",
    "sentences = MyCorpus()\n",
    "\n",
    "# dimension 300, with character n-grams of length 5, a window of size 5 and 10 negatives\n",
    "# https://fasttext.cc/docs/en/crawl-vectors.html\n",
    "\n",
    "if USE_PRETRAINED_MODEL:\n",
    "    model =  gensim.models.fasttext.load_facebook_model(MODEL_PATH + 'cc.ru.300.bin.gz')\n",
    "else:\n",
    "    model = FastText(size=300, window=5, min_count=5, word_ngrams=5, negative=10, workers=35)\n",
    "print('success')"
   ]
  },
  {
   "cell_type": "code",
   "execution_count": null,
   "metadata": {},
   "outputs": [
    {
     "name": "stdout",
     "output_type": "stream",
     "text": [
      "building vocab\n",
      "\n",
      "iter 1 for moscow completed\n"
     ]
    }
   ],
   "source": [
    "print('building vocab\\n')\n",
    "model.build_vocab(sentences=MyCorpus())\n",
    "total_examples = model.corpus_count\n",
    "print(f'\\ncorpus count: {total_examples}\\nend of building')"
   ]
  },
  {
   "cell_type": "code",
   "execution_count": null,
   "metadata": {},
   "outputs": [
    {
     "name": "stdout",
     "output_type": "stream",
     "text": [
      "start training\n",
      "\n"
     ]
    }
   ],
   "source": [
    "print('start training\\n')\n",
    "model.train(sentences=MyCorpus(), total_examples=total_examples, epochs=5)\n",
    "print(f'\\nend of training')"
   ]
  },
  {
   "cell_type": "code",
   "execution_count": null,
   "metadata": {},
   "outputs": [],
   "source": [
    "model.save(MODEL_PATH + 'mdl')\n",
    "\n",
    "f = open(MODEL_PATH + 'description.txt', 'w')\n",
    "f.write('date: 08.05\\n')\n",
    "f.write('params: size=300, min_count=1, window=5, negative=10, word_ngrams=5, epochs=5\\n')\n",
    "f.write(f'sourse: {SOURCE_PATH}\\n')\n",
    "f.write('cities: moscow, spb; only russian\\n')\n",
    "print('success')\n",
    "f.close()"
   ]
  },
  {
   "cell_type": "code",
   "execution_count": 29,
   "metadata": {},
   "outputs": [
    {
     "name": "stdout",
     "output_type": "stream",
     "text": [
      "5313070\n"
     ]
    }
   ],
   "source": [
    "print(len(model.wv.vocab))"
   ]
  },
  {
   "cell_type": "code",
   "execution_count": null,
   "metadata": {},
   "outputs": [],
   "source": []
  }
 ],
 "metadata": {
  "kernelspec": {
   "display_name": "Python 3",
   "language": "python",
   "name": "python3"
  },
  "language_info": {
   "codemirror_mode": {
    "name": "ipython",
    "version": 3
   },
   "file_extension": ".py",
   "mimetype": "text/x-python",
   "name": "python",
   "nbconvert_exporter": "python",
   "pygments_lexer": "ipython3",
   "version": "3.7.6"
  }
 },
 "nbformat": 4,
 "nbformat_minor": 4
}
