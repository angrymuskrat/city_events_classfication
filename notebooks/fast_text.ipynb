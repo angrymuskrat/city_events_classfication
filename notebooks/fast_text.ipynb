{
 "cells": [
  {
   "cell_type": "code",
   "execution_count": 1,
   "metadata": {},
   "outputs": [],
   "source": [
    "from gensim.models import FastText\n",
    "import gensim\n",
    "import pandas as pd\n",
    "\n",
    "DATA_PATH = '/data/'\n",
    "MODEL_PATH = DATA_PATH + 'models/ft1_ru/'\n",
    "SOURCE_PATH = DATA_PATH + 'captions/clean/'\n",
    "\n",
    "cities = ['moscow', 'spb']#, 'nyc', 'london']\n",
    "years = ['2016', '2017', '2018', '2019', '2020']\n",
    "files = []\n",
    "for city in cities:\n",
    "    for year in years:\n",
    "        files.append([city, year])\n",
    "\n",
    "def csv_path(path, city, year):\n",
    "    return path + city + '_posts_' + year + '.csv'\n",
    "\n",
    "valid_langs = set(['__label__ru'])\n",
    "\n",
    "USE_PRETRAINED_MODEL = True"
   ]
  },
  {
   "cell_type": "code",
   "execution_count": 3,
   "metadata": {},
   "outputs": [
    {
     "name": "stdout",
     "output_type": "stream",
     "text": [
      "mkdir: cannot create directory ‘/data/models/ft1_ru/’: File exists\n",
      "success, vocab: 1888423\n"
     ]
    }
   ],
   "source": [
    "!mkdir {MODEL_PATH}\n",
    "class MyCorpus(object):\n",
    "    iter = 0\n",
    "    def __iter__(self):\n",
    "        self.iter += 1\n",
    "        for city in cities:\n",
    "            for year in years:\n",
    "                df = pd.read_csv(csv_path(SOURCE_PATH, city, year))\n",
    "                df = df[df.lang.isin(valid_langs)]\n",
    "                for s in df['caption']:\n",
    "                    yield s.split()\n",
    "                              \n",
    "            print(f'iter {self.iter} for {city} completed')\n",
    "                \n",
    "        print(f'\\niter {self.iter} completed\\n')\n",
    "\n",
    "sentences = MyCorpus()\n",
    "\n",
    "# dimension 300, with character n-grams of length 5, a window of size 5 and 10 negatives\n",
    "# https://fasttext.cc/docs/en/crawl-vectors.html\n",
    "\n",
    "if USE_PRETRAINED_MODEL:\n",
    "    model =  gensim.models.fasttext.load_facebook_model(MODEL_PATH + 'wiki.ru.bin')\n",
    "else:\n",
    "    model = FastText(size=300, window=5, min_count=5, word_ngrams=5, negative=10, workers=35)\n",
    "print(f'success, vocab: {len(model.wv.vocab)}')"
   ]
  },
  {
   "cell_type": "code",
   "execution_count": 4,
   "metadata": {},
   "outputs": [
    {
     "name": "stdout",
     "output_type": "stream",
     "text": [
      "building vocab\n",
      "\n",
      "iter 1 for moscow completed\n",
      "iter 1 for spb completed\n",
      "\n",
      "iter 1 completed\n",
      "\n",
      "\n",
      "corpus count: 32652789; vocab: 4192061\n",
      "end of building\n"
     ]
    }
   ],
   "source": [
    "print('building vocab\\n')\n",
    "model.build_vocab(sentences=MyCorpus(), update=True)\n",
    "total_examples = model.corpus_count\n",
    "print(f'\\ncorpus count: {total_examples}; vocab: {len(model.wv.vocab)}\\nend of building')"
   ]
  },
  {
   "cell_type": "code",
   "execution_count": 4,
   "metadata": {},
   "outputs": [
    {
     "name": "stdout",
     "output_type": "stream",
     "text": [
      "1888423\n"
     ]
    }
   ],
   "source": [
    "print(len(model.wv.vocab))"
   ]
  },
  {
   "cell_type": "code",
   "execution_count": null,
   "metadata": {},
   "outputs": [
    {
     "name": "stdout",
     "output_type": "stream",
     "text": [
      "start training\n",
      "\n"
     ]
    }
   ],
   "source": [
    "print('start training\\n')\n",
    "model.train(sentences=MyCorpus(), total_examples=total_examples, epochs=10)\n",
    "print(f'\\nend of training')"
   ]
  },
  {
   "cell_type": "code",
   "execution_count": null,
   "metadata": {},
   "outputs": [],
   "source": [
    "model.save(MODEL_PATH + 'mdl')\n",
    "\n",
    "f = open(MODEL_PATH + 'description.txt', 'w')\n",
    "f.write('date: 08.05\\n')\n",
    "f.write('params: size=300, min_count=1, window=5, negative=10, word_ngrams=5, epochs=5\\n')\n",
    "f.write(f'sourse: {SOURCE_PATH}\\n')\n",
    "f.write('cities: moscow, spb; only russian\\n')\n",
    "print('success')\n",
    "f.close()"
   ]
  },
  {
   "cell_type": "code",
   "execution_count": 9,
   "metadata": {},
   "outputs": [
    {
     "name": "stdout",
     "output_type": "stream",
     "text": [
      "0.53660005 8марта 23февраля\n",
      "0.22803883 8марта выставка\n",
      "0.27682415 8марта рождество\n",
      "0.3431545 8марта свадьба\n",
      "0.22072798 8марта 9мая\n",
      "0.124956414 8марта сплин\n",
      "0.33541226 сплин слот\n",
      "0.4532915 сплин rammstein\n",
      "0.24941845 сплин рождество\n",
      "0.1894283 сплин свадьба\n",
      "0.28343615 сплин маникюр\n",
      "0.21619888 сплин спб\n",
      "0.5292578 сплин ддт\n",
      "0.48762012 сплин концерт\n",
      "0.3917424 сплин песня\n",
      "0.40032834 сплин нойз\n",
      "0.42289874 зенит ска\n",
      "0.286868 зенит хоккей\n",
      "0.27438378 зенит баскетбол\n",
      "0.22971313 зенит сплин\n",
      "0.13205908 зенит 8марта\n",
      "0.13331057 зенит рождество\n",
      "0.28403854 зенит футбол\n",
      "0.2957577 зенит арена\n",
      "0.27713022 зенит мяч\n",
      "0.22643316 зенит гол\n",
      "0.5436301 зенит спартак\n",
      "0.19315839 зенит маникюр\n",
      "0.14836843 зенит сушь\n",
      "0.19022311 зенит тенис\n",
      "0.26732105 тенис волебол\n",
      "0.20677681 тенис марафон\n",
      "0.22909734 тенис лыжа\n",
      "0.23921612 зенит спорт\n",
      "0.19260393 тенис спорт\n",
      "0.56570345 баскетбол спорт\n",
      "0.439621 итмо университет\n",
      "False\n"
     ]
    }
   ],
   "source": [
    "with open('tests.txt') as f:\n",
    "    tests = [[word for word in line.split()] for line in f]\n",
    "\n",
    "for test in tests:\n",
    "    print(model.wv.similarity(test[0], test[1]), test[0], test[1])\n",
    "    "
   ]
  },
  {
   "cell_type": "code",
   "execution_count": 14,
   "metadata": {},
   "outputs": [
    {
     "name": "stdout",
     "output_type": "stream",
     "text": [
      "False\n"
     ]
    }
   ],
   "source": [
    "print('9мая' in model.wv.vocab)"
   ]
  },
  {
   "cell_type": "code",
   "execution_count": null,
   "metadata": {},
   "outputs": [],
   "source": []
  }
 ],
 "metadata": {
  "kernelspec": {
   "display_name": "Python 3",
   "language": "python",
   "name": "python3"
  },
  "language_info": {
   "codemirror_mode": {
    "name": "ipython",
    "version": 3
   },
   "file_extension": ".py",
   "mimetype": "text/x-python",
   "name": "python",
   "nbconvert_exporter": "python",
   "pygments_lexer": "ipython3",
   "version": "3.7.6"
  }
 },
 "nbformat": 4,
 "nbformat_minor": 4
}
