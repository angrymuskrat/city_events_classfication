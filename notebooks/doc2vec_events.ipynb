{
 "cells": [
  {
   "cell_type": "markdown",
   "metadata": {},
   "source": [
    "this notebook train doc2vec model on only events captions"
   ]
  },
  {
   "cell_type": "code",
   "execution_count": 1,
   "metadata": {},
   "outputs": [],
   "source": [
    "import numpy as np\n",
    "import pandas as pd\n",
    "import plotly.express as px\n",
    "import tools\n",
    "import d2vlib\n",
    "from gensim.models.doc2vec import Doc2Vec, TaggedDocument\n",
    "\n",
    "# init paths to data and models\n",
    "DATA_PATH = '/data/'\n",
    "\n",
    "MODEL_NAME = 'd2v_events'\n",
    "\n",
    "MODEL_PATH = DATA_PATH + f'models/{MODEL_NAME}/'\n",
    "EVENTS_PATH = DATA_PATH + 'events/lem/events.csv'\n",
    "\n",
    "\n",
    "TMP_PATH = f'{DATA_PATH}tmp/{MODEL_NAME}/'\n",
    "    \n",
    "    \n",
    "n_clusters = list(range(5, 151)) # the number of clusters to choose the optimal number\n",
    "\n",
    "import logging\n",
    "logging.basicConfig(format='%(asctime)s : %(levelname)s : %(message)s', level=logging.INFO)"
   ]
  },
  {
   "cell_type": "markdown",
   "metadata": {},
   "source": [
    "loading events and preparing them for training"
   ]
  },
  {
   "cell_type": "code",
   "execution_count": 6,
   "metadata": {},
   "outputs": [
    {
     "name": "stdout",
     "output_type": "stream",
     "text": [
      "loaded all events: 10214\n"
     ]
    }
   ],
   "source": [
    "df = tools.read_events(EVENTS_PATH)\n",
    "documents = []\n",
    "\n",
    "for index, row in df.iterrows():\n",
    "    documents.append(TaggedDocument(row.description.split(), [index]))\n",
    "    \n",
    "print(f'loaded all events: {len(documents)}')"
   ]
  },
  {
   "cell_type": "markdown",
   "metadata": {},
   "source": [
    "training doc2vec model"
   ]
  },
  {
   "cell_type": "code",
   "execution_count": 7,
   "metadata": {},
   "outputs": [
    {
     "name": "stdout",
     "output_type": "stream",
     "text": [
      "mkdir: cannot create directory ‘/data/models/d2v_events/’: File exists\r\n"
     ]
    }
   ],
   "source": [
    "model = Doc2Vec(documents, vector_size=300, window=10, min_count=5, negative=10, dm=1, dbow_words=1, epochs=200, workers=35)\n",
    "!mkdir {MODEL_PATH}\n",
    "model.save(MODEL_PATH + 'mdl')"
   ]
  },
  {
   "cell_type": "markdown",
   "metadata": {},
   "source": [
    "This cell prepare events vectors:\n",
    "1. infering vectors for events by the doc2vec model (vectors for euclidean distance)\n",
    "2. building normilized vectors for cosine distance\n",
    "3. building 2d embedding by t-sne for euclidean distance and cosine distance\n",
    "4. saving data to tmp dir"
   ]
  },
  {
   "cell_type": "code",
   "execution_count": null,
   "metadata": {},
   "outputs": [],
   "source": [
    "df = tools.read_events(EVENTS_PATH)\n",
    "X = tools.build_vectors_doc2vec(df, MODEL_PATH)\n",
    "df = tools.calculate_2d(df, X)\n",
    "\n",
    "!mkdir {TMP_PATH}\n",
    "np.save(TMP_PATH + 'X.npy', X)\n",
    "df.to_csv(r'' + TMP_PATH + 'df.csv', index=False)"
   ]
  },
  {
   "cell_type": "markdown",
   "metadata": {},
   "source": [
    "clustering of events, for each n from n_samples labels is saved in dataframe <br>\n",
    "evaluating f1-score for each clustering"
   ]
  },
  {
   "cell_type": "code",
   "execution_count": null,
   "metadata": {},
   "outputs": [],
   "source": [
    "df = tools.read_events(TMP_PATH + 'df.csv')\n",
    "df_cross = pd.read_csv('cross_valid_union.csv')\n",
    "X = np.load(TMP_PATH + 'X.npy')\n",
    "\n",
    "# def k_means_list(n_clusters: list, df: pd.DataFrame, X: np.array, n_init=50):\n",
    "df = tools.k_means_list(n_clusters, df, X)\n",
    "# def calc_scores_list(n_clusters:list, df: pd.DataFrame, pairs_df: pd.DataFrame):\n",
    "df_scores = tools.calc_scores_list(n_clusters, df, df_cross)\n",
    "\n",
    "df.to_csv(r'' + TMP_PATH + 'df_km.csv', index=False)\n",
    "df_scores.to_csv(r'' + TMP_PATH + 'scores_km.csv', index=False)"
   ]
  },
  {
   "cell_type": "code",
   "execution_count": 13,
   "metadata": {},
   "outputs": [],
   "source": [
    "df = tools.read_events(TMP_PATH + 'df.csv')\n",
    "df_cross = pd.read_csv('cross_valid_union.csv')\n",
    "X = np.load(TMP_PATH + 'X.npy')\n",
    "\n",
    "# def k_means_list(n_clusters: list, df: pd.DataFrame, X: np.array, n_init=50):\n",
    "df = tools.agglomerative_list(n_clusters, df, X)\n",
    "# def calc_scores_list(n_clusters:list, df: pd.DataFrame, pairs_df: pd.DataFrame):\n",
    "df_scores = tools.calc_scores_list(n_clusters, df, df_cross)\n",
    "\n",
    "df.to_csv(r'' + TMP_PATH + 'df_ag.csv', index=False)\n",
    "df_scores.to_csv(r'' + TMP_PATH + 'scores_ag.csv', index=False)"
   ]
  },
  {
   "cell_type": "markdown",
   "metadata": {},
   "source": [
    "finding the best f1-score and plot f1-score for diffferent number of clusters"
   ]
  },
  {
   "cell_type": "code",
   "execution_count": 19,
   "metadata": {},
   "outputs": [
    {
     "name": "stdout",
     "output_type": "stream",
     "text": [
      "{'name': 'f1', 'value': 0.7134767836919593, 'n_clusters': 29}\n"
     ]
    },
    {
     "data": {
      "application/vnd.plotly.v1+json": {
       "config": {
        "plotlyServerURL": "https://plot.ly"
       },
       "data": [
        {
         "name": "f1",
         "type": "scatter",
         "x": [
          5,
          6,
          7,
          8,
          9,
          10,
          11,
          12,
          13,
          14,
          15,
          16,
          17,
          18,
          19,
          20,
          21,
          22,
          23,
          24,
          25,
          26,
          27,
          28,
          29,
          30,
          31,
          32,
          33,
          34,
          35,
          36,
          37,
          38,
          39,
          40,
          41,
          42,
          43,
          44,
          45,
          46,
          47,
          48,
          49,
          50,
          51,
          52,
          53,
          54,
          55,
          56,
          57,
          58,
          59,
          60,
          61,
          62,
          63,
          64,
          65,
          66,
          67,
          68,
          69,
          70,
          71,
          72,
          73,
          74,
          75,
          76,
          77,
          78,
          79,
          80,
          81,
          82,
          83,
          84,
          85,
          86,
          87,
          88,
          89,
          90,
          91,
          92,
          93,
          94,
          95,
          96,
          97,
          98,
          99,
          100,
          101,
          102,
          103,
          104,
          105,
          106,
          107,
          108,
          109,
          110,
          111,
          112,
          113,
          114,
          115,
          116,
          117,
          118,
          119,
          120,
          121,
          122,
          123,
          124,
          125,
          126,
          127,
          128,
          129,
          130,
          131,
          132,
          133,
          134,
          135,
          136,
          137,
          138,
          139,
          140,
          141,
          142,
          143,
          144,
          145,
          146,
          147,
          148,
          149,
          150
         ],
         "y": [
          0.4767153485808763,
          0.5535653937140925,
          0.5942941830307522,
          0.6419141914191419,
          0.6407109606432501,
          0.6883468834688347,
          0.6290395994538007,
          0.6723063223508461,
          0.619679633867277,
          0.6205227492739593,
          0.6209503239740821,
          0.6609071274298056,
          0.663249615581753,
          0.7008368200836821,
          0.6122004357298476,
          0.6139954853273139,
          0.6622073578595318,
          0.5265415549597856,
          0.6103603603603605,
          0.6064593301435407,
          0.5605247465712582,
          0.5567632850241546,
          0.5961968680089487,
          0.5898058252427184,
          0.7134767836919593,
          0.6522753792298718,
          0.621704475781729,
          0.5521927115503397,
          0.6254501800720288,
          0.6698002350176263,
          0.5827564505978603,
          0.5717884130982368,
          0.5281329923273657,
          0.5414507772020726,
          0.6174334140435835,
          0.6018927444794951,
          0.5617128463476071,
          0.5012722646310432,
          0.6042553191489362,
          0.5943217665615141,
          0.5513157894736843,
          0.5440210249671484,
          0.5621262458471761,
          0.4889484259879437,
          0.5551969012265978,
          0.5690104166666666,
          0.4931880108991825,
          0.5914948453608246,
          0.467764060356653,
          0.5186640471512771,
          0.5808538163001293,
          0.5512227362855254,
          0.5427807486631017,
          0.4882434301521438,
          0.4,
          0.5087483176312247,
          0.4762560220233999,
          0.545819397993311,
          0.4869325997248968,
          0.44631578947368417,
          0.4520743919885552,
          0.4911564625850341,
          0.4740532959326789,
          0.4945945945945946,
          0.4658298465829847,
          0.4396551724137931,
          0.4847222222222223,
          0.4408221119773211,
          0.435032304379038,
          0.4109195402298851,
          0.5280748663101605,
          0.4642604387827318,
          0.5057627118644068,
          0.4503216583273768,
          0.4367816091954024,
          0.4955141476880608,
          0.3867158671586716,
          0.471671388101983,
          0.4562146892655367,
          0.4457142857142857,
          0.4378612716763006,
          0.434971098265896,
          0.5388251181634032,
          0.41409691629955947,
          0.4195193008011653,
          0.5187202178352621,
          0.422575976845152,
          0.4422110552763819,
          0.4745042492917848,
          0.4845505617977529,
          0.4768583450210378,
          0.4703389830508475,
          0.4425410421127767,
          0.4544802867383512,
          0.510958904109589,
          0.41587068332108745,
          0.4425287356321839,
          0.40762463343108507,
          0.4389891696750903,
          0.4821303433777155,
          0.4632929436920883,
          0.4259664478482859,
          0.43528561099060015,
          0.4582172701949861,
          0.4343434343434344,
          0.4433212996389891,
          0.40029761904761896,
          0.4788732394366198,
          0.38609467455621294,
          0.4130273871206514,
          0.4409221902017291,
          0.37462235649546827,
          0.3946784922394679,
          0.40177909562639,
          0.4008941877794336,
          0.4558404558404559,
          0.4205882352941177,
          0.3934426229508197,
          0.3964365256124722,
          0.4152046783625731,
          0.4088560885608856,
          0.472934472934473,
          0.3902439024390244,
          0.4338394793926248,
          0.4553314121037464,
          0.3898431665421957,
          0.39133681852128455,
          0.29905063291139244,
          0.3795948987246812,
          0.4170337738619677,
          0.4151223128243143,
          0.36609152288072017,
          0.4277372262773723,
          0.43313953488372103,
          0.39130434782608703,
          0.4252539912917272,
          0.3720577069096431,
          0.3811659192825112,
          0.3964497041420118,
          0.3964497041420118,
          0.4148471615720525,
          0.3685800604229607,
          0.4115044247787609,
          0.3560606060606061,
          0.3964627855563743,
          0.3471582181259601
         ]
        }
       ],
       "layout": {
        "template": {
         "data": {
          "bar": [
           {
            "error_x": {
             "color": "#2a3f5f"
            },
            "error_y": {
             "color": "#2a3f5f"
            },
            "marker": {
             "line": {
              "color": "#E5ECF6",
              "width": 0.5
             }
            },
            "type": "bar"
           }
          ],
          "barpolar": [
           {
            "marker": {
             "line": {
              "color": "#E5ECF6",
              "width": 0.5
             }
            },
            "type": "barpolar"
           }
          ],
          "carpet": [
           {
            "aaxis": {
             "endlinecolor": "#2a3f5f",
             "gridcolor": "white",
             "linecolor": "white",
             "minorgridcolor": "white",
             "startlinecolor": "#2a3f5f"
            },
            "baxis": {
             "endlinecolor": "#2a3f5f",
             "gridcolor": "white",
             "linecolor": "white",
             "minorgridcolor": "white",
             "startlinecolor": "#2a3f5f"
            },
            "type": "carpet"
           }
          ],
          "choropleth": [
           {
            "colorbar": {
             "outlinewidth": 0,
             "ticks": ""
            },
            "type": "choropleth"
           }
          ],
          "contour": [
           {
            "colorbar": {
             "outlinewidth": 0,
             "ticks": ""
            },
            "colorscale": [
             [
              0,
              "#0d0887"
             ],
             [
              0.1111111111111111,
              "#46039f"
             ],
             [
              0.2222222222222222,
              "#7201a8"
             ],
             [
              0.3333333333333333,
              "#9c179e"
             ],
             [
              0.4444444444444444,
              "#bd3786"
             ],
             [
              0.5555555555555556,
              "#d8576b"
             ],
             [
              0.6666666666666666,
              "#ed7953"
             ],
             [
              0.7777777777777778,
              "#fb9f3a"
             ],
             [
              0.8888888888888888,
              "#fdca26"
             ],
             [
              1,
              "#f0f921"
             ]
            ],
            "type": "contour"
           }
          ],
          "contourcarpet": [
           {
            "colorbar": {
             "outlinewidth": 0,
             "ticks": ""
            },
            "type": "contourcarpet"
           }
          ],
          "heatmap": [
           {
            "colorbar": {
             "outlinewidth": 0,
             "ticks": ""
            },
            "colorscale": [
             [
              0,
              "#0d0887"
             ],
             [
              0.1111111111111111,
              "#46039f"
             ],
             [
              0.2222222222222222,
              "#7201a8"
             ],
             [
              0.3333333333333333,
              "#9c179e"
             ],
             [
              0.4444444444444444,
              "#bd3786"
             ],
             [
              0.5555555555555556,
              "#d8576b"
             ],
             [
              0.6666666666666666,
              "#ed7953"
             ],
             [
              0.7777777777777778,
              "#fb9f3a"
             ],
             [
              0.8888888888888888,
              "#fdca26"
             ],
             [
              1,
              "#f0f921"
             ]
            ],
            "type": "heatmap"
           }
          ],
          "heatmapgl": [
           {
            "colorbar": {
             "outlinewidth": 0,
             "ticks": ""
            },
            "colorscale": [
             [
              0,
              "#0d0887"
             ],
             [
              0.1111111111111111,
              "#46039f"
             ],
             [
              0.2222222222222222,
              "#7201a8"
             ],
             [
              0.3333333333333333,
              "#9c179e"
             ],
             [
              0.4444444444444444,
              "#bd3786"
             ],
             [
              0.5555555555555556,
              "#d8576b"
             ],
             [
              0.6666666666666666,
              "#ed7953"
             ],
             [
              0.7777777777777778,
              "#fb9f3a"
             ],
             [
              0.8888888888888888,
              "#fdca26"
             ],
             [
              1,
              "#f0f921"
             ]
            ],
            "type": "heatmapgl"
           }
          ],
          "histogram": [
           {
            "marker": {
             "colorbar": {
              "outlinewidth": 0,
              "ticks": ""
             }
            },
            "type": "histogram"
           }
          ],
          "histogram2d": [
           {
            "colorbar": {
             "outlinewidth": 0,
             "ticks": ""
            },
            "colorscale": [
             [
              0,
              "#0d0887"
             ],
             [
              0.1111111111111111,
              "#46039f"
             ],
             [
              0.2222222222222222,
              "#7201a8"
             ],
             [
              0.3333333333333333,
              "#9c179e"
             ],
             [
              0.4444444444444444,
              "#bd3786"
             ],
             [
              0.5555555555555556,
              "#d8576b"
             ],
             [
              0.6666666666666666,
              "#ed7953"
             ],
             [
              0.7777777777777778,
              "#fb9f3a"
             ],
             [
              0.8888888888888888,
              "#fdca26"
             ],
             [
              1,
              "#f0f921"
             ]
            ],
            "type": "histogram2d"
           }
          ],
          "histogram2dcontour": [
           {
            "colorbar": {
             "outlinewidth": 0,
             "ticks": ""
            },
            "colorscale": [
             [
              0,
              "#0d0887"
             ],
             [
              0.1111111111111111,
              "#46039f"
             ],
             [
              0.2222222222222222,
              "#7201a8"
             ],
             [
              0.3333333333333333,
              "#9c179e"
             ],
             [
              0.4444444444444444,
              "#bd3786"
             ],
             [
              0.5555555555555556,
              "#d8576b"
             ],
             [
              0.6666666666666666,
              "#ed7953"
             ],
             [
              0.7777777777777778,
              "#fb9f3a"
             ],
             [
              0.8888888888888888,
              "#fdca26"
             ],
             [
              1,
              "#f0f921"
             ]
            ],
            "type": "histogram2dcontour"
           }
          ],
          "mesh3d": [
           {
            "colorbar": {
             "outlinewidth": 0,
             "ticks": ""
            },
            "type": "mesh3d"
           }
          ],
          "parcoords": [
           {
            "line": {
             "colorbar": {
              "outlinewidth": 0,
              "ticks": ""
             }
            },
            "type": "parcoords"
           }
          ],
          "pie": [
           {
            "automargin": true,
            "type": "pie"
           }
          ],
          "scatter": [
           {
            "marker": {
             "colorbar": {
              "outlinewidth": 0,
              "ticks": ""
             }
            },
            "type": "scatter"
           }
          ],
          "scatter3d": [
           {
            "line": {
             "colorbar": {
              "outlinewidth": 0,
              "ticks": ""
             }
            },
            "marker": {
             "colorbar": {
              "outlinewidth": 0,
              "ticks": ""
             }
            },
            "type": "scatter3d"
           }
          ],
          "scattercarpet": [
           {
            "marker": {
             "colorbar": {
              "outlinewidth": 0,
              "ticks": ""
             }
            },
            "type": "scattercarpet"
           }
          ],
          "scattergeo": [
           {
            "marker": {
             "colorbar": {
              "outlinewidth": 0,
              "ticks": ""
             }
            },
            "type": "scattergeo"
           }
          ],
          "scattergl": [
           {
            "marker": {
             "colorbar": {
              "outlinewidth": 0,
              "ticks": ""
             }
            },
            "type": "scattergl"
           }
          ],
          "scattermapbox": [
           {
            "marker": {
             "colorbar": {
              "outlinewidth": 0,
              "ticks": ""
             }
            },
            "type": "scattermapbox"
           }
          ],
          "scatterpolar": [
           {
            "marker": {
             "colorbar": {
              "outlinewidth": 0,
              "ticks": ""
             }
            },
            "type": "scatterpolar"
           }
          ],
          "scatterpolargl": [
           {
            "marker": {
             "colorbar": {
              "outlinewidth": 0,
              "ticks": ""
             }
            },
            "type": "scatterpolargl"
           }
          ],
          "scatterternary": [
           {
            "marker": {
             "colorbar": {
              "outlinewidth": 0,
              "ticks": ""
             }
            },
            "type": "scatterternary"
           }
          ],
          "surface": [
           {
            "colorbar": {
             "outlinewidth": 0,
             "ticks": ""
            },
            "colorscale": [
             [
              0,
              "#0d0887"
             ],
             [
              0.1111111111111111,
              "#46039f"
             ],
             [
              0.2222222222222222,
              "#7201a8"
             ],
             [
              0.3333333333333333,
              "#9c179e"
             ],
             [
              0.4444444444444444,
              "#bd3786"
             ],
             [
              0.5555555555555556,
              "#d8576b"
             ],
             [
              0.6666666666666666,
              "#ed7953"
             ],
             [
              0.7777777777777778,
              "#fb9f3a"
             ],
             [
              0.8888888888888888,
              "#fdca26"
             ],
             [
              1,
              "#f0f921"
             ]
            ],
            "type": "surface"
           }
          ],
          "table": [
           {
            "cells": {
             "fill": {
              "color": "#EBF0F8"
             },
             "line": {
              "color": "white"
             }
            },
            "header": {
             "fill": {
              "color": "#C8D4E3"
             },
             "line": {
              "color": "white"
             }
            },
            "type": "table"
           }
          ]
         },
         "layout": {
          "annotationdefaults": {
           "arrowcolor": "#2a3f5f",
           "arrowhead": 0,
           "arrowwidth": 1
          },
          "coloraxis": {
           "colorbar": {
            "outlinewidth": 0,
            "ticks": ""
           }
          },
          "colorscale": {
           "diverging": [
            [
             0,
             "#8e0152"
            ],
            [
             0.1,
             "#c51b7d"
            ],
            [
             0.2,
             "#de77ae"
            ],
            [
             0.3,
             "#f1b6da"
            ],
            [
             0.4,
             "#fde0ef"
            ],
            [
             0.5,
             "#f7f7f7"
            ],
            [
             0.6,
             "#e6f5d0"
            ],
            [
             0.7,
             "#b8e186"
            ],
            [
             0.8,
             "#7fbc41"
            ],
            [
             0.9,
             "#4d9221"
            ],
            [
             1,
             "#276419"
            ]
           ],
           "sequential": [
            [
             0,
             "#0d0887"
            ],
            [
             0.1111111111111111,
             "#46039f"
            ],
            [
             0.2222222222222222,
             "#7201a8"
            ],
            [
             0.3333333333333333,
             "#9c179e"
            ],
            [
             0.4444444444444444,
             "#bd3786"
            ],
            [
             0.5555555555555556,
             "#d8576b"
            ],
            [
             0.6666666666666666,
             "#ed7953"
            ],
            [
             0.7777777777777778,
             "#fb9f3a"
            ],
            [
             0.8888888888888888,
             "#fdca26"
            ],
            [
             1,
             "#f0f921"
            ]
           ],
           "sequentialminus": [
            [
             0,
             "#0d0887"
            ],
            [
             0.1111111111111111,
             "#46039f"
            ],
            [
             0.2222222222222222,
             "#7201a8"
            ],
            [
             0.3333333333333333,
             "#9c179e"
            ],
            [
             0.4444444444444444,
             "#bd3786"
            ],
            [
             0.5555555555555556,
             "#d8576b"
            ],
            [
             0.6666666666666666,
             "#ed7953"
            ],
            [
             0.7777777777777778,
             "#fb9f3a"
            ],
            [
             0.8888888888888888,
             "#fdca26"
            ],
            [
             1,
             "#f0f921"
            ]
           ]
          },
          "colorway": [
           "#636efa",
           "#EF553B",
           "#00cc96",
           "#ab63fa",
           "#FFA15A",
           "#19d3f3",
           "#FF6692",
           "#B6E880",
           "#FF97FF",
           "#FECB52"
          ],
          "font": {
           "color": "#2a3f5f"
          },
          "geo": {
           "bgcolor": "white",
           "lakecolor": "white",
           "landcolor": "#E5ECF6",
           "showlakes": true,
           "showland": true,
           "subunitcolor": "white"
          },
          "hoverlabel": {
           "align": "left"
          },
          "hovermode": "closest",
          "mapbox": {
           "style": "light"
          },
          "paper_bgcolor": "white",
          "plot_bgcolor": "#E5ECF6",
          "polar": {
           "angularaxis": {
            "gridcolor": "white",
            "linecolor": "white",
            "ticks": ""
           },
           "bgcolor": "#E5ECF6",
           "radialaxis": {
            "gridcolor": "white",
            "linecolor": "white",
            "ticks": ""
           }
          },
          "scene": {
           "xaxis": {
            "backgroundcolor": "#E5ECF6",
            "gridcolor": "white",
            "gridwidth": 2,
            "linecolor": "white",
            "showbackground": true,
            "ticks": "",
            "zerolinecolor": "white"
           },
           "yaxis": {
            "backgroundcolor": "#E5ECF6",
            "gridcolor": "white",
            "gridwidth": 2,
            "linecolor": "white",
            "showbackground": true,
            "ticks": "",
            "zerolinecolor": "white"
           },
           "zaxis": {
            "backgroundcolor": "#E5ECF6",
            "gridcolor": "white",
            "gridwidth": 2,
            "linecolor": "white",
            "showbackground": true,
            "ticks": "",
            "zerolinecolor": "white"
           }
          },
          "shapedefaults": {
           "line": {
            "color": "#2a3f5f"
           }
          },
          "ternary": {
           "aaxis": {
            "gridcolor": "white",
            "linecolor": "white",
            "ticks": ""
           },
           "baxis": {
            "gridcolor": "white",
            "linecolor": "white",
            "ticks": ""
           },
           "bgcolor": "#E5ECF6",
           "caxis": {
            "gridcolor": "white",
            "linecolor": "white",
            "ticks": ""
           }
          },
          "title": {
           "x": 0.05
          },
          "xaxis": {
           "automargin": true,
           "gridcolor": "white",
           "linecolor": "white",
           "ticks": "",
           "title": {
            "standoff": 15
           },
           "zerolinecolor": "white",
           "zerolinewidth": 2
          },
          "yaxis": {
           "automargin": true,
           "gridcolor": "white",
           "linecolor": "white",
           "ticks": "",
           "title": {
            "standoff": 15
           },
           "zerolinecolor": "white",
           "zerolinewidth": 2
          }
         }
        },
        "xaxis": {
         "title": {
          "text": "n clusters"
         }
        },
        "yaxis": {
         "title": {
          "text": "score value"
         }
        }
       }
      },
      "text/html": [
       "<div>\n",
       "        \n",
       "        \n",
       "            <div id=\"a7ea0b13-5d30-4c67-b8b6-181915ab5632\" class=\"plotly-graph-div\" style=\"height:525px; width:100%;\"></div>\n",
       "            <script type=\"text/javascript\">\n",
       "                require([\"plotly\"], function(Plotly) {\n",
       "                    window.PLOTLYENV=window.PLOTLYENV || {};\n",
       "                    \n",
       "                if (document.getElementById(\"a7ea0b13-5d30-4c67-b8b6-181915ab5632\")) {\n",
       "                    Plotly.newPlot(\n",
       "                        'a7ea0b13-5d30-4c67-b8b6-181915ab5632',\n",
       "                        [{\"name\": \"f1\", \"type\": \"scatter\", \"x\": [5, 6, 7, 8, 9, 10, 11, 12, 13, 14, 15, 16, 17, 18, 19, 20, 21, 22, 23, 24, 25, 26, 27, 28, 29, 30, 31, 32, 33, 34, 35, 36, 37, 38, 39, 40, 41, 42, 43, 44, 45, 46, 47, 48, 49, 50, 51, 52, 53, 54, 55, 56, 57, 58, 59, 60, 61, 62, 63, 64, 65, 66, 67, 68, 69, 70, 71, 72, 73, 74, 75, 76, 77, 78, 79, 80, 81, 82, 83, 84, 85, 86, 87, 88, 89, 90, 91, 92, 93, 94, 95, 96, 97, 98, 99, 100, 101, 102, 103, 104, 105, 106, 107, 108, 109, 110, 111, 112, 113, 114, 115, 116, 117, 118, 119, 120, 121, 122, 123, 124, 125, 126, 127, 128, 129, 130, 131, 132, 133, 134, 135, 136, 137, 138, 139, 140, 141, 142, 143, 144, 145, 146, 147, 148, 149, 150], \"y\": [0.4767153485808763, 0.5535653937140925, 0.5942941830307522, 0.6419141914191419, 0.6407109606432501, 0.6883468834688347, 0.6290395994538007, 0.6723063223508461, 0.619679633867277, 0.6205227492739593, 0.6209503239740821, 0.6609071274298056, 0.663249615581753, 0.7008368200836821, 0.6122004357298476, 0.6139954853273139, 0.6622073578595318, 0.5265415549597856, 0.6103603603603605, 0.6064593301435407, 0.5605247465712582, 0.5567632850241546, 0.5961968680089487, 0.5898058252427184, 0.7134767836919593, 0.6522753792298718, 0.621704475781729, 0.5521927115503397, 0.6254501800720288, 0.6698002350176263, 0.5827564505978603, 0.5717884130982368, 0.5281329923273657, 0.5414507772020726, 0.6174334140435835, 0.6018927444794951, 0.5617128463476071, 0.5012722646310432, 0.6042553191489362, 0.5943217665615141, 0.5513157894736843, 0.5440210249671484, 0.5621262458471761, 0.4889484259879437, 0.5551969012265978, 0.5690104166666666, 0.4931880108991825, 0.5914948453608246, 0.467764060356653, 0.5186640471512771, 0.5808538163001293, 0.5512227362855254, 0.5427807486631017, 0.4882434301521438, 0.4, 0.5087483176312247, 0.4762560220233999, 0.545819397993311, 0.4869325997248968, 0.44631578947368417, 0.4520743919885552, 0.4911564625850341, 0.4740532959326789, 0.4945945945945946, 0.4658298465829847, 0.4396551724137931, 0.4847222222222223, 0.4408221119773211, 0.435032304379038, 0.4109195402298851, 0.5280748663101605, 0.4642604387827318, 0.5057627118644068, 0.4503216583273768, 0.4367816091954024, 0.4955141476880608, 0.3867158671586716, 0.471671388101983, 0.4562146892655367, 0.4457142857142857, 0.4378612716763006, 0.434971098265896, 0.5388251181634032, 0.41409691629955947, 0.4195193008011653, 0.5187202178352621, 0.422575976845152, 0.4422110552763819, 0.4745042492917848, 0.4845505617977529, 0.4768583450210378, 0.4703389830508475, 0.4425410421127767, 0.4544802867383512, 0.510958904109589, 0.41587068332108745, 0.4425287356321839, 0.40762463343108507, 0.4389891696750903, 0.4821303433777155, 0.4632929436920883, 0.4259664478482859, 0.43528561099060015, 0.4582172701949861, 0.4343434343434344, 0.4433212996389891, 0.40029761904761896, 0.4788732394366198, 0.38609467455621294, 0.4130273871206514, 0.4409221902017291, 0.37462235649546827, 0.3946784922394679, 0.40177909562639, 0.4008941877794336, 0.4558404558404559, 0.4205882352941177, 0.3934426229508197, 0.3964365256124722, 0.4152046783625731, 0.4088560885608856, 0.472934472934473, 0.3902439024390244, 0.4338394793926248, 0.4553314121037464, 0.3898431665421957, 0.39133681852128455, 0.29905063291139244, 0.3795948987246812, 0.4170337738619677, 0.4151223128243143, 0.36609152288072017, 0.4277372262773723, 0.43313953488372103, 0.39130434782608703, 0.4252539912917272, 0.3720577069096431, 0.3811659192825112, 0.3964497041420118, 0.3964497041420118, 0.4148471615720525, 0.3685800604229607, 0.4115044247787609, 0.3560606060606061, 0.3964627855563743, 0.3471582181259601]}],\n",
       "                        {\"template\": {\"data\": {\"bar\": [{\"error_x\": {\"color\": \"#2a3f5f\"}, \"error_y\": {\"color\": \"#2a3f5f\"}, \"marker\": {\"line\": {\"color\": \"#E5ECF6\", \"width\": 0.5}}, \"type\": \"bar\"}], \"barpolar\": [{\"marker\": {\"line\": {\"color\": \"#E5ECF6\", \"width\": 0.5}}, \"type\": \"barpolar\"}], \"carpet\": [{\"aaxis\": {\"endlinecolor\": \"#2a3f5f\", \"gridcolor\": \"white\", \"linecolor\": \"white\", \"minorgridcolor\": \"white\", \"startlinecolor\": \"#2a3f5f\"}, \"baxis\": {\"endlinecolor\": \"#2a3f5f\", \"gridcolor\": \"white\", \"linecolor\": \"white\", \"minorgridcolor\": \"white\", \"startlinecolor\": \"#2a3f5f\"}, \"type\": \"carpet\"}], \"choropleth\": [{\"colorbar\": {\"outlinewidth\": 0, \"ticks\": \"\"}, \"type\": \"choropleth\"}], \"contour\": [{\"colorbar\": {\"outlinewidth\": 0, \"ticks\": \"\"}, \"colorscale\": [[0.0, \"#0d0887\"], [0.1111111111111111, \"#46039f\"], [0.2222222222222222, \"#7201a8\"], [0.3333333333333333, \"#9c179e\"], [0.4444444444444444, \"#bd3786\"], [0.5555555555555556, \"#d8576b\"], [0.6666666666666666, \"#ed7953\"], [0.7777777777777778, \"#fb9f3a\"], [0.8888888888888888, \"#fdca26\"], [1.0, \"#f0f921\"]], \"type\": \"contour\"}], \"contourcarpet\": [{\"colorbar\": {\"outlinewidth\": 0, \"ticks\": \"\"}, \"type\": \"contourcarpet\"}], \"heatmap\": [{\"colorbar\": {\"outlinewidth\": 0, \"ticks\": \"\"}, \"colorscale\": [[0.0, \"#0d0887\"], [0.1111111111111111, \"#46039f\"], [0.2222222222222222, \"#7201a8\"], [0.3333333333333333, \"#9c179e\"], [0.4444444444444444, \"#bd3786\"], [0.5555555555555556, \"#d8576b\"], [0.6666666666666666, \"#ed7953\"], [0.7777777777777778, \"#fb9f3a\"], [0.8888888888888888, \"#fdca26\"], [1.0, \"#f0f921\"]], \"type\": \"heatmap\"}], \"heatmapgl\": [{\"colorbar\": {\"outlinewidth\": 0, \"ticks\": \"\"}, \"colorscale\": [[0.0, \"#0d0887\"], [0.1111111111111111, \"#46039f\"], [0.2222222222222222, \"#7201a8\"], [0.3333333333333333, \"#9c179e\"], [0.4444444444444444, \"#bd3786\"], [0.5555555555555556, \"#d8576b\"], [0.6666666666666666, \"#ed7953\"], [0.7777777777777778, \"#fb9f3a\"], [0.8888888888888888, \"#fdca26\"], [1.0, \"#f0f921\"]], \"type\": \"heatmapgl\"}], \"histogram\": [{\"marker\": {\"colorbar\": {\"outlinewidth\": 0, \"ticks\": \"\"}}, \"type\": \"histogram\"}], \"histogram2d\": [{\"colorbar\": {\"outlinewidth\": 0, \"ticks\": \"\"}, \"colorscale\": [[0.0, \"#0d0887\"], [0.1111111111111111, \"#46039f\"], [0.2222222222222222, \"#7201a8\"], [0.3333333333333333, \"#9c179e\"], [0.4444444444444444, \"#bd3786\"], [0.5555555555555556, \"#d8576b\"], [0.6666666666666666, \"#ed7953\"], [0.7777777777777778, \"#fb9f3a\"], [0.8888888888888888, \"#fdca26\"], [1.0, \"#f0f921\"]], \"type\": \"histogram2d\"}], \"histogram2dcontour\": [{\"colorbar\": {\"outlinewidth\": 0, \"ticks\": \"\"}, \"colorscale\": [[0.0, \"#0d0887\"], [0.1111111111111111, \"#46039f\"], [0.2222222222222222, \"#7201a8\"], [0.3333333333333333, \"#9c179e\"], [0.4444444444444444, \"#bd3786\"], [0.5555555555555556, \"#d8576b\"], [0.6666666666666666, \"#ed7953\"], [0.7777777777777778, \"#fb9f3a\"], [0.8888888888888888, \"#fdca26\"], [1.0, \"#f0f921\"]], \"type\": \"histogram2dcontour\"}], \"mesh3d\": [{\"colorbar\": {\"outlinewidth\": 0, \"ticks\": \"\"}, \"type\": \"mesh3d\"}], \"parcoords\": [{\"line\": {\"colorbar\": {\"outlinewidth\": 0, \"ticks\": \"\"}}, \"type\": \"parcoords\"}], \"pie\": [{\"automargin\": true, \"type\": \"pie\"}], \"scatter\": [{\"marker\": {\"colorbar\": {\"outlinewidth\": 0, \"ticks\": \"\"}}, \"type\": \"scatter\"}], \"scatter3d\": [{\"line\": {\"colorbar\": {\"outlinewidth\": 0, \"ticks\": \"\"}}, \"marker\": {\"colorbar\": {\"outlinewidth\": 0, \"ticks\": \"\"}}, \"type\": \"scatter3d\"}], \"scattercarpet\": [{\"marker\": {\"colorbar\": {\"outlinewidth\": 0, \"ticks\": \"\"}}, \"type\": \"scattercarpet\"}], \"scattergeo\": [{\"marker\": {\"colorbar\": {\"outlinewidth\": 0, \"ticks\": \"\"}}, \"type\": \"scattergeo\"}], \"scattergl\": [{\"marker\": {\"colorbar\": {\"outlinewidth\": 0, \"ticks\": \"\"}}, \"type\": \"scattergl\"}], \"scattermapbox\": [{\"marker\": {\"colorbar\": {\"outlinewidth\": 0, \"ticks\": \"\"}}, \"type\": \"scattermapbox\"}], \"scatterpolar\": [{\"marker\": {\"colorbar\": {\"outlinewidth\": 0, \"ticks\": \"\"}}, \"type\": \"scatterpolar\"}], \"scatterpolargl\": [{\"marker\": {\"colorbar\": {\"outlinewidth\": 0, \"ticks\": \"\"}}, \"type\": \"scatterpolargl\"}], \"scatterternary\": [{\"marker\": {\"colorbar\": {\"outlinewidth\": 0, \"ticks\": \"\"}}, \"type\": \"scatterternary\"}], \"surface\": [{\"colorbar\": {\"outlinewidth\": 0, \"ticks\": \"\"}, \"colorscale\": [[0.0, \"#0d0887\"], [0.1111111111111111, \"#46039f\"], [0.2222222222222222, \"#7201a8\"], [0.3333333333333333, \"#9c179e\"], [0.4444444444444444, \"#bd3786\"], [0.5555555555555556, \"#d8576b\"], [0.6666666666666666, \"#ed7953\"], [0.7777777777777778, \"#fb9f3a\"], [0.8888888888888888, \"#fdca26\"], [1.0, \"#f0f921\"]], \"type\": \"surface\"}], \"table\": [{\"cells\": {\"fill\": {\"color\": \"#EBF0F8\"}, \"line\": {\"color\": \"white\"}}, \"header\": {\"fill\": {\"color\": \"#C8D4E3\"}, \"line\": {\"color\": \"white\"}}, \"type\": \"table\"}]}, \"layout\": {\"annotationdefaults\": {\"arrowcolor\": \"#2a3f5f\", \"arrowhead\": 0, \"arrowwidth\": 1}, \"coloraxis\": {\"colorbar\": {\"outlinewidth\": 0, \"ticks\": \"\"}}, \"colorscale\": {\"diverging\": [[0, \"#8e0152\"], [0.1, \"#c51b7d\"], [0.2, \"#de77ae\"], [0.3, \"#f1b6da\"], [0.4, \"#fde0ef\"], [0.5, \"#f7f7f7\"], [0.6, \"#e6f5d0\"], [0.7, \"#b8e186\"], [0.8, \"#7fbc41\"], [0.9, \"#4d9221\"], [1, \"#276419\"]], \"sequential\": [[0.0, \"#0d0887\"], [0.1111111111111111, \"#46039f\"], [0.2222222222222222, \"#7201a8\"], [0.3333333333333333, \"#9c179e\"], [0.4444444444444444, \"#bd3786\"], [0.5555555555555556, \"#d8576b\"], [0.6666666666666666, \"#ed7953\"], [0.7777777777777778, \"#fb9f3a\"], [0.8888888888888888, \"#fdca26\"], [1.0, \"#f0f921\"]], \"sequentialminus\": [[0.0, \"#0d0887\"], [0.1111111111111111, \"#46039f\"], [0.2222222222222222, \"#7201a8\"], [0.3333333333333333, \"#9c179e\"], [0.4444444444444444, \"#bd3786\"], [0.5555555555555556, \"#d8576b\"], [0.6666666666666666, \"#ed7953\"], [0.7777777777777778, \"#fb9f3a\"], [0.8888888888888888, \"#fdca26\"], [1.0, \"#f0f921\"]]}, \"colorway\": [\"#636efa\", \"#EF553B\", \"#00cc96\", \"#ab63fa\", \"#FFA15A\", \"#19d3f3\", \"#FF6692\", \"#B6E880\", \"#FF97FF\", \"#FECB52\"], \"font\": {\"color\": \"#2a3f5f\"}, \"geo\": {\"bgcolor\": \"white\", \"lakecolor\": \"white\", \"landcolor\": \"#E5ECF6\", \"showlakes\": true, \"showland\": true, \"subunitcolor\": \"white\"}, \"hoverlabel\": {\"align\": \"left\"}, \"hovermode\": \"closest\", \"mapbox\": {\"style\": \"light\"}, \"paper_bgcolor\": \"white\", \"plot_bgcolor\": \"#E5ECF6\", \"polar\": {\"angularaxis\": {\"gridcolor\": \"white\", \"linecolor\": \"white\", \"ticks\": \"\"}, \"bgcolor\": \"#E5ECF6\", \"radialaxis\": {\"gridcolor\": \"white\", \"linecolor\": \"white\", \"ticks\": \"\"}}, \"scene\": {\"xaxis\": {\"backgroundcolor\": \"#E5ECF6\", \"gridcolor\": \"white\", \"gridwidth\": 2, \"linecolor\": \"white\", \"showbackground\": true, \"ticks\": \"\", \"zerolinecolor\": \"white\"}, \"yaxis\": {\"backgroundcolor\": \"#E5ECF6\", \"gridcolor\": \"white\", \"gridwidth\": 2, \"linecolor\": \"white\", \"showbackground\": true, \"ticks\": \"\", \"zerolinecolor\": \"white\"}, \"zaxis\": {\"backgroundcolor\": \"#E5ECF6\", \"gridcolor\": \"white\", \"gridwidth\": 2, \"linecolor\": \"white\", \"showbackground\": true, \"ticks\": \"\", \"zerolinecolor\": \"white\"}}, \"shapedefaults\": {\"line\": {\"color\": \"#2a3f5f\"}}, \"ternary\": {\"aaxis\": {\"gridcolor\": \"white\", \"linecolor\": \"white\", \"ticks\": \"\"}, \"baxis\": {\"gridcolor\": \"white\", \"linecolor\": \"white\", \"ticks\": \"\"}, \"bgcolor\": \"#E5ECF6\", \"caxis\": {\"gridcolor\": \"white\", \"linecolor\": \"white\", \"ticks\": \"\"}}, \"title\": {\"x\": 0.05}, \"xaxis\": {\"automargin\": true, \"gridcolor\": \"white\", \"linecolor\": \"white\", \"ticks\": \"\", \"title\": {\"standoff\": 15}, \"zerolinecolor\": \"white\", \"zerolinewidth\": 2}, \"yaxis\": {\"automargin\": true, \"gridcolor\": \"white\", \"linecolor\": \"white\", \"ticks\": \"\", \"title\": {\"standoff\": 15}, \"zerolinecolor\": \"white\", \"zerolinewidth\": 2}}}, \"xaxis\": {\"title\": {\"text\": \"n clusters\"}}, \"yaxis\": {\"title\": {\"text\": \"score value\"}}},\n",
       "                        {\"responsive\": true}\n",
       "                    ).then(function(){\n",
       "                            \n",
       "var gd = document.getElementById('a7ea0b13-5d30-4c67-b8b6-181915ab5632');\n",
       "var x = new MutationObserver(function (mutations, observer) {{\n",
       "        var display = window.getComputedStyle(gd).display;\n",
       "        if (!display || display === 'none') {{\n",
       "            console.log([gd, 'removed!']);\n",
       "            Plotly.purge(gd);\n",
       "            observer.disconnect();\n",
       "        }}\n",
       "}});\n",
       "\n",
       "// Listen for the removal of the full notebook cells\n",
       "var notebookContainer = gd.closest('#notebook-container');\n",
       "if (notebookContainer) {{\n",
       "    x.observe(notebookContainer, {childList: true});\n",
       "}}\n",
       "\n",
       "// Listen for the clearing of the current output cell\n",
       "var outputEl = gd.closest('.output');\n",
       "if (outputEl) {{\n",
       "    x.observe(outputEl, {childList: true});\n",
       "}}\n",
       "\n",
       "                        })\n",
       "                };\n",
       "                });\n",
       "            </script>\n",
       "        </div>"
      ]
     },
     "metadata": {},
     "output_type": "display_data"
    },
    {
     "data": {
      "application/vnd.plotly.v1+json": {
       "config": {
        "plotlyServerURL": "https://plot.ly"
       },
       "data": [
        {
         "hovertemplate": "<b>%{hovertext}</b><br><br>x=%{x}<br>y=%{y}<br>size=%{marker.size}<br>text=%{text}<br>label=%{marker.color}<extra></extra>",
         "hovertext": [
          "skolkovo<br>2019<br>инновации<br>городобразования<br>сколтех<br>международныйфорум<br>остров1022<br>edu2035<br>openinnovations<br>innovations<br>городобразования2019<br>cityforeducation<br>экспоцентр<br>островитяне1022<br>moscoweducation",
          "интершарм2019<br>intercharm2019<br>интершарм<br>intercharm<br>@intercharm_ru<br>крокусэкспо<br>крокусситихолл<br>intersharm2019<br>тотсамыйинтершарм<br>intersharm<br>интершарм2019москва<br>crocuscityhall<br>крокусэкспо2019<br>@dr<br>мамаянаbeautyday",
          "севкабельпорт<br>севкабель<br>sevkabelport<br>@sevcableport<br>портсевкабель<br>sevcabelport<br>sevkabel<br>лето2019<br>sevcableport<br>port<br>маркетуморя<br>стереолето<br>катокуморя<br>stereoleto<br>stereoleto2019",
          "циркчудес<br>щелкунчикплющенко<br>ледовоешоу<br>плющенко<br>@plushenkoofficial<br>@wonder<br>@rudkovskayaofficial<br>ледовый<br>евгенийплющенко<br>bolshoitheatre<br>лебединоеозеро<br>icepalace<br>@gnomgnomych<br>аделинасотникова<br>notredamedeparis",
          "деньпобеды<br>9мая<br>9мая2019<br>деньпобеды2019<br>бессмертныйполк<br>сднемпобеды<br>спасибодедузапобеду<br>великаяпобеда<br>victoryday<br>май<br>япомнюягоржусь<br>никтонезабытничтонезабыто<br>никтонезабыт<br>9may<br>парадпобеды",
          "кхл<br>ледовый<br>2019<br>hcska<br>новыйгод<br>2020<br>a2greenconcert<br>piratestation<br>лето2019<br>байервиталии<br>женскиебренды<br>брендовыеаксессуары<br>женскиеаксессуары<br>брендыизиталии<br>шоппингвиталии",
          "севкабельпорт<br>@sevcableport<br>севкабель<br>sevkabelport<br>портсевкабель<br>маркетуморя<br>@market_u_morya<br>cpmmoscow<br>sevkabel<br>лето2019<br>маркет<br>экспоцентр<br>cpm<br>stereoleto2019<br>market_u_morya",
          "рпл<br>газпромарена<br>кхл<br>spartak<br>спартакмосква<br>@zenit_spb<br>spartakmoscow<br>краснобелые<br>фкзенит<br>fcsm<br>khl<br>fczenit<br>открытиеарена<br>синебелоголубые<br>сбг",
          "estetfashionweek<br>estetfw<br>estetfashionweek2019<br>estet<br>ювелирныйдомэстет<br>неделямоды<br>@estetfw<br>эстет<br>efw<br>показмод<br>показ<br>estetfw2019<br>неделямодывмоскве2019<br>подиум<br>efw2019",
          "sgf2019<br>synergyglobalforum<br>@oskar_hartmann<br>синергия<br>synergy<br>газпромарена<br>@schwarzenegger<br>synergyglobalforum2019<br>бизнесфорум<br>sgf<br>@rybakov_igor<br>sinergyglobalforum<br>@bssynergy<br>арнольдшварценеггер<br>синерджиглобалфорум",
          "карантин<br>сидимдома<br>самоизоляция<br>stayhome<br>оставайсядома<br>пасха<br>карантин2020<br>оставайтесьдома<br>коронавирус<br>coronavirus<br>весна2020<br>quarantine<br>короновирус<br>лучшедома<br>самоизоляция2020",
          "erarta<br>ducati<br>erarta_museum<br>масленица<br>мотовыставка<br>2020<br>мотовесна<br>@erarta_museum<br>эрарта_музей<br>мотовесна2019<br>весна2019<br>масленица2020<br>фридакало<br>музейфаберже<br>диегоривера",
          "23февраля<br>2020<br>сднемзащитникаотечества<br>мужскойпраздник<br>мужскойдень<br>деньзащитника<br>8марта<br>с23февраля<br>защитники<br>защитникиотечества<br>деньмужчин<br>23февраля2020<br>праздникмужчин<br>деньзащитникаотечества<br>спраздникоммужчины",
          "ледовый<br>димабилан<br>билан<br>@bilanofficial<br>планетабилан<br>icepalace<br>крокусситихолл<br>dimabilan<br>bilan<br>группировкаленинград<br>crocuscityhall<br>полинагагарина<br>roofplace<br>сибурарена<br>юбилейный",
          "гонкагероев<br>алабино<br>лигагероев<br>забегрф<br>herorace<br>забег<br>беганутые<br>гонкагероев2019<br>ocr<br>heroleague<br>беговоесообщество<br>@hero_race<br>2019<br>полигоналабино<br>московскийполумарафон",
          "8марта<br>женскийдень<br>весна2020<br>8марта2020<br>2020<br>женскийпраздник<br>с8марта<br>8march<br>кремлевскийдворец<br>праздниквесны<br>гкд<br>спраздникомдевочки<br>будьтесчастливывсегда<br>филиппкиркоров<br>восьмоемарта",
          "май<br>ботаническийсад<br>весна2019<br>фестивальтюльпанов<br>аптекарскийогород<br>sakura<br>botanicalgarden<br>ботаническийсадмгу<br>@hortus_ru<br>саддружбы<br>цветениесакуры<br>фестивальтюльпанов2019<br>тюльпаномания<br>фестивальтюльпановспб<br>елагинпарк",
          "a2greenconcert<br>a2<br>а2<br>юбилейный<br>adrenalinestadium<br>ледовый<br>порнофильмы<br>2020<br>а2greenconcert<br>@punkmovies<br>bringmethehorizon<br>icepalace<br>twentyonepilots<br>скюбилейный<br>banditotour",
          "карантин<br>самоизоляция<br>сидимдома<br>оставайтесьдома<br>stayhome<br>коронавирус<br>лучшедома<br>пандемия<br>карантин2020<br>2020<br>quarantine<br>вирус<br>covid19<br>весна2020<br>сидидома",
          "пасха<br>пасха2020<br>сидимдома<br>христосвоскресе<br>карантин<br>самоизоляция<br>оставайтесьдома<br>пасхальныйдекор<br>пасхальныйкулич<br>2020<br>куличи<br>пасхальныеяйца<br>весна2020<br>коронавирус<br>easter",
          "comicconrussia<br>comiccon<br>комиккон<br>comiccon2019<br>cosplay<br>comicconrussia2019<br>игромир<br>косплей<br>игромир2019<br>igromir<br>@comicconrussia<br>igromir2019<br>комиккон2019<br>admraceway<br>comicconspb",
          "dorosh_anka<br>дагивпитере<br>ингушка<br>лезгины<br>казахи<br>дагестанцы<br>аварцы<br>чеченцы<br>аварка<br>дагпитер<br>дагестанцывпитере<br>кабардинка<br>даргинцы<br>ингуши<br>@assa_kavkazci_pitera",
          "vkfest<br>vkfest5<br>vkfest2019<br>вкфест<br>@vk_fest<br>вкфест2019<br>вкфест5<br>лето2019<br>парк300летияспб<br>фестивальвконтакте<br>300yearspark<br>radiorecord<br>@littlebigband<br>@buzova86<br>@egorkreed",
          "сидимдома<br>stayhome<br>самоизоляция<br>карантин<br>оставайтесьдома<br>коронавирус<br>севкабельпорт<br>@market_u_morya<br>маркетуморя<br>пасха<br>сидидома<br>красимяйца<br>natalinamua<br>afterhalloween<br>afterhalloween2019",
          "тюнингуюсьсгоар<br>@goaravetisyan_beauty<br>@akobir_ashurkulovich<br>@goar_avetisyan<br>гоараветисян<br>@aidapetoyan<br>@mary_arutyunova<br>@katerina_kosik<br>goar_avetisyan<br>наталинамуарафон<br>goaravetisyan<br>карантин<br>natalinamua<br>марафонгоар<br>гоараветисянобучение",
          "новыйгод<br>2020<br>новыйгод2020<br>сновымгодом<br>happynewyear<br>манежнаяплощадь<br>newyear2020<br>годкрысы<br>ярмарканаманежной<br>путешествиеврождество<br>сновымгодом2020<br>рождественскаяярмарка<br>happynewyear2020<br>зима2020<br>манежнаяплощадьспб",
          "карантин<br>сидимдома<br>самоизоляция<br>коронавирус<br>оставайтесьдома<br>stayhome<br>covid19<br>пандемия<br>короновирус<br>вирус<br>лучшедома<br>2020<br>quarantine<br>covid_19<br>сидидома",
          "фейерверк<br>2019<br>гребнойканал<br>кругсвета<br>fireworks<br>кругсвета2019<br>lightfest<br>@lightfest<br>лето2019<br>садэрмитаж<br>lightfest2019<br>circleoflight<br>световоешоу<br>фестивалькругсвета<br>фестивальсвета",
          "сидимдома<br>карантин<br>самоизоляция<br>оставайтесьдома<br>коронавирус<br>stayhome<br>весна2020<br>сидидома<br>оставайсядома<br>лучшедома<br>2020<br>covid19<br>короновирус<br>домалучше<br>самоизоляция2020"
         ],
         "legendgroup": "",
         "marker": {
          "color": [
           0,
           1,
           2,
           3,
           4,
           5,
           6,
           7,
           8,
           9,
           10,
           11,
           12,
           13,
           14,
           15,
           16,
           17,
           18,
           19,
           20,
           21,
           22,
           23,
           24,
           25,
           26,
           27,
           28
          ],
          "coloraxis": "coloraxis",
          "size": [
           362,
           322,
           462,
           380,
           206,
           642,
           233,
           716,
           158,
           141,
           4,
           334,
           80,
           692,
           208,
           185,
           237,
           906,
           494,
           395,
           293,
           123,
           191,
           11,
           151,
           533,
           463,
           434,
           858
          ],
          "sizemode": "area",
          "sizeref": 0.1415625,
          "symbol": "circle"
         },
         "mode": "markers+text",
         "name": "",
         "showlegend": false,
         "text": [
          "skolkovo",
          "интершарм2019",
          "севкабельпорт",
          "циркчудес",
          "деньпобеды",
          "кхл",
          "севкабельпорт",
          "рпл",
          "estetfashionweek",
          "sgf2019",
          "карантин",
          "erarta",
          "23февраля",
          "ледовый",
          "гонкагероев",
          "8марта",
          "май",
          "a2greenconcert",
          "карантин",
          "пасха",
          "comicconrussia",
          "dorosh_anka",
          "vkfest",
          "сидимдома",
          "тюнингуюсьсгоар",
          "новыйгод",
          "карантин",
          "фейерверк",
          "сидимдома"
         ],
         "type": "scatter",
         "x": [
          -0.46605957859116015,
          -1.03243463671118,
          1.5166411896796537,
          -0.859596790355263,
          -9.807589688135922,
          -0.07615486888514016,
          -0.9647000952532189,
          -15.055788404702792,
          12.11829188734177,
          -15.721126476333337,
          12.22711405,
          -1.295111522736527,
          -15.579617617500002,
          2.0380984939364164,
          -4.920397012173077,
          8.320442892108106,
          2.0903594200000004,
          6.569025871231788,
          3.6611115648582992,
          5.446816258222785,
          -1.5616883957337884,
          10.91850880293496,
          -13.447027567560209,
          -2.799371081818182,
          4.002639505430463,
          -10.03609846360225,
          6.240253561453564,
          -0.883470078281106,
          6.041841438336248
         ],
         "xaxis": "x",
         "y": [
          2.704497081599447,
          -1.7208800883043476,
          2.1800350244125544,
          2.444618506468421,
          -9.768342296504855,
          2.352856099933022,
          -1.7443173970171673,
          -5.592125455121509,
          -1.8044896275949363,
          17.915652746595743,
          -12.865876225000001,
          0.902980858242515,
          -17.23311416,
          15.44903877650289,
          0.797047367625,
          -3.245852717351352,
          -0.8946136521518988,
          15.217957476854306,
          -16.45043122265182,
          -10.688213345458228,
          2.3199433172184296,
          2.0750782561788617,
          3.3856556654450265,
          -7.318063181818181,
          -6.229799825695365,
          2.2877212092120076,
          -11.92091655037365,
          4.136430514935484,
          -9.159986395656176
         ],
         "yaxis": "y"
        }
       ],
       "layout": {
        "coloraxis": {
         "colorbar": {
          "title": {
           "text": "label"
          }
         },
         "colorscale": [
          [
           0,
           "#0d0887"
          ],
          [
           0.1111111111111111,
           "#46039f"
          ],
          [
           0.2222222222222222,
           "#7201a8"
          ],
          [
           0.3333333333333333,
           "#9c179e"
          ],
          [
           0.4444444444444444,
           "#bd3786"
          ],
          [
           0.5555555555555556,
           "#d8576b"
          ],
          [
           0.6666666666666666,
           "#ed7953"
          ],
          [
           0.7777777777777778,
           "#fb9f3a"
          ],
          [
           0.8888888888888888,
           "#fdca26"
          ],
          [
           1,
           "#f0f921"
          ]
         ]
        },
        "legend": {
         "itemsizing": "constant",
         "tracegroupgap": 0
        },
        "margin": {
         "t": 60
        },
        "template": {
         "data": {
          "bar": [
           {
            "error_x": {
             "color": "#2a3f5f"
            },
            "error_y": {
             "color": "#2a3f5f"
            },
            "marker": {
             "line": {
              "color": "#E5ECF6",
              "width": 0.5
             }
            },
            "type": "bar"
           }
          ],
          "barpolar": [
           {
            "marker": {
             "line": {
              "color": "#E5ECF6",
              "width": 0.5
             }
            },
            "type": "barpolar"
           }
          ],
          "carpet": [
           {
            "aaxis": {
             "endlinecolor": "#2a3f5f",
             "gridcolor": "white",
             "linecolor": "white",
             "minorgridcolor": "white",
             "startlinecolor": "#2a3f5f"
            },
            "baxis": {
             "endlinecolor": "#2a3f5f",
             "gridcolor": "white",
             "linecolor": "white",
             "minorgridcolor": "white",
             "startlinecolor": "#2a3f5f"
            },
            "type": "carpet"
           }
          ],
          "choropleth": [
           {
            "colorbar": {
             "outlinewidth": 0,
             "ticks": ""
            },
            "type": "choropleth"
           }
          ],
          "contour": [
           {
            "colorbar": {
             "outlinewidth": 0,
             "ticks": ""
            },
            "colorscale": [
             [
              0,
              "#0d0887"
             ],
             [
              0.1111111111111111,
              "#46039f"
             ],
             [
              0.2222222222222222,
              "#7201a8"
             ],
             [
              0.3333333333333333,
              "#9c179e"
             ],
             [
              0.4444444444444444,
              "#bd3786"
             ],
             [
              0.5555555555555556,
              "#d8576b"
             ],
             [
              0.6666666666666666,
              "#ed7953"
             ],
             [
              0.7777777777777778,
              "#fb9f3a"
             ],
             [
              0.8888888888888888,
              "#fdca26"
             ],
             [
              1,
              "#f0f921"
             ]
            ],
            "type": "contour"
           }
          ],
          "contourcarpet": [
           {
            "colorbar": {
             "outlinewidth": 0,
             "ticks": ""
            },
            "type": "contourcarpet"
           }
          ],
          "heatmap": [
           {
            "colorbar": {
             "outlinewidth": 0,
             "ticks": ""
            },
            "colorscale": [
             [
              0,
              "#0d0887"
             ],
             [
              0.1111111111111111,
              "#46039f"
             ],
             [
              0.2222222222222222,
              "#7201a8"
             ],
             [
              0.3333333333333333,
              "#9c179e"
             ],
             [
              0.4444444444444444,
              "#bd3786"
             ],
             [
              0.5555555555555556,
              "#d8576b"
             ],
             [
              0.6666666666666666,
              "#ed7953"
             ],
             [
              0.7777777777777778,
              "#fb9f3a"
             ],
             [
              0.8888888888888888,
              "#fdca26"
             ],
             [
              1,
              "#f0f921"
             ]
            ],
            "type": "heatmap"
           }
          ],
          "heatmapgl": [
           {
            "colorbar": {
             "outlinewidth": 0,
             "ticks": ""
            },
            "colorscale": [
             [
              0,
              "#0d0887"
             ],
             [
              0.1111111111111111,
              "#46039f"
             ],
             [
              0.2222222222222222,
              "#7201a8"
             ],
             [
              0.3333333333333333,
              "#9c179e"
             ],
             [
              0.4444444444444444,
              "#bd3786"
             ],
             [
              0.5555555555555556,
              "#d8576b"
             ],
             [
              0.6666666666666666,
              "#ed7953"
             ],
             [
              0.7777777777777778,
              "#fb9f3a"
             ],
             [
              0.8888888888888888,
              "#fdca26"
             ],
             [
              1,
              "#f0f921"
             ]
            ],
            "type": "heatmapgl"
           }
          ],
          "histogram": [
           {
            "marker": {
             "colorbar": {
              "outlinewidth": 0,
              "ticks": ""
             }
            },
            "type": "histogram"
           }
          ],
          "histogram2d": [
           {
            "colorbar": {
             "outlinewidth": 0,
             "ticks": ""
            },
            "colorscale": [
             [
              0,
              "#0d0887"
             ],
             [
              0.1111111111111111,
              "#46039f"
             ],
             [
              0.2222222222222222,
              "#7201a8"
             ],
             [
              0.3333333333333333,
              "#9c179e"
             ],
             [
              0.4444444444444444,
              "#bd3786"
             ],
             [
              0.5555555555555556,
              "#d8576b"
             ],
             [
              0.6666666666666666,
              "#ed7953"
             ],
             [
              0.7777777777777778,
              "#fb9f3a"
             ],
             [
              0.8888888888888888,
              "#fdca26"
             ],
             [
              1,
              "#f0f921"
             ]
            ],
            "type": "histogram2d"
           }
          ],
          "histogram2dcontour": [
           {
            "colorbar": {
             "outlinewidth": 0,
             "ticks": ""
            },
            "colorscale": [
             [
              0,
              "#0d0887"
             ],
             [
              0.1111111111111111,
              "#46039f"
             ],
             [
              0.2222222222222222,
              "#7201a8"
             ],
             [
              0.3333333333333333,
              "#9c179e"
             ],
             [
              0.4444444444444444,
              "#bd3786"
             ],
             [
              0.5555555555555556,
              "#d8576b"
             ],
             [
              0.6666666666666666,
              "#ed7953"
             ],
             [
              0.7777777777777778,
              "#fb9f3a"
             ],
             [
              0.8888888888888888,
              "#fdca26"
             ],
             [
              1,
              "#f0f921"
             ]
            ],
            "type": "histogram2dcontour"
           }
          ],
          "mesh3d": [
           {
            "colorbar": {
             "outlinewidth": 0,
             "ticks": ""
            },
            "type": "mesh3d"
           }
          ],
          "parcoords": [
           {
            "line": {
             "colorbar": {
              "outlinewidth": 0,
              "ticks": ""
             }
            },
            "type": "parcoords"
           }
          ],
          "pie": [
           {
            "automargin": true,
            "type": "pie"
           }
          ],
          "scatter": [
           {
            "marker": {
             "colorbar": {
              "outlinewidth": 0,
              "ticks": ""
             }
            },
            "type": "scatter"
           }
          ],
          "scatter3d": [
           {
            "line": {
             "colorbar": {
              "outlinewidth": 0,
              "ticks": ""
             }
            },
            "marker": {
             "colorbar": {
              "outlinewidth": 0,
              "ticks": ""
             }
            },
            "type": "scatter3d"
           }
          ],
          "scattercarpet": [
           {
            "marker": {
             "colorbar": {
              "outlinewidth": 0,
              "ticks": ""
             }
            },
            "type": "scattercarpet"
           }
          ],
          "scattergeo": [
           {
            "marker": {
             "colorbar": {
              "outlinewidth": 0,
              "ticks": ""
             }
            },
            "type": "scattergeo"
           }
          ],
          "scattergl": [
           {
            "marker": {
             "colorbar": {
              "outlinewidth": 0,
              "ticks": ""
             }
            },
            "type": "scattergl"
           }
          ],
          "scattermapbox": [
           {
            "marker": {
             "colorbar": {
              "outlinewidth": 0,
              "ticks": ""
             }
            },
            "type": "scattermapbox"
           }
          ],
          "scatterpolar": [
           {
            "marker": {
             "colorbar": {
              "outlinewidth": 0,
              "ticks": ""
             }
            },
            "type": "scatterpolar"
           }
          ],
          "scatterpolargl": [
           {
            "marker": {
             "colorbar": {
              "outlinewidth": 0,
              "ticks": ""
             }
            },
            "type": "scatterpolargl"
           }
          ],
          "scatterternary": [
           {
            "marker": {
             "colorbar": {
              "outlinewidth": 0,
              "ticks": ""
             }
            },
            "type": "scatterternary"
           }
          ],
          "surface": [
           {
            "colorbar": {
             "outlinewidth": 0,
             "ticks": ""
            },
            "colorscale": [
             [
              0,
              "#0d0887"
             ],
             [
              0.1111111111111111,
              "#46039f"
             ],
             [
              0.2222222222222222,
              "#7201a8"
             ],
             [
              0.3333333333333333,
              "#9c179e"
             ],
             [
              0.4444444444444444,
              "#bd3786"
             ],
             [
              0.5555555555555556,
              "#d8576b"
             ],
             [
              0.6666666666666666,
              "#ed7953"
             ],
             [
              0.7777777777777778,
              "#fb9f3a"
             ],
             [
              0.8888888888888888,
              "#fdca26"
             ],
             [
              1,
              "#f0f921"
             ]
            ],
            "type": "surface"
           }
          ],
          "table": [
           {
            "cells": {
             "fill": {
              "color": "#EBF0F8"
             },
             "line": {
              "color": "white"
             }
            },
            "header": {
             "fill": {
              "color": "#C8D4E3"
             },
             "line": {
              "color": "white"
             }
            },
            "type": "table"
           }
          ]
         },
         "layout": {
          "annotationdefaults": {
           "arrowcolor": "#2a3f5f",
           "arrowhead": 0,
           "arrowwidth": 1
          },
          "coloraxis": {
           "colorbar": {
            "outlinewidth": 0,
            "ticks": ""
           }
          },
          "colorscale": {
           "diverging": [
            [
             0,
             "#8e0152"
            ],
            [
             0.1,
             "#c51b7d"
            ],
            [
             0.2,
             "#de77ae"
            ],
            [
             0.3,
             "#f1b6da"
            ],
            [
             0.4,
             "#fde0ef"
            ],
            [
             0.5,
             "#f7f7f7"
            ],
            [
             0.6,
             "#e6f5d0"
            ],
            [
             0.7,
             "#b8e186"
            ],
            [
             0.8,
             "#7fbc41"
            ],
            [
             0.9,
             "#4d9221"
            ],
            [
             1,
             "#276419"
            ]
           ],
           "sequential": [
            [
             0,
             "#0d0887"
            ],
            [
             0.1111111111111111,
             "#46039f"
            ],
            [
             0.2222222222222222,
             "#7201a8"
            ],
            [
             0.3333333333333333,
             "#9c179e"
            ],
            [
             0.4444444444444444,
             "#bd3786"
            ],
            [
             0.5555555555555556,
             "#d8576b"
            ],
            [
             0.6666666666666666,
             "#ed7953"
            ],
            [
             0.7777777777777778,
             "#fb9f3a"
            ],
            [
             0.8888888888888888,
             "#fdca26"
            ],
            [
             1,
             "#f0f921"
            ]
           ],
           "sequentialminus": [
            [
             0,
             "#0d0887"
            ],
            [
             0.1111111111111111,
             "#46039f"
            ],
            [
             0.2222222222222222,
             "#7201a8"
            ],
            [
             0.3333333333333333,
             "#9c179e"
            ],
            [
             0.4444444444444444,
             "#bd3786"
            ],
            [
             0.5555555555555556,
             "#d8576b"
            ],
            [
             0.6666666666666666,
             "#ed7953"
            ],
            [
             0.7777777777777778,
             "#fb9f3a"
            ],
            [
             0.8888888888888888,
             "#fdca26"
            ],
            [
             1,
             "#f0f921"
            ]
           ]
          },
          "colorway": [
           "#636efa",
           "#EF553B",
           "#00cc96",
           "#ab63fa",
           "#FFA15A",
           "#19d3f3",
           "#FF6692",
           "#B6E880",
           "#FF97FF",
           "#FECB52"
          ],
          "font": {
           "color": "#2a3f5f"
          },
          "geo": {
           "bgcolor": "white",
           "lakecolor": "white",
           "landcolor": "#E5ECF6",
           "showlakes": true,
           "showland": true,
           "subunitcolor": "white"
          },
          "hoverlabel": {
           "align": "left"
          },
          "hovermode": "closest",
          "mapbox": {
           "style": "light"
          },
          "paper_bgcolor": "white",
          "plot_bgcolor": "#E5ECF6",
          "polar": {
           "angularaxis": {
            "gridcolor": "white",
            "linecolor": "white",
            "ticks": ""
           },
           "bgcolor": "#E5ECF6",
           "radialaxis": {
            "gridcolor": "white",
            "linecolor": "white",
            "ticks": ""
           }
          },
          "scene": {
           "xaxis": {
            "backgroundcolor": "#E5ECF6",
            "gridcolor": "white",
            "gridwidth": 2,
            "linecolor": "white",
            "showbackground": true,
            "ticks": "",
            "zerolinecolor": "white"
           },
           "yaxis": {
            "backgroundcolor": "#E5ECF6",
            "gridcolor": "white",
            "gridwidth": 2,
            "linecolor": "white",
            "showbackground": true,
            "ticks": "",
            "zerolinecolor": "white"
           },
           "zaxis": {
            "backgroundcolor": "#E5ECF6",
            "gridcolor": "white",
            "gridwidth": 2,
            "linecolor": "white",
            "showbackground": true,
            "ticks": "",
            "zerolinecolor": "white"
           }
          },
          "shapedefaults": {
           "line": {
            "color": "#2a3f5f"
           }
          },
          "ternary": {
           "aaxis": {
            "gridcolor": "white",
            "linecolor": "white",
            "ticks": ""
           },
           "baxis": {
            "gridcolor": "white",
            "linecolor": "white",
            "ticks": ""
           },
           "bgcolor": "#E5ECF6",
           "caxis": {
            "gridcolor": "white",
            "linecolor": "white",
            "ticks": ""
           }
          },
          "title": {
           "x": 0.05
          },
          "xaxis": {
           "automargin": true,
           "gridcolor": "white",
           "linecolor": "white",
           "ticks": "",
           "title": {
            "standoff": 15
           },
           "zerolinecolor": "white",
           "zerolinewidth": 2
          },
          "yaxis": {
           "automargin": true,
           "gridcolor": "white",
           "linecolor": "white",
           "ticks": "",
           "title": {
            "standoff": 15
           },
           "zerolinecolor": "white",
           "zerolinewidth": 2
          }
         }
        },
        "xaxis": {
         "anchor": "y",
         "domain": [
          0,
          1
         ],
         "title": {
          "text": "x"
         }
        },
        "yaxis": {
         "anchor": "x",
         "domain": [
          0,
          1
         ],
         "title": {
          "text": "y"
         }
        }
       }
      },
      "text/html": [
       "<div>\n",
       "        \n",
       "        \n",
       "            <div id=\"0c831b20-e237-46a8-9df2-c8a2d3d786f9\" class=\"plotly-graph-div\" style=\"height:525px; width:100%;\"></div>\n",
       "            <script type=\"text/javascript\">\n",
       "                require([\"plotly\"], function(Plotly) {\n",
       "                    window.PLOTLYENV=window.PLOTLYENV || {};\n",
       "                    \n",
       "                if (document.getElementById(\"0c831b20-e237-46a8-9df2-c8a2d3d786f9\")) {\n",
       "                    Plotly.newPlot(\n",
       "                        '0c831b20-e237-46a8-9df2-c8a2d3d786f9',\n",
       "                        [{\"hovertemplate\": \"<b>%{hovertext}</b><br><br>x=%{x}<br>y=%{y}<br>size=%{marker.size}<br>text=%{text}<br>label=%{marker.color}<extra></extra>\", \"hovertext\": [\"skolkovo<br>2019<br>\\u0438\\u043d\\u043d\\u043e\\u0432\\u0430\\u0446\\u0438\\u0438<br>\\u0433\\u043e\\u0440\\u043e\\u0434\\u043e\\u0431\\u0440\\u0430\\u0437\\u043e\\u0432\\u0430\\u043d\\u0438\\u044f<br>\\u0441\\u043a\\u043e\\u043b\\u0442\\u0435\\u0445<br>\\u043c\\u0435\\u0436\\u0434\\u0443\\u043d\\u0430\\u0440\\u043e\\u0434\\u043d\\u044b\\u0439\\u0444\\u043e\\u0440\\u0443\\u043c<br>\\u043e\\u0441\\u0442\\u0440\\u043e\\u04321022<br>edu2035<br>openinnovations<br>innovations<br>\\u0433\\u043e\\u0440\\u043e\\u0434\\u043e\\u0431\\u0440\\u0430\\u0437\\u043e\\u0432\\u0430\\u043d\\u0438\\u044f2019<br>cityforeducation<br>\\u044d\\u043a\\u0441\\u043f\\u043e\\u0446\\u0435\\u043d\\u0442\\u0440<br>\\u043e\\u0441\\u0442\\u0440\\u043e\\u0432\\u0438\\u0442\\u044f\\u043d\\u04351022<br>moscoweducation\", \"\\u0438\\u043d\\u0442\\u0435\\u0440\\u0448\\u0430\\u0440\\u043c2019<br>intercharm2019<br>\\u0438\\u043d\\u0442\\u0435\\u0440\\u0448\\u0430\\u0440\\u043c<br>intercharm<br>@intercharm_ru<br>\\u043a\\u0440\\u043e\\u043a\\u0443\\u0441\\u044d\\u043a\\u0441\\u043f\\u043e<br>\\u043a\\u0440\\u043e\\u043a\\u0443\\u0441\\u0441\\u0438\\u0442\\u0438\\u0445\\u043e\\u043b\\u043b<br>intersharm2019<br>\\u0442\\u043e\\u0442\\u0441\\u0430\\u043c\\u044b\\u0439\\u0438\\u043d\\u0442\\u0435\\u0440\\u0448\\u0430\\u0440\\u043c<br>intersharm<br>\\u0438\\u043d\\u0442\\u0435\\u0440\\u0448\\u0430\\u0440\\u043c2019\\u043c\\u043e\\u0441\\u043a\\u0432\\u0430<br>crocuscityhall<br>\\u043a\\u0440\\u043e\\u043a\\u0443\\u0441\\u044d\\u043a\\u0441\\u043f\\u043e2019<br>@dr<br>\\u043c\\u0430\\u043c\\u0430\\u044f\\u043d\\u0430beautyday\", \"\\u0441\\u0435\\u0432\\u043a\\u0430\\u0431\\u0435\\u043b\\u044c\\u043f\\u043e\\u0440\\u0442<br>\\u0441\\u0435\\u0432\\u043a\\u0430\\u0431\\u0435\\u043b\\u044c<br>sevkabelport<br>@sevcableport<br>\\u043f\\u043e\\u0440\\u0442\\u0441\\u0435\\u0432\\u043a\\u0430\\u0431\\u0435\\u043b\\u044c<br>sevcabelport<br>sevkabel<br>\\u043b\\u0435\\u0442\\u043e2019<br>sevcableport<br>port<br>\\u043c\\u0430\\u0440\\u043a\\u0435\\u0442\\u0443\\u043c\\u043e\\u0440\\u044f<br>\\u0441\\u0442\\u0435\\u0440\\u0435\\u043e\\u043b\\u0435\\u0442\\u043e<br>\\u043a\\u0430\\u0442\\u043e\\u043a\\u0443\\u043c\\u043e\\u0440\\u044f<br>stereoleto<br>stereoleto2019\", \"\\u0446\\u0438\\u0440\\u043a\\u0447\\u0443\\u0434\\u0435\\u0441<br>\\u0449\\u0435\\u043b\\u043a\\u0443\\u043d\\u0447\\u0438\\u043a\\u043f\\u043b\\u044e\\u0449\\u0435\\u043d\\u043a\\u043e<br>\\u043b\\u0435\\u0434\\u043e\\u0432\\u043e\\u0435\\u0448\\u043e\\u0443<br>\\u043f\\u043b\\u044e\\u0449\\u0435\\u043d\\u043a\\u043e<br>@plushenkoofficial<br>@wonder<br>@rudkovskayaofficial<br>\\u043b\\u0435\\u0434\\u043e\\u0432\\u044b\\u0439<br>\\u0435\\u0432\\u0433\\u0435\\u043d\\u0438\\u0439\\u043f\\u043b\\u044e\\u0449\\u0435\\u043d\\u043a\\u043e<br>bolshoitheatre<br>\\u043b\\u0435\\u0431\\u0435\\u0434\\u0438\\u043d\\u043e\\u0435\\u043e\\u0437\\u0435\\u0440\\u043e<br>icepalace<br>@gnomgnomych<br>\\u0430\\u0434\\u0435\\u043b\\u0438\\u043d\\u0430\\u0441\\u043e\\u0442\\u043d\\u0438\\u043a\\u043e\\u0432\\u0430<br>notredamedeparis\", \"\\u0434\\u0435\\u043d\\u044c\\u043f\\u043e\\u0431\\u0435\\u0434\\u044b<br>9\\u043c\\u0430\\u044f<br>9\\u043c\\u0430\\u044f2019<br>\\u0434\\u0435\\u043d\\u044c\\u043f\\u043e\\u0431\\u0435\\u0434\\u044b2019<br>\\u0431\\u0435\\u0441\\u0441\\u043c\\u0435\\u0440\\u0442\\u043d\\u044b\\u0439\\u043f\\u043e\\u043b\\u043a<br>\\u0441\\u0434\\u043d\\u0435\\u043c\\u043f\\u043e\\u0431\\u0435\\u0434\\u044b<br>\\u0441\\u043f\\u0430\\u0441\\u0438\\u0431\\u043e\\u0434\\u0435\\u0434\\u0443\\u0437\\u0430\\u043f\\u043e\\u0431\\u0435\\u0434\\u0443<br>\\u0432\\u0435\\u043b\\u0438\\u043a\\u0430\\u044f\\u043f\\u043e\\u0431\\u0435\\u0434\\u0430<br>victoryday<br>\\u043c\\u0430\\u0439<br>\\u044f\\u043f\\u043e\\u043c\\u043d\\u044e\\u044f\\u0433\\u043e\\u0440\\u0436\\u0443\\u0441\\u044c<br>\\u043d\\u0438\\u043a\\u0442\\u043e\\u043d\\u0435\\u0437\\u0430\\u0431\\u044b\\u0442\\u043d\\u0438\\u0447\\u0442\\u043e\\u043d\\u0435\\u0437\\u0430\\u0431\\u044b\\u0442\\u043e<br>\\u043d\\u0438\\u043a\\u0442\\u043e\\u043d\\u0435\\u0437\\u0430\\u0431\\u044b\\u0442<br>9may<br>\\u043f\\u0430\\u0440\\u0430\\u0434\\u043f\\u043e\\u0431\\u0435\\u0434\\u044b\", \"\\u043a\\u0445\\u043b<br>\\u043b\\u0435\\u0434\\u043e\\u0432\\u044b\\u0439<br>2019<br>hcska<br>\\u043d\\u043e\\u0432\\u044b\\u0439\\u0433\\u043e\\u0434<br>2020<br>a2greenconcert<br>piratestation<br>\\u043b\\u0435\\u0442\\u043e2019<br>\\u0431\\u0430\\u0439\\u0435\\u0440\\u0432\\u0438\\u0442\\u0430\\u043b\\u0438\\u0438<br>\\u0436\\u0435\\u043d\\u0441\\u043a\\u0438\\u0435\\u0431\\u0440\\u0435\\u043d\\u0434\\u044b<br>\\u0431\\u0440\\u0435\\u043d\\u0434\\u043e\\u0432\\u044b\\u0435\\u0430\\u043a\\u0441\\u0435\\u0441\\u0441\\u0443\\u0430\\u0440\\u044b<br>\\u0436\\u0435\\u043d\\u0441\\u043a\\u0438\\u0435\\u0430\\u043a\\u0441\\u0435\\u0441\\u0441\\u0443\\u0430\\u0440\\u044b<br>\\u0431\\u0440\\u0435\\u043d\\u0434\\u044b\\u0438\\u0437\\u0438\\u0442\\u0430\\u043b\\u0438\\u0438<br>\\u0448\\u043e\\u043f\\u043f\\u0438\\u043d\\u0433\\u0432\\u0438\\u0442\\u0430\\u043b\\u0438\\u0438\", \"\\u0441\\u0435\\u0432\\u043a\\u0430\\u0431\\u0435\\u043b\\u044c\\u043f\\u043e\\u0440\\u0442<br>@sevcableport<br>\\u0441\\u0435\\u0432\\u043a\\u0430\\u0431\\u0435\\u043b\\u044c<br>sevkabelport<br>\\u043f\\u043e\\u0440\\u0442\\u0441\\u0435\\u0432\\u043a\\u0430\\u0431\\u0435\\u043b\\u044c<br>\\u043c\\u0430\\u0440\\u043a\\u0435\\u0442\\u0443\\u043c\\u043e\\u0440\\u044f<br>@market_u_morya<br>cpmmoscow<br>sevkabel<br>\\u043b\\u0435\\u0442\\u043e2019<br>\\u043c\\u0430\\u0440\\u043a\\u0435\\u0442<br>\\u044d\\u043a\\u0441\\u043f\\u043e\\u0446\\u0435\\u043d\\u0442\\u0440<br>cpm<br>stereoleto2019<br>market_u_morya\", \"\\u0440\\u043f\\u043b<br>\\u0433\\u0430\\u0437\\u043f\\u0440\\u043e\\u043c\\u0430\\u0440\\u0435\\u043d\\u0430<br>\\u043a\\u0445\\u043b<br>spartak<br>\\u0441\\u043f\\u0430\\u0440\\u0442\\u0430\\u043a\\u043c\\u043e\\u0441\\u043a\\u0432\\u0430<br>@zenit_spb<br>spartakmoscow<br>\\u043a\\u0440\\u0430\\u0441\\u043d\\u043e\\u0431\\u0435\\u043b\\u044b\\u0435<br>\\u0444\\u043a\\u0437\\u0435\\u043d\\u0438\\u0442<br>fcsm<br>khl<br>fczenit<br>\\u043e\\u0442\\u043a\\u0440\\u044b\\u0442\\u0438\\u0435\\u0430\\u0440\\u0435\\u043d\\u0430<br>\\u0441\\u0438\\u043d\\u0435\\u0431\\u0435\\u043b\\u043e\\u0433\\u043e\\u043b\\u0443\\u0431\\u044b\\u0435<br>\\u0441\\u0431\\u0433\", \"estetfashionweek<br>estetfw<br>estetfashionweek2019<br>estet<br>\\u044e\\u0432\\u0435\\u043b\\u0438\\u0440\\u043d\\u044b\\u0439\\u0434\\u043e\\u043c\\u044d\\u0441\\u0442\\u0435\\u0442<br>\\u043d\\u0435\\u0434\\u0435\\u043b\\u044f\\u043c\\u043e\\u0434\\u044b<br>@estetfw<br>\\u044d\\u0441\\u0442\\u0435\\u0442<br>efw<br>\\u043f\\u043e\\u043a\\u0430\\u0437\\u043c\\u043e\\u0434<br>\\u043f\\u043e\\u043a\\u0430\\u0437<br>estetfw2019<br>\\u043d\\u0435\\u0434\\u0435\\u043b\\u044f\\u043c\\u043e\\u0434\\u044b\\u0432\\u043c\\u043e\\u0441\\u043a\\u0432\\u04352019<br>\\u043f\\u043e\\u0434\\u0438\\u0443\\u043c<br>efw2019\", \"sgf2019<br>synergyglobalforum<br>@oskar_hartmann<br>\\u0441\\u0438\\u043d\\u0435\\u0440\\u0433\\u0438\\u044f<br>synergy<br>\\u0433\\u0430\\u0437\\u043f\\u0440\\u043e\\u043c\\u0430\\u0440\\u0435\\u043d\\u0430<br>@schwarzenegger<br>synergyglobalforum2019<br>\\u0431\\u0438\\u0437\\u043d\\u0435\\u0441\\u0444\\u043e\\u0440\\u0443\\u043c<br>sgf<br>@rybakov_igor<br>sinergyglobalforum<br>@bssynergy<br>\\u0430\\u0440\\u043d\\u043e\\u043b\\u044c\\u0434\\u0448\\u0432\\u0430\\u0440\\u0446\\u0435\\u043d\\u0435\\u0433\\u0433\\u0435\\u0440<br>\\u0441\\u0438\\u043d\\u0435\\u0440\\u0434\\u0436\\u0438\\u0433\\u043b\\u043e\\u0431\\u0430\\u043b\\u0444\\u043e\\u0440\\u0443\\u043c\", \"\\u043a\\u0430\\u0440\\u0430\\u043d\\u0442\\u0438\\u043d<br>\\u0441\\u0438\\u0434\\u0438\\u043c\\u0434\\u043e\\u043c\\u0430<br>\\u0441\\u0430\\u043c\\u043e\\u0438\\u0437\\u043e\\u043b\\u044f\\u0446\\u0438\\u044f<br>stayhome<br>\\u043e\\u0441\\u0442\\u0430\\u0432\\u0430\\u0439\\u0441\\u044f\\u0434\\u043e\\u043c\\u0430<br>\\u043f\\u0430\\u0441\\u0445\\u0430<br>\\u043a\\u0430\\u0440\\u0430\\u043d\\u0442\\u0438\\u043d2020<br>\\u043e\\u0441\\u0442\\u0430\\u0432\\u0430\\u0439\\u0442\\u0435\\u0441\\u044c\\u0434\\u043e\\u043c\\u0430<br>\\u043a\\u043e\\u0440\\u043e\\u043d\\u0430\\u0432\\u0438\\u0440\\u0443\\u0441<br>coronavirus<br>\\u0432\\u0435\\u0441\\u043d\\u04302020<br>quarantine<br>\\u043a\\u043e\\u0440\\u043e\\u043d\\u043e\\u0432\\u0438\\u0440\\u0443\\u0441<br>\\u043b\\u0443\\u0447\\u0448\\u0435\\u0434\\u043e\\u043c\\u0430<br>\\u0441\\u0430\\u043c\\u043e\\u0438\\u0437\\u043e\\u043b\\u044f\\u0446\\u0438\\u044f2020\", \"erarta<br>ducati<br>erarta_museum<br>\\u043c\\u0430\\u0441\\u043b\\u0435\\u043d\\u0438\\u0446\\u0430<br>\\u043c\\u043e\\u0442\\u043e\\u0432\\u044b\\u0441\\u0442\\u0430\\u0432\\u043a\\u0430<br>2020<br>\\u043c\\u043e\\u0442\\u043e\\u0432\\u0435\\u0441\\u043d\\u0430<br>@erarta_museum<br>\\u044d\\u0440\\u0430\\u0440\\u0442\\u0430_\\u043c\\u0443\\u0437\\u0435\\u0439<br>\\u043c\\u043e\\u0442\\u043e\\u0432\\u0435\\u0441\\u043d\\u04302019<br>\\u0432\\u0435\\u0441\\u043d\\u04302019<br>\\u043c\\u0430\\u0441\\u043b\\u0435\\u043d\\u0438\\u0446\\u04302020<br>\\u0444\\u0440\\u0438\\u0434\\u0430\\u043a\\u0430\\u043b\\u043e<br>\\u043c\\u0443\\u0437\\u0435\\u0439\\u0444\\u0430\\u0431\\u0435\\u0440\\u0436\\u0435<br>\\u0434\\u0438\\u0435\\u0433\\u043e\\u0440\\u0438\\u0432\\u0435\\u0440\\u0430\", \"23\\u0444\\u0435\\u0432\\u0440\\u0430\\u043b\\u044f<br>2020<br>\\u0441\\u0434\\u043d\\u0435\\u043c\\u0437\\u0430\\u0449\\u0438\\u0442\\u043d\\u0438\\u043a\\u0430\\u043e\\u0442\\u0435\\u0447\\u0435\\u0441\\u0442\\u0432\\u0430<br>\\u043c\\u0443\\u0436\\u0441\\u043a\\u043e\\u0439\\u043f\\u0440\\u0430\\u0437\\u0434\\u043d\\u0438\\u043a<br>\\u043c\\u0443\\u0436\\u0441\\u043a\\u043e\\u0439\\u0434\\u0435\\u043d\\u044c<br>\\u0434\\u0435\\u043d\\u044c\\u0437\\u0430\\u0449\\u0438\\u0442\\u043d\\u0438\\u043a\\u0430<br>8\\u043c\\u0430\\u0440\\u0442\\u0430<br>\\u044123\\u0444\\u0435\\u0432\\u0440\\u0430\\u043b\\u044f<br>\\u0437\\u0430\\u0449\\u0438\\u0442\\u043d\\u0438\\u043a\\u0438<br>\\u0437\\u0430\\u0449\\u0438\\u0442\\u043d\\u0438\\u043a\\u0438\\u043e\\u0442\\u0435\\u0447\\u0435\\u0441\\u0442\\u0432\\u0430<br>\\u0434\\u0435\\u043d\\u044c\\u043c\\u0443\\u0436\\u0447\\u0438\\u043d<br>23\\u0444\\u0435\\u0432\\u0440\\u0430\\u043b\\u044f2020<br>\\u043f\\u0440\\u0430\\u0437\\u0434\\u043d\\u0438\\u043a\\u043c\\u0443\\u0436\\u0447\\u0438\\u043d<br>\\u0434\\u0435\\u043d\\u044c\\u0437\\u0430\\u0449\\u0438\\u0442\\u043d\\u0438\\u043a\\u0430\\u043e\\u0442\\u0435\\u0447\\u0435\\u0441\\u0442\\u0432\\u0430<br>\\u0441\\u043f\\u0440\\u0430\\u0437\\u0434\\u043d\\u0438\\u043a\\u043e\\u043c\\u043c\\u0443\\u0436\\u0447\\u0438\\u043d\\u044b\", \"\\u043b\\u0435\\u0434\\u043e\\u0432\\u044b\\u0439<br>\\u0434\\u0438\\u043c\\u0430\\u0431\\u0438\\u043b\\u0430\\u043d<br>\\u0431\\u0438\\u043b\\u0430\\u043d<br>@bilanofficial<br>\\u043f\\u043b\\u0430\\u043d\\u0435\\u0442\\u0430\\u0431\\u0438\\u043b\\u0430\\u043d<br>icepalace<br>\\u043a\\u0440\\u043e\\u043a\\u0443\\u0441\\u0441\\u0438\\u0442\\u0438\\u0445\\u043e\\u043b\\u043b<br>dimabilan<br>bilan<br>\\u0433\\u0440\\u0443\\u043f\\u043f\\u0438\\u0440\\u043e\\u0432\\u043a\\u0430\\u043b\\u0435\\u043d\\u0438\\u043d\\u0433\\u0440\\u0430\\u0434<br>crocuscityhall<br>\\u043f\\u043e\\u043b\\u0438\\u043d\\u0430\\u0433\\u0430\\u0433\\u0430\\u0440\\u0438\\u043d\\u0430<br>roofplace<br>\\u0441\\u0438\\u0431\\u0443\\u0440\\u0430\\u0440\\u0435\\u043d\\u0430<br>\\u044e\\u0431\\u0438\\u043b\\u0435\\u0439\\u043d\\u044b\\u0439\", \"\\u0433\\u043e\\u043d\\u043a\\u0430\\u0433\\u0435\\u0440\\u043e\\u0435\\u0432<br>\\u0430\\u043b\\u0430\\u0431\\u0438\\u043d\\u043e<br>\\u043b\\u0438\\u0433\\u0430\\u0433\\u0435\\u0440\\u043e\\u0435\\u0432<br>\\u0437\\u0430\\u0431\\u0435\\u0433\\u0440\\u0444<br>herorace<br>\\u0437\\u0430\\u0431\\u0435\\u0433<br>\\u0431\\u0435\\u0433\\u0430\\u043d\\u0443\\u0442\\u044b\\u0435<br>\\u0433\\u043e\\u043d\\u043a\\u0430\\u0433\\u0435\\u0440\\u043e\\u0435\\u04322019<br>ocr<br>heroleague<br>\\u0431\\u0435\\u0433\\u043e\\u0432\\u043e\\u0435\\u0441\\u043e\\u043e\\u0431\\u0449\\u0435\\u0441\\u0442\\u0432\\u043e<br>@hero_race<br>2019<br>\\u043f\\u043e\\u043b\\u0438\\u0433\\u043e\\u043d\\u0430\\u043b\\u0430\\u0431\\u0438\\u043d\\u043e<br>\\u043c\\u043e\\u0441\\u043a\\u043e\\u0432\\u0441\\u043a\\u0438\\u0439\\u043f\\u043e\\u043b\\u0443\\u043c\\u0430\\u0440\\u0430\\u0444\\u043e\\u043d\", \"8\\u043c\\u0430\\u0440\\u0442\\u0430<br>\\u0436\\u0435\\u043d\\u0441\\u043a\\u0438\\u0439\\u0434\\u0435\\u043d\\u044c<br>\\u0432\\u0435\\u0441\\u043d\\u04302020<br>8\\u043c\\u0430\\u0440\\u0442\\u04302020<br>2020<br>\\u0436\\u0435\\u043d\\u0441\\u043a\\u0438\\u0439\\u043f\\u0440\\u0430\\u0437\\u0434\\u043d\\u0438\\u043a<br>\\u04418\\u043c\\u0430\\u0440\\u0442\\u0430<br>8march<br>\\u043a\\u0440\\u0435\\u043c\\u043b\\u0435\\u0432\\u0441\\u043a\\u0438\\u0439\\u0434\\u0432\\u043e\\u0440\\u0435\\u0446<br>\\u043f\\u0440\\u0430\\u0437\\u0434\\u043d\\u0438\\u043a\\u0432\\u0435\\u0441\\u043d\\u044b<br>\\u0433\\u043a\\u0434<br>\\u0441\\u043f\\u0440\\u0430\\u0437\\u0434\\u043d\\u0438\\u043a\\u043e\\u043c\\u0434\\u0435\\u0432\\u043e\\u0447\\u043a\\u0438<br>\\u0431\\u0443\\u0434\\u044c\\u0442\\u0435\\u0441\\u0447\\u0430\\u0441\\u0442\\u043b\\u0438\\u0432\\u044b\\u0432\\u0441\\u0435\\u0433\\u0434\\u0430<br>\\u0444\\u0438\\u043b\\u0438\\u043f\\u043f\\u043a\\u0438\\u0440\\u043a\\u043e\\u0440\\u043e\\u0432<br>\\u0432\\u043e\\u0441\\u044c\\u043c\\u043e\\u0435\\u043c\\u0430\\u0440\\u0442\\u0430\", \"\\u043c\\u0430\\u0439<br>\\u0431\\u043e\\u0442\\u0430\\u043d\\u0438\\u0447\\u0435\\u0441\\u043a\\u0438\\u0439\\u0441\\u0430\\u0434<br>\\u0432\\u0435\\u0441\\u043d\\u04302019<br>\\u0444\\u0435\\u0441\\u0442\\u0438\\u0432\\u0430\\u043b\\u044c\\u0442\\u044e\\u043b\\u044c\\u043f\\u0430\\u043d\\u043e\\u0432<br>\\u0430\\u043f\\u0442\\u0435\\u043a\\u0430\\u0440\\u0441\\u043a\\u0438\\u0439\\u043e\\u0433\\u043e\\u0440\\u043e\\u0434<br>sakura<br>botanicalgarden<br>\\u0431\\u043e\\u0442\\u0430\\u043d\\u0438\\u0447\\u0435\\u0441\\u043a\\u0438\\u0439\\u0441\\u0430\\u0434\\u043c\\u0433\\u0443<br>@hortus_ru<br>\\u0441\\u0430\\u0434\\u0434\\u0440\\u0443\\u0436\\u0431\\u044b<br>\\u0446\\u0432\\u0435\\u0442\\u0435\\u043d\\u0438\\u0435\\u0441\\u0430\\u043a\\u0443\\u0440\\u044b<br>\\u0444\\u0435\\u0441\\u0442\\u0438\\u0432\\u0430\\u043b\\u044c\\u0442\\u044e\\u043b\\u044c\\u043f\\u0430\\u043d\\u043e\\u04322019<br>\\u0442\\u044e\\u043b\\u044c\\u043f\\u0430\\u043d\\u043e\\u043c\\u0430\\u043d\\u0438\\u044f<br>\\u0444\\u0435\\u0441\\u0442\\u0438\\u0432\\u0430\\u043b\\u044c\\u0442\\u044e\\u043b\\u044c\\u043f\\u0430\\u043d\\u043e\\u0432\\u0441\\u043f\\u0431<br>\\u0435\\u043b\\u0430\\u0433\\u0438\\u043d\\u043f\\u0430\\u0440\\u043a\", \"a2greenconcert<br>a2<br>\\u04302<br>\\u044e\\u0431\\u0438\\u043b\\u0435\\u0439\\u043d\\u044b\\u0439<br>adrenalinestadium<br>\\u043b\\u0435\\u0434\\u043e\\u0432\\u044b\\u0439<br>\\u043f\\u043e\\u0440\\u043d\\u043e\\u0444\\u0438\\u043b\\u044c\\u043c\\u044b<br>2020<br>\\u04302greenconcert<br>@punkmovies<br>bringmethehorizon<br>icepalace<br>twentyonepilots<br>\\u0441\\u043a\\u044e\\u0431\\u0438\\u043b\\u0435\\u0439\\u043d\\u044b\\u0439<br>banditotour\", \"\\u043a\\u0430\\u0440\\u0430\\u043d\\u0442\\u0438\\u043d<br>\\u0441\\u0430\\u043c\\u043e\\u0438\\u0437\\u043e\\u043b\\u044f\\u0446\\u0438\\u044f<br>\\u0441\\u0438\\u0434\\u0438\\u043c\\u0434\\u043e\\u043c\\u0430<br>\\u043e\\u0441\\u0442\\u0430\\u0432\\u0430\\u0439\\u0442\\u0435\\u0441\\u044c\\u0434\\u043e\\u043c\\u0430<br>stayhome<br>\\u043a\\u043e\\u0440\\u043e\\u043d\\u0430\\u0432\\u0438\\u0440\\u0443\\u0441<br>\\u043b\\u0443\\u0447\\u0448\\u0435\\u0434\\u043e\\u043c\\u0430<br>\\u043f\\u0430\\u043d\\u0434\\u0435\\u043c\\u0438\\u044f<br>\\u043a\\u0430\\u0440\\u0430\\u043d\\u0442\\u0438\\u043d2020<br>2020<br>quarantine<br>\\u0432\\u0438\\u0440\\u0443\\u0441<br>covid19<br>\\u0432\\u0435\\u0441\\u043d\\u04302020<br>\\u0441\\u0438\\u0434\\u0438\\u0434\\u043e\\u043c\\u0430\", \"\\u043f\\u0430\\u0441\\u0445\\u0430<br>\\u043f\\u0430\\u0441\\u0445\\u04302020<br>\\u0441\\u0438\\u0434\\u0438\\u043c\\u0434\\u043e\\u043c\\u0430<br>\\u0445\\u0440\\u0438\\u0441\\u0442\\u043e\\u0441\\u0432\\u043e\\u0441\\u043a\\u0440\\u0435\\u0441\\u0435<br>\\u043a\\u0430\\u0440\\u0430\\u043d\\u0442\\u0438\\u043d<br>\\u0441\\u0430\\u043c\\u043e\\u0438\\u0437\\u043e\\u043b\\u044f\\u0446\\u0438\\u044f<br>\\u043e\\u0441\\u0442\\u0430\\u0432\\u0430\\u0439\\u0442\\u0435\\u0441\\u044c\\u0434\\u043e\\u043c\\u0430<br>\\u043f\\u0430\\u0441\\u0445\\u0430\\u043b\\u044c\\u043d\\u044b\\u0439\\u0434\\u0435\\u043a\\u043e\\u0440<br>\\u043f\\u0430\\u0441\\u0445\\u0430\\u043b\\u044c\\u043d\\u044b\\u0439\\u043a\\u0443\\u043b\\u0438\\u0447<br>2020<br>\\u043a\\u0443\\u043b\\u0438\\u0447\\u0438<br>\\u043f\\u0430\\u0441\\u0445\\u0430\\u043b\\u044c\\u043d\\u044b\\u0435\\u044f\\u0439\\u0446\\u0430<br>\\u0432\\u0435\\u0441\\u043d\\u04302020<br>\\u043a\\u043e\\u0440\\u043e\\u043d\\u0430\\u0432\\u0438\\u0440\\u0443\\u0441<br>easter\", \"comicconrussia<br>comiccon<br>\\u043a\\u043e\\u043c\\u0438\\u043a\\u043a\\u043e\\u043d<br>comiccon2019<br>cosplay<br>comicconrussia2019<br>\\u0438\\u0433\\u0440\\u043e\\u043c\\u0438\\u0440<br>\\u043a\\u043e\\u0441\\u043f\\u043b\\u0435\\u0439<br>\\u0438\\u0433\\u0440\\u043e\\u043c\\u0438\\u04402019<br>igromir<br>@comicconrussia<br>igromir2019<br>\\u043a\\u043e\\u043c\\u0438\\u043a\\u043a\\u043e\\u043d2019<br>admraceway<br>comicconspb\", \"dorosh_anka<br>\\u0434\\u0430\\u0433\\u0438\\u0432\\u043f\\u0438\\u0442\\u0435\\u0440\\u0435<br>\\u0438\\u043d\\u0433\\u0443\\u0448\\u043a\\u0430<br>\\u043b\\u0435\\u0437\\u0433\\u0438\\u043d\\u044b<br>\\u043a\\u0430\\u0437\\u0430\\u0445\\u0438<br>\\u0434\\u0430\\u0433\\u0435\\u0441\\u0442\\u0430\\u043d\\u0446\\u044b<br>\\u0430\\u0432\\u0430\\u0440\\u0446\\u044b<br>\\u0447\\u0435\\u0447\\u0435\\u043d\\u0446\\u044b<br>\\u0430\\u0432\\u0430\\u0440\\u043a\\u0430<br>\\u0434\\u0430\\u0433\\u043f\\u0438\\u0442\\u0435\\u0440<br>\\u0434\\u0430\\u0433\\u0435\\u0441\\u0442\\u0430\\u043d\\u0446\\u044b\\u0432\\u043f\\u0438\\u0442\\u0435\\u0440\\u0435<br>\\u043a\\u0430\\u0431\\u0430\\u0440\\u0434\\u0438\\u043d\\u043a\\u0430<br>\\u0434\\u0430\\u0440\\u0433\\u0438\\u043d\\u0446\\u044b<br>\\u0438\\u043d\\u0433\\u0443\\u0448\\u0438<br>@assa_kavkazci_pitera\", \"vkfest<br>vkfest5<br>vkfest2019<br>\\u0432\\u043a\\u0444\\u0435\\u0441\\u0442<br>@vk_fest<br>\\u0432\\u043a\\u0444\\u0435\\u0441\\u04422019<br>\\u0432\\u043a\\u0444\\u0435\\u0441\\u04425<br>\\u043b\\u0435\\u0442\\u043e2019<br>\\u043f\\u0430\\u0440\\u043a300\\u043b\\u0435\\u0442\\u0438\\u044f\\u0441\\u043f\\u0431<br>\\u0444\\u0435\\u0441\\u0442\\u0438\\u0432\\u0430\\u043b\\u044c\\u0432\\u043a\\u043e\\u043d\\u0442\\u0430\\u043a\\u0442\\u0435<br>300yearspark<br>radiorecord<br>@littlebigband<br>@buzova86<br>@egorkreed\", \"\\u0441\\u0438\\u0434\\u0438\\u043c\\u0434\\u043e\\u043c\\u0430<br>stayhome<br>\\u0441\\u0430\\u043c\\u043e\\u0438\\u0437\\u043e\\u043b\\u044f\\u0446\\u0438\\u044f<br>\\u043a\\u0430\\u0440\\u0430\\u043d\\u0442\\u0438\\u043d<br>\\u043e\\u0441\\u0442\\u0430\\u0432\\u0430\\u0439\\u0442\\u0435\\u0441\\u044c\\u0434\\u043e\\u043c\\u0430<br>\\u043a\\u043e\\u0440\\u043e\\u043d\\u0430\\u0432\\u0438\\u0440\\u0443\\u0441<br>\\u0441\\u0435\\u0432\\u043a\\u0430\\u0431\\u0435\\u043b\\u044c\\u043f\\u043e\\u0440\\u0442<br>@market_u_morya<br>\\u043c\\u0430\\u0440\\u043a\\u0435\\u0442\\u0443\\u043c\\u043e\\u0440\\u044f<br>\\u043f\\u0430\\u0441\\u0445\\u0430<br>\\u0441\\u0438\\u0434\\u0438\\u0434\\u043e\\u043c\\u0430<br>\\u043a\\u0440\\u0430\\u0441\\u0438\\u043c\\u044f\\u0439\\u0446\\u0430<br>natalinamua<br>afterhalloween<br>afterhalloween2019\", \"\\u0442\\u044e\\u043d\\u0438\\u043d\\u0433\\u0443\\u044e\\u0441\\u044c\\u0441\\u0433\\u043e\\u0430\\u0440<br>@goaravetisyan_beauty<br>@akobir_ashurkulovich<br>@goar_avetisyan<br>\\u0433\\u043e\\u0430\\u0440\\u0430\\u0432\\u0435\\u0442\\u0438\\u0441\\u044f\\u043d<br>@aidapetoyan<br>@mary_arutyunova<br>@katerina_kosik<br>goar_avetisyan<br>\\u043d\\u0430\\u0442\\u0430\\u043b\\u0438\\u043d\\u0430\\u043c\\u0443\\u0430\\u0440\\u0430\\u0444\\u043e\\u043d<br>goaravetisyan<br>\\u043a\\u0430\\u0440\\u0430\\u043d\\u0442\\u0438\\u043d<br>natalinamua<br>\\u043c\\u0430\\u0440\\u0430\\u0444\\u043e\\u043d\\u0433\\u043e\\u0430\\u0440<br>\\u0433\\u043e\\u0430\\u0440\\u0430\\u0432\\u0435\\u0442\\u0438\\u0441\\u044f\\u043d\\u043e\\u0431\\u0443\\u0447\\u0435\\u043d\\u0438\\u0435\", \"\\u043d\\u043e\\u0432\\u044b\\u0439\\u0433\\u043e\\u0434<br>2020<br>\\u043d\\u043e\\u0432\\u044b\\u0439\\u0433\\u043e\\u04342020<br>\\u0441\\u043d\\u043e\\u0432\\u044b\\u043c\\u0433\\u043e\\u0434\\u043e\\u043c<br>happynewyear<br>\\u043c\\u0430\\u043d\\u0435\\u0436\\u043d\\u0430\\u044f\\u043f\\u043b\\u043e\\u0449\\u0430\\u0434\\u044c<br>newyear2020<br>\\u0433\\u043e\\u0434\\u043a\\u0440\\u044b\\u0441\\u044b<br>\\u044f\\u0440\\u043c\\u0430\\u0440\\u043a\\u0430\\u043d\\u0430\\u043c\\u0430\\u043d\\u0435\\u0436\\u043d\\u043e\\u0439<br>\\u043f\\u0443\\u0442\\u0435\\u0448\\u0435\\u0441\\u0442\\u0432\\u0438\\u0435\\u0432\\u0440\\u043e\\u0436\\u0434\\u0435\\u0441\\u0442\\u0432\\u043e<br>\\u0441\\u043d\\u043e\\u0432\\u044b\\u043c\\u0433\\u043e\\u0434\\u043e\\u043c2020<br>\\u0440\\u043e\\u0436\\u0434\\u0435\\u0441\\u0442\\u0432\\u0435\\u043d\\u0441\\u043a\\u0430\\u044f\\u044f\\u0440\\u043c\\u0430\\u0440\\u043a\\u0430<br>happynewyear2020<br>\\u0437\\u0438\\u043c\\u04302020<br>\\u043c\\u0430\\u043d\\u0435\\u0436\\u043d\\u0430\\u044f\\u043f\\u043b\\u043e\\u0449\\u0430\\u0434\\u044c\\u0441\\u043f\\u0431\", \"\\u043a\\u0430\\u0440\\u0430\\u043d\\u0442\\u0438\\u043d<br>\\u0441\\u0438\\u0434\\u0438\\u043c\\u0434\\u043e\\u043c\\u0430<br>\\u0441\\u0430\\u043c\\u043e\\u0438\\u0437\\u043e\\u043b\\u044f\\u0446\\u0438\\u044f<br>\\u043a\\u043e\\u0440\\u043e\\u043d\\u0430\\u0432\\u0438\\u0440\\u0443\\u0441<br>\\u043e\\u0441\\u0442\\u0430\\u0432\\u0430\\u0439\\u0442\\u0435\\u0441\\u044c\\u0434\\u043e\\u043c\\u0430<br>stayhome<br>covid19<br>\\u043f\\u0430\\u043d\\u0434\\u0435\\u043c\\u0438\\u044f<br>\\u043a\\u043e\\u0440\\u043e\\u043d\\u043e\\u0432\\u0438\\u0440\\u0443\\u0441<br>\\u0432\\u0438\\u0440\\u0443\\u0441<br>\\u043b\\u0443\\u0447\\u0448\\u0435\\u0434\\u043e\\u043c\\u0430<br>2020<br>quarantine<br>covid_19<br>\\u0441\\u0438\\u0434\\u0438\\u0434\\u043e\\u043c\\u0430\", \"\\u0444\\u0435\\u0439\\u0435\\u0440\\u0432\\u0435\\u0440\\u043a<br>2019<br>\\u0433\\u0440\\u0435\\u0431\\u043d\\u043e\\u0439\\u043a\\u0430\\u043d\\u0430\\u043b<br>\\u043a\\u0440\\u0443\\u0433\\u0441\\u0432\\u0435\\u0442\\u0430<br>fireworks<br>\\u043a\\u0440\\u0443\\u0433\\u0441\\u0432\\u0435\\u0442\\u04302019<br>lightfest<br>@lightfest<br>\\u043b\\u0435\\u0442\\u043e2019<br>\\u0441\\u0430\\u0434\\u044d\\u0440\\u043c\\u0438\\u0442\\u0430\\u0436<br>lightfest2019<br>circleoflight<br>\\u0441\\u0432\\u0435\\u0442\\u043e\\u0432\\u043e\\u0435\\u0448\\u043e\\u0443<br>\\u0444\\u0435\\u0441\\u0442\\u0438\\u0432\\u0430\\u043b\\u044c\\u043a\\u0440\\u0443\\u0433\\u0441\\u0432\\u0435\\u0442\\u0430<br>\\u0444\\u0435\\u0441\\u0442\\u0438\\u0432\\u0430\\u043b\\u044c\\u0441\\u0432\\u0435\\u0442\\u0430\", \"\\u0441\\u0438\\u0434\\u0438\\u043c\\u0434\\u043e\\u043c\\u0430<br>\\u043a\\u0430\\u0440\\u0430\\u043d\\u0442\\u0438\\u043d<br>\\u0441\\u0430\\u043c\\u043e\\u0438\\u0437\\u043e\\u043b\\u044f\\u0446\\u0438\\u044f<br>\\u043e\\u0441\\u0442\\u0430\\u0432\\u0430\\u0439\\u0442\\u0435\\u0441\\u044c\\u0434\\u043e\\u043c\\u0430<br>\\u043a\\u043e\\u0440\\u043e\\u043d\\u0430\\u0432\\u0438\\u0440\\u0443\\u0441<br>stayhome<br>\\u0432\\u0435\\u0441\\u043d\\u04302020<br>\\u0441\\u0438\\u0434\\u0438\\u0434\\u043e\\u043c\\u0430<br>\\u043e\\u0441\\u0442\\u0430\\u0432\\u0430\\u0439\\u0441\\u044f\\u0434\\u043e\\u043c\\u0430<br>\\u043b\\u0443\\u0447\\u0448\\u0435\\u0434\\u043e\\u043c\\u0430<br>2020<br>covid19<br>\\u043a\\u043e\\u0440\\u043e\\u043d\\u043e\\u0432\\u0438\\u0440\\u0443\\u0441<br>\\u0434\\u043e\\u043c\\u0430\\u043b\\u0443\\u0447\\u0448\\u0435<br>\\u0441\\u0430\\u043c\\u043e\\u0438\\u0437\\u043e\\u043b\\u044f\\u0446\\u0438\\u044f2020\"], \"legendgroup\": \"\", \"marker\": {\"color\": [0.0, 1.0, 2.0, 3.0, 4.0, 5.0, 6.0, 7.0, 8.0, 9.0, 10.0, 11.0, 12.0, 13.0, 14.0, 15.0, 16.0, 17.0, 18.0, 19.0, 20.0, 21.0, 22.0, 23.0, 24.0, 25.0, 26.0, 27.0, 28.0], \"coloraxis\": \"coloraxis\", \"size\": [362, 322, 462, 380, 206, 642, 233, 716, 158, 141, 4, 334, 80, 692, 208, 185, 237, 906, 494, 395, 293, 123, 191, 11, 151, 533, 463, 434, 858], \"sizemode\": \"area\", \"sizeref\": 0.1415625, \"symbol\": \"circle\"}, \"mode\": \"markers+text\", \"name\": \"\", \"showlegend\": false, \"text\": [\"skolkovo\", \"\\u0438\\u043d\\u0442\\u0435\\u0440\\u0448\\u0430\\u0440\\u043c2019\", \"\\u0441\\u0435\\u0432\\u043a\\u0430\\u0431\\u0435\\u043b\\u044c\\u043f\\u043e\\u0440\\u0442\", \"\\u0446\\u0438\\u0440\\u043a\\u0447\\u0443\\u0434\\u0435\\u0441\", \"\\u0434\\u0435\\u043d\\u044c\\u043f\\u043e\\u0431\\u0435\\u0434\\u044b\", \"\\u043a\\u0445\\u043b\", \"\\u0441\\u0435\\u0432\\u043a\\u0430\\u0431\\u0435\\u043b\\u044c\\u043f\\u043e\\u0440\\u0442\", \"\\u0440\\u043f\\u043b\", \"estetfashionweek\", \"sgf2019\", \"\\u043a\\u0430\\u0440\\u0430\\u043d\\u0442\\u0438\\u043d\", \"erarta\", \"23\\u0444\\u0435\\u0432\\u0440\\u0430\\u043b\\u044f\", \"\\u043b\\u0435\\u0434\\u043e\\u0432\\u044b\\u0439\", \"\\u0433\\u043e\\u043d\\u043a\\u0430\\u0433\\u0435\\u0440\\u043e\\u0435\\u0432\", \"8\\u043c\\u0430\\u0440\\u0442\\u0430\", \"\\u043c\\u0430\\u0439\", \"a2greenconcert\", \"\\u043a\\u0430\\u0440\\u0430\\u043d\\u0442\\u0438\\u043d\", \"\\u043f\\u0430\\u0441\\u0445\\u0430\", \"comicconrussia\", \"dorosh_anka\", \"vkfest\", \"\\u0441\\u0438\\u0434\\u0438\\u043c\\u0434\\u043e\\u043c\\u0430\", \"\\u0442\\u044e\\u043d\\u0438\\u043d\\u0433\\u0443\\u044e\\u0441\\u044c\\u0441\\u0433\\u043e\\u0430\\u0440\", \"\\u043d\\u043e\\u0432\\u044b\\u0439\\u0433\\u043e\\u0434\", \"\\u043a\\u0430\\u0440\\u0430\\u043d\\u0442\\u0438\\u043d\", \"\\u0444\\u0435\\u0439\\u0435\\u0440\\u0432\\u0435\\u0440\\u043a\", \"\\u0441\\u0438\\u0434\\u0438\\u043c\\u0434\\u043e\\u043c\\u0430\"], \"type\": \"scatter\", \"x\": [-0.46605957859116015, -1.03243463671118, 1.5166411896796537, -0.859596790355263, -9.807589688135922, -0.07615486888514016, -0.9647000952532189, -15.055788404702792, 12.11829188734177, -15.721126476333337, 12.22711405, -1.295111522736527, -15.579617617500002, 2.0380984939364164, -4.920397012173077, 8.320442892108106, 2.0903594200000004, 6.569025871231788, 3.6611115648582992, 5.446816258222785, -1.5616883957337884, 10.91850880293496, -13.447027567560209, -2.799371081818182, 4.002639505430463, -10.03609846360225, 6.240253561453564, -0.883470078281106, 6.041841438336248], \"xaxis\": \"x\", \"y\": [2.704497081599447, -1.7208800883043476, 2.1800350244125544, 2.444618506468421, -9.768342296504855, 2.352856099933022, -1.7443173970171673, -5.592125455121509, -1.8044896275949363, 17.915652746595743, -12.865876225000001, 0.902980858242515, -17.23311416, 15.44903877650289, 0.797047367625, -3.245852717351352, -0.8946136521518988, 15.217957476854306, -16.45043122265182, -10.688213345458228, 2.3199433172184296, 2.0750782561788617, 3.3856556654450265, -7.318063181818181, -6.229799825695365, 2.2877212092120076, -11.92091655037365, 4.136430514935484, -9.159986395656176], \"yaxis\": \"y\"}],\n",
       "                        {\"coloraxis\": {\"colorbar\": {\"title\": {\"text\": \"label\"}}, \"colorscale\": [[0.0, \"#0d0887\"], [0.1111111111111111, \"#46039f\"], [0.2222222222222222, \"#7201a8\"], [0.3333333333333333, \"#9c179e\"], [0.4444444444444444, \"#bd3786\"], [0.5555555555555556, \"#d8576b\"], [0.6666666666666666, \"#ed7953\"], [0.7777777777777778, \"#fb9f3a\"], [0.8888888888888888, \"#fdca26\"], [1.0, \"#f0f921\"]]}, \"legend\": {\"itemsizing\": \"constant\", \"tracegroupgap\": 0}, \"margin\": {\"t\": 60}, \"template\": {\"data\": {\"bar\": [{\"error_x\": {\"color\": \"#2a3f5f\"}, \"error_y\": {\"color\": \"#2a3f5f\"}, \"marker\": {\"line\": {\"color\": \"#E5ECF6\", \"width\": 0.5}}, \"type\": \"bar\"}], \"barpolar\": [{\"marker\": {\"line\": {\"color\": \"#E5ECF6\", \"width\": 0.5}}, \"type\": \"barpolar\"}], \"carpet\": [{\"aaxis\": {\"endlinecolor\": \"#2a3f5f\", \"gridcolor\": \"white\", \"linecolor\": \"white\", \"minorgridcolor\": \"white\", \"startlinecolor\": \"#2a3f5f\"}, \"baxis\": {\"endlinecolor\": \"#2a3f5f\", \"gridcolor\": \"white\", \"linecolor\": \"white\", \"minorgridcolor\": \"white\", \"startlinecolor\": \"#2a3f5f\"}, \"type\": \"carpet\"}], \"choropleth\": [{\"colorbar\": {\"outlinewidth\": 0, \"ticks\": \"\"}, \"type\": \"choropleth\"}], \"contour\": [{\"colorbar\": {\"outlinewidth\": 0, \"ticks\": \"\"}, \"colorscale\": [[0.0, \"#0d0887\"], [0.1111111111111111, \"#46039f\"], [0.2222222222222222, \"#7201a8\"], [0.3333333333333333, \"#9c179e\"], [0.4444444444444444, \"#bd3786\"], [0.5555555555555556, \"#d8576b\"], [0.6666666666666666, \"#ed7953\"], [0.7777777777777778, \"#fb9f3a\"], [0.8888888888888888, \"#fdca26\"], [1.0, \"#f0f921\"]], \"type\": \"contour\"}], \"contourcarpet\": [{\"colorbar\": {\"outlinewidth\": 0, \"ticks\": \"\"}, \"type\": \"contourcarpet\"}], \"heatmap\": [{\"colorbar\": {\"outlinewidth\": 0, \"ticks\": \"\"}, \"colorscale\": [[0.0, \"#0d0887\"], [0.1111111111111111, \"#46039f\"], [0.2222222222222222, \"#7201a8\"], [0.3333333333333333, \"#9c179e\"], [0.4444444444444444, \"#bd3786\"], [0.5555555555555556, \"#d8576b\"], [0.6666666666666666, \"#ed7953\"], [0.7777777777777778, \"#fb9f3a\"], [0.8888888888888888, \"#fdca26\"], [1.0, \"#f0f921\"]], \"type\": \"heatmap\"}], \"heatmapgl\": [{\"colorbar\": {\"outlinewidth\": 0, \"ticks\": \"\"}, \"colorscale\": [[0.0, \"#0d0887\"], [0.1111111111111111, \"#46039f\"], [0.2222222222222222, \"#7201a8\"], [0.3333333333333333, \"#9c179e\"], [0.4444444444444444, \"#bd3786\"], [0.5555555555555556, \"#d8576b\"], [0.6666666666666666, \"#ed7953\"], [0.7777777777777778, \"#fb9f3a\"], [0.8888888888888888, \"#fdca26\"], [1.0, \"#f0f921\"]], \"type\": \"heatmapgl\"}], \"histogram\": [{\"marker\": {\"colorbar\": {\"outlinewidth\": 0, \"ticks\": \"\"}}, \"type\": \"histogram\"}], \"histogram2d\": [{\"colorbar\": {\"outlinewidth\": 0, \"ticks\": \"\"}, \"colorscale\": [[0.0, \"#0d0887\"], [0.1111111111111111, \"#46039f\"], [0.2222222222222222, \"#7201a8\"], [0.3333333333333333, \"#9c179e\"], [0.4444444444444444, \"#bd3786\"], [0.5555555555555556, \"#d8576b\"], [0.6666666666666666, \"#ed7953\"], [0.7777777777777778, \"#fb9f3a\"], [0.8888888888888888, \"#fdca26\"], [1.0, \"#f0f921\"]], \"type\": \"histogram2d\"}], \"histogram2dcontour\": [{\"colorbar\": {\"outlinewidth\": 0, \"ticks\": \"\"}, \"colorscale\": [[0.0, \"#0d0887\"], [0.1111111111111111, \"#46039f\"], [0.2222222222222222, \"#7201a8\"], [0.3333333333333333, \"#9c179e\"], [0.4444444444444444, \"#bd3786\"], [0.5555555555555556, \"#d8576b\"], [0.6666666666666666, \"#ed7953\"], [0.7777777777777778, \"#fb9f3a\"], [0.8888888888888888, \"#fdca26\"], [1.0, \"#f0f921\"]], \"type\": \"histogram2dcontour\"}], \"mesh3d\": [{\"colorbar\": {\"outlinewidth\": 0, \"ticks\": \"\"}, \"type\": \"mesh3d\"}], \"parcoords\": [{\"line\": {\"colorbar\": {\"outlinewidth\": 0, \"ticks\": \"\"}}, \"type\": \"parcoords\"}], \"pie\": [{\"automargin\": true, \"type\": \"pie\"}], \"scatter\": [{\"marker\": {\"colorbar\": {\"outlinewidth\": 0, \"ticks\": \"\"}}, \"type\": \"scatter\"}], \"scatter3d\": [{\"line\": {\"colorbar\": {\"outlinewidth\": 0, \"ticks\": \"\"}}, \"marker\": {\"colorbar\": {\"outlinewidth\": 0, \"ticks\": \"\"}}, \"type\": \"scatter3d\"}], \"scattercarpet\": [{\"marker\": {\"colorbar\": {\"outlinewidth\": 0, \"ticks\": \"\"}}, \"type\": \"scattercarpet\"}], \"scattergeo\": [{\"marker\": {\"colorbar\": {\"outlinewidth\": 0, \"ticks\": \"\"}}, \"type\": \"scattergeo\"}], \"scattergl\": [{\"marker\": {\"colorbar\": {\"outlinewidth\": 0, \"ticks\": \"\"}}, \"type\": \"scattergl\"}], \"scattermapbox\": [{\"marker\": {\"colorbar\": {\"outlinewidth\": 0, \"ticks\": \"\"}}, \"type\": \"scattermapbox\"}], \"scatterpolar\": [{\"marker\": {\"colorbar\": {\"outlinewidth\": 0, \"ticks\": \"\"}}, \"type\": \"scatterpolar\"}], \"scatterpolargl\": [{\"marker\": {\"colorbar\": {\"outlinewidth\": 0, \"ticks\": \"\"}}, \"type\": \"scatterpolargl\"}], \"scatterternary\": [{\"marker\": {\"colorbar\": {\"outlinewidth\": 0, \"ticks\": \"\"}}, \"type\": \"scatterternary\"}], \"surface\": [{\"colorbar\": {\"outlinewidth\": 0, \"ticks\": \"\"}, \"colorscale\": [[0.0, \"#0d0887\"], [0.1111111111111111, \"#46039f\"], [0.2222222222222222, \"#7201a8\"], [0.3333333333333333, \"#9c179e\"], [0.4444444444444444, \"#bd3786\"], [0.5555555555555556, \"#d8576b\"], [0.6666666666666666, \"#ed7953\"], [0.7777777777777778, \"#fb9f3a\"], [0.8888888888888888, \"#fdca26\"], [1.0, \"#f0f921\"]], \"type\": \"surface\"}], \"table\": [{\"cells\": {\"fill\": {\"color\": \"#EBF0F8\"}, \"line\": {\"color\": \"white\"}}, \"header\": {\"fill\": {\"color\": \"#C8D4E3\"}, \"line\": {\"color\": \"white\"}}, \"type\": \"table\"}]}, \"layout\": {\"annotationdefaults\": {\"arrowcolor\": \"#2a3f5f\", \"arrowhead\": 0, \"arrowwidth\": 1}, \"coloraxis\": {\"colorbar\": {\"outlinewidth\": 0, \"ticks\": \"\"}}, \"colorscale\": {\"diverging\": [[0, \"#8e0152\"], [0.1, \"#c51b7d\"], [0.2, \"#de77ae\"], [0.3, \"#f1b6da\"], [0.4, \"#fde0ef\"], [0.5, \"#f7f7f7\"], [0.6, \"#e6f5d0\"], [0.7, \"#b8e186\"], [0.8, \"#7fbc41\"], [0.9, \"#4d9221\"], [1, \"#276419\"]], \"sequential\": [[0.0, \"#0d0887\"], [0.1111111111111111, \"#46039f\"], [0.2222222222222222, \"#7201a8\"], [0.3333333333333333, \"#9c179e\"], [0.4444444444444444, \"#bd3786\"], [0.5555555555555556, \"#d8576b\"], [0.6666666666666666, \"#ed7953\"], [0.7777777777777778, \"#fb9f3a\"], [0.8888888888888888, \"#fdca26\"], [1.0, \"#f0f921\"]], \"sequentialminus\": [[0.0, \"#0d0887\"], [0.1111111111111111, \"#46039f\"], [0.2222222222222222, \"#7201a8\"], [0.3333333333333333, \"#9c179e\"], [0.4444444444444444, \"#bd3786\"], [0.5555555555555556, \"#d8576b\"], [0.6666666666666666, \"#ed7953\"], [0.7777777777777778, \"#fb9f3a\"], [0.8888888888888888, \"#fdca26\"], [1.0, \"#f0f921\"]]}, \"colorway\": [\"#636efa\", \"#EF553B\", \"#00cc96\", \"#ab63fa\", \"#FFA15A\", \"#19d3f3\", \"#FF6692\", \"#B6E880\", \"#FF97FF\", \"#FECB52\"], \"font\": {\"color\": \"#2a3f5f\"}, \"geo\": {\"bgcolor\": \"white\", \"lakecolor\": \"white\", \"landcolor\": \"#E5ECF6\", \"showlakes\": true, \"showland\": true, \"subunitcolor\": \"white\"}, \"hoverlabel\": {\"align\": \"left\"}, \"hovermode\": \"closest\", \"mapbox\": {\"style\": \"light\"}, \"paper_bgcolor\": \"white\", \"plot_bgcolor\": \"#E5ECF6\", \"polar\": {\"angularaxis\": {\"gridcolor\": \"white\", \"linecolor\": \"white\", \"ticks\": \"\"}, \"bgcolor\": \"#E5ECF6\", \"radialaxis\": {\"gridcolor\": \"white\", \"linecolor\": \"white\", \"ticks\": \"\"}}, \"scene\": {\"xaxis\": {\"backgroundcolor\": \"#E5ECF6\", \"gridcolor\": \"white\", \"gridwidth\": 2, \"linecolor\": \"white\", \"showbackground\": true, \"ticks\": \"\", \"zerolinecolor\": \"white\"}, \"yaxis\": {\"backgroundcolor\": \"#E5ECF6\", \"gridcolor\": \"white\", \"gridwidth\": 2, \"linecolor\": \"white\", \"showbackground\": true, \"ticks\": \"\", \"zerolinecolor\": \"white\"}, \"zaxis\": {\"backgroundcolor\": \"#E5ECF6\", \"gridcolor\": \"white\", \"gridwidth\": 2, \"linecolor\": \"white\", \"showbackground\": true, \"ticks\": \"\", \"zerolinecolor\": \"white\"}}, \"shapedefaults\": {\"line\": {\"color\": \"#2a3f5f\"}}, \"ternary\": {\"aaxis\": {\"gridcolor\": \"white\", \"linecolor\": \"white\", \"ticks\": \"\"}, \"baxis\": {\"gridcolor\": \"white\", \"linecolor\": \"white\", \"ticks\": \"\"}, \"bgcolor\": \"#E5ECF6\", \"caxis\": {\"gridcolor\": \"white\", \"linecolor\": \"white\", \"ticks\": \"\"}}, \"title\": {\"x\": 0.05}, \"xaxis\": {\"automargin\": true, \"gridcolor\": \"white\", \"linecolor\": \"white\", \"ticks\": \"\", \"title\": {\"standoff\": 15}, \"zerolinecolor\": \"white\", \"zerolinewidth\": 2}, \"yaxis\": {\"automargin\": true, \"gridcolor\": \"white\", \"linecolor\": \"white\", \"ticks\": \"\", \"title\": {\"standoff\": 15}, \"zerolinecolor\": \"white\", \"zerolinewidth\": 2}}}, \"xaxis\": {\"anchor\": \"y\", \"domain\": [0.0, 1.0], \"title\": {\"text\": \"x\"}}, \"yaxis\": {\"anchor\": \"x\", \"domain\": [0.0, 1.0], \"title\": {\"text\": \"y\"}}},\n",
       "                        {\"responsive\": true}\n",
       "                    ).then(function(){\n",
       "                            \n",
       "var gd = document.getElementById('0c831b20-e237-46a8-9df2-c8a2d3d786f9');\n",
       "var x = new MutationObserver(function (mutations, observer) {{\n",
       "        var display = window.getComputedStyle(gd).display;\n",
       "        if (!display || display === 'none') {{\n",
       "            console.log([gd, 'removed!']);\n",
       "            Plotly.purge(gd);\n",
       "            observer.disconnect();\n",
       "        }}\n",
       "}});\n",
       "\n",
       "// Listen for the removal of the full notebook cells\n",
       "var notebookContainer = gd.closest('#notebook-container');\n",
       "if (notebookContainer) {{\n",
       "    x.observe(notebookContainer, {childList: true});\n",
       "}}\n",
       "\n",
       "// Listen for the clearing of the current output cell\n",
       "var outputEl = gd.closest('.output');\n",
       "if (outputEl) {{\n",
       "    x.observe(outputEl, {childList: true});\n",
       "}}\n",
       "\n",
       "                        })\n",
       "                };\n",
       "                });\n",
       "            </script>\n",
       "        </div>"
      ]
     },
     "metadata": {},
     "output_type": "display_data"
    }
   ],
   "source": [
    "reload(tools)\n",
    "df = tools.read_events(TMP_PATH + 'df_km.csv')\n",
    "scores = pd.read_csv(TMP_PATH + 'scores_km.csv')\n",
    "# def find_best_score(scores_df: pd.DataFrame, score_name: str):\n",
    "best = tools.find_best_score(scores, 'f1')\n",
    "print(best)\n",
    "# def plot_score(scores_df: pd.DataFrame, y, x='n_clusters', x_title='n clusters', y_title='score value'):\n",
    "tools.plot_score(scores, 'f1').show()\n",
    "# def plot_events(df: pd.DataFrame, color:str or int, hover_name='title'):\n",
    "tools.plot_events(df, best['n_clusters'])\n",
    "# def calc_centroids(df: pd.DataFrame, n:int, hashtags_size=15):\n",
    "centroids = tools.calc_centroids(df, best['n_clusters'])\n",
    "# def plot_centroids(df_centroids, size_max=100, size_text_tags=0, min_size=0, max_size=None):\n",
    "fig, _ = tools.plot_centroids(centroids, size_max=80, size_text_tags=1)\n",
    "fig.show()"
   ]
  },
  {
   "cell_type": "code",
   "execution_count": 20,
   "metadata": {},
   "outputs": [
    {
     "name": "stdout",
     "output_type": "stream",
     "text": [
      "{'name': 'f1', 'value': 0.4530082579630358, 'n_clusters': 12}\n"
     ]
    },
    {
     "data": {
      "application/vnd.plotly.v1+json": {
       "config": {
        "plotlyServerURL": "https://plot.ly"
       },
       "data": [
        {
         "name": "f1",
         "type": "scatter",
         "x": [
          5,
          6,
          7,
          8,
          9,
          10,
          11,
          12,
          13,
          14,
          15,
          16,
          17,
          18,
          19,
          20,
          21,
          22,
          23,
          24,
          25,
          26,
          27,
          28,
          29,
          30,
          31,
          32,
          33,
          34,
          35,
          36,
          37,
          38,
          39,
          40,
          41,
          42,
          43,
          44,
          45,
          46,
          47,
          48,
          49,
          50,
          51,
          52,
          53,
          54,
          55,
          56,
          57,
          58,
          59,
          60,
          61,
          62,
          63,
          64,
          65,
          66,
          67,
          68,
          69,
          70,
          71,
          72,
          73,
          74,
          75,
          76,
          77,
          78,
          79,
          80,
          81,
          82,
          83,
          84,
          85,
          86,
          87,
          88,
          89,
          90,
          91,
          92,
          93,
          94,
          95,
          96,
          97,
          98,
          99,
          100,
          101,
          102,
          103,
          104,
          105,
          106,
          107,
          108,
          109,
          110,
          111,
          112,
          113,
          114,
          115,
          116,
          117,
          118,
          119,
          120,
          121,
          122,
          123,
          124,
          125,
          126,
          127,
          128,
          129,
          130,
          131,
          132,
          133,
          134,
          135,
          136,
          137,
          138,
          139,
          140,
          141,
          142,
          143,
          144,
          145,
          146,
          147,
          148,
          149,
          150
         ],
         "y": [
          0.35122197026958923,
          0.3524844720496895,
          0.3700564971751413,
          0.38686567164179103,
          0.3864994026284349,
          0.4521943573667712,
          0.4521943573667712,
          0.4530082579630358,
          0.3938487825715506,
          0.3847191011235954,
          0.3847191011235954,
          0.3857593510590355,
          0.39904761904761904,
          0.4122137404580153,
          0.4122137404580153,
          0.3933747412008281,
          0.3935784567581564,
          0.3931535269709544,
          0.3857758620689655,
          0.3922437673130194,
          0.4126040428061831,
          0.4166164960866948,
          0.4166164960866948,
          0.4173703256936068,
          0.4206686930091186,
          0.4181483752299204,
          0.3967661691542289,
          0.3967661691542289,
          0.3419354838709677,
          0.3449637919684002,
          0.3195187165775401,
          0.3195187165775401,
          0.3195187165775401,
          0.3225371120107962,
          0.32043448744059744,
          0.3175906913073238,
          0.3118131868131868,
          0.30949105914718017,
          0.3045897079276773,
          0.3048016701461378,
          0.3048016701461378,
          0.3048016701461378,
          0.3072586328400282,
          0.3072586328400282,
          0.31069364161849705,
          0.31069364161849705,
          0.30624092888243826,
          0.2941176470588235,
          0.29329403095062634,
          0.2941611234294161,
          0.2941611234294161,
          0.2938105891126025,
          0.2925731432858215,
          0.2925731432858215,
          0.2867924528301887,
          0.2874432677760968,
          0.2874432677760968,
          0.2874432677760968,
          0.28658074298711145,
          0.2857142857142857,
          0.2857142857142857,
          0.2857142857142857,
          0.2857142857142857,
          0.2857142857142857,
          0.2848438690022848,
          0.2848438690022848,
          0.2848438690022848,
          0.2852784134248665,
          0.2863705972434916,
          0.2863705972434916,
          0.28659003831417623,
          0.28659003831417623,
          0.28659003831417623,
          0.2852760736196319,
          0.2852760736196319,
          0.2854950115118956,
          0.2605304212168487,
          0.2605304212168487,
          0.2440944881889764,
          0.2442868400315209,
          0.2429022082018928,
          0.2429022082018928,
          0.2429022082018928,
          0.2432859399684044,
          0.23790642347343374,
          0.23790642347343374,
          0.2354813046937152,
          0.2356687898089172,
          0.22293504410585405,
          0.2231139646869984,
          0.2225806451612903,
          0.22276029055690072,
          0.22294022617124395,
          0.22294022617124395,
          0.22312045270816488,
          0.22312045270816488,
          0.2233009708737864,
          0.22348178137651825,
          0.22348178137651825,
          0.22348178137651825,
          0.22348178137651825,
          0.22366288492706646,
          0.2238442822384428,
          0.2238442822384428,
          0.2238442822384428,
          0.2238442822384428,
          0.2238442822384428,
          0.224025974025974,
          0.2242079610073111,
          0.2242079610073111,
          0.2242079610073111,
          0.2242079610073111,
          0.2242079610073111,
          0.224390243902439,
          0.224390243902439,
          0.224390243902439,
          0.224390243902439,
          0.224390243902439,
          0.22457282343368595,
          0.22457282343368595,
          0.2247557003257329,
          0.22493887530562345,
          0.22493887530562345,
          0.22493887530562345,
          0.22512234910277326,
          0.22512234910277326,
          0.22512234910277326,
          0.22512234910277326,
          0.22512234910277326,
          0.22512234910277326,
          0.22512234910277326,
          0.22385620915032675,
          0.22385620915032675,
          0.22385620915032675,
          0.22240392477514312,
          0.22240392477514312,
          0.22240392477514312,
          0.22240392477514312,
          0.22240392477514312,
          0.22240392477514312,
          0.22240392477514312,
          0.22094926350245497,
          0.22131147540983606,
          0.22131147540983606,
          0.22131147540983606,
          0.21563786008230454
         ]
        }
       ],
       "layout": {
        "template": {
         "data": {
          "bar": [
           {
            "error_x": {
             "color": "#2a3f5f"
            },
            "error_y": {
             "color": "#2a3f5f"
            },
            "marker": {
             "line": {
              "color": "#E5ECF6",
              "width": 0.5
             }
            },
            "type": "bar"
           }
          ],
          "barpolar": [
           {
            "marker": {
             "line": {
              "color": "#E5ECF6",
              "width": 0.5
             }
            },
            "type": "barpolar"
           }
          ],
          "carpet": [
           {
            "aaxis": {
             "endlinecolor": "#2a3f5f",
             "gridcolor": "white",
             "linecolor": "white",
             "minorgridcolor": "white",
             "startlinecolor": "#2a3f5f"
            },
            "baxis": {
             "endlinecolor": "#2a3f5f",
             "gridcolor": "white",
             "linecolor": "white",
             "minorgridcolor": "white",
             "startlinecolor": "#2a3f5f"
            },
            "type": "carpet"
           }
          ],
          "choropleth": [
           {
            "colorbar": {
             "outlinewidth": 0,
             "ticks": ""
            },
            "type": "choropleth"
           }
          ],
          "contour": [
           {
            "colorbar": {
             "outlinewidth": 0,
             "ticks": ""
            },
            "colorscale": [
             [
              0,
              "#0d0887"
             ],
             [
              0.1111111111111111,
              "#46039f"
             ],
             [
              0.2222222222222222,
              "#7201a8"
             ],
             [
              0.3333333333333333,
              "#9c179e"
             ],
             [
              0.4444444444444444,
              "#bd3786"
             ],
             [
              0.5555555555555556,
              "#d8576b"
             ],
             [
              0.6666666666666666,
              "#ed7953"
             ],
             [
              0.7777777777777778,
              "#fb9f3a"
             ],
             [
              0.8888888888888888,
              "#fdca26"
             ],
             [
              1,
              "#f0f921"
             ]
            ],
            "type": "contour"
           }
          ],
          "contourcarpet": [
           {
            "colorbar": {
             "outlinewidth": 0,
             "ticks": ""
            },
            "type": "contourcarpet"
           }
          ],
          "heatmap": [
           {
            "colorbar": {
             "outlinewidth": 0,
             "ticks": ""
            },
            "colorscale": [
             [
              0,
              "#0d0887"
             ],
             [
              0.1111111111111111,
              "#46039f"
             ],
             [
              0.2222222222222222,
              "#7201a8"
             ],
             [
              0.3333333333333333,
              "#9c179e"
             ],
             [
              0.4444444444444444,
              "#bd3786"
             ],
             [
              0.5555555555555556,
              "#d8576b"
             ],
             [
              0.6666666666666666,
              "#ed7953"
             ],
             [
              0.7777777777777778,
              "#fb9f3a"
             ],
             [
              0.8888888888888888,
              "#fdca26"
             ],
             [
              1,
              "#f0f921"
             ]
            ],
            "type": "heatmap"
           }
          ],
          "heatmapgl": [
           {
            "colorbar": {
             "outlinewidth": 0,
             "ticks": ""
            },
            "colorscale": [
             [
              0,
              "#0d0887"
             ],
             [
              0.1111111111111111,
              "#46039f"
             ],
             [
              0.2222222222222222,
              "#7201a8"
             ],
             [
              0.3333333333333333,
              "#9c179e"
             ],
             [
              0.4444444444444444,
              "#bd3786"
             ],
             [
              0.5555555555555556,
              "#d8576b"
             ],
             [
              0.6666666666666666,
              "#ed7953"
             ],
             [
              0.7777777777777778,
              "#fb9f3a"
             ],
             [
              0.8888888888888888,
              "#fdca26"
             ],
             [
              1,
              "#f0f921"
             ]
            ],
            "type": "heatmapgl"
           }
          ],
          "histogram": [
           {
            "marker": {
             "colorbar": {
              "outlinewidth": 0,
              "ticks": ""
             }
            },
            "type": "histogram"
           }
          ],
          "histogram2d": [
           {
            "colorbar": {
             "outlinewidth": 0,
             "ticks": ""
            },
            "colorscale": [
             [
              0,
              "#0d0887"
             ],
             [
              0.1111111111111111,
              "#46039f"
             ],
             [
              0.2222222222222222,
              "#7201a8"
             ],
             [
              0.3333333333333333,
              "#9c179e"
             ],
             [
              0.4444444444444444,
              "#bd3786"
             ],
             [
              0.5555555555555556,
              "#d8576b"
             ],
             [
              0.6666666666666666,
              "#ed7953"
             ],
             [
              0.7777777777777778,
              "#fb9f3a"
             ],
             [
              0.8888888888888888,
              "#fdca26"
             ],
             [
              1,
              "#f0f921"
             ]
            ],
            "type": "histogram2d"
           }
          ],
          "histogram2dcontour": [
           {
            "colorbar": {
             "outlinewidth": 0,
             "ticks": ""
            },
            "colorscale": [
             [
              0,
              "#0d0887"
             ],
             [
              0.1111111111111111,
              "#46039f"
             ],
             [
              0.2222222222222222,
              "#7201a8"
             ],
             [
              0.3333333333333333,
              "#9c179e"
             ],
             [
              0.4444444444444444,
              "#bd3786"
             ],
             [
              0.5555555555555556,
              "#d8576b"
             ],
             [
              0.6666666666666666,
              "#ed7953"
             ],
             [
              0.7777777777777778,
              "#fb9f3a"
             ],
             [
              0.8888888888888888,
              "#fdca26"
             ],
             [
              1,
              "#f0f921"
             ]
            ],
            "type": "histogram2dcontour"
           }
          ],
          "mesh3d": [
           {
            "colorbar": {
             "outlinewidth": 0,
             "ticks": ""
            },
            "type": "mesh3d"
           }
          ],
          "parcoords": [
           {
            "line": {
             "colorbar": {
              "outlinewidth": 0,
              "ticks": ""
             }
            },
            "type": "parcoords"
           }
          ],
          "pie": [
           {
            "automargin": true,
            "type": "pie"
           }
          ],
          "scatter": [
           {
            "marker": {
             "colorbar": {
              "outlinewidth": 0,
              "ticks": ""
             }
            },
            "type": "scatter"
           }
          ],
          "scatter3d": [
           {
            "line": {
             "colorbar": {
              "outlinewidth": 0,
              "ticks": ""
             }
            },
            "marker": {
             "colorbar": {
              "outlinewidth": 0,
              "ticks": ""
             }
            },
            "type": "scatter3d"
           }
          ],
          "scattercarpet": [
           {
            "marker": {
             "colorbar": {
              "outlinewidth": 0,
              "ticks": ""
             }
            },
            "type": "scattercarpet"
           }
          ],
          "scattergeo": [
           {
            "marker": {
             "colorbar": {
              "outlinewidth": 0,
              "ticks": ""
             }
            },
            "type": "scattergeo"
           }
          ],
          "scattergl": [
           {
            "marker": {
             "colorbar": {
              "outlinewidth": 0,
              "ticks": ""
             }
            },
            "type": "scattergl"
           }
          ],
          "scattermapbox": [
           {
            "marker": {
             "colorbar": {
              "outlinewidth": 0,
              "ticks": ""
             }
            },
            "type": "scattermapbox"
           }
          ],
          "scatterpolar": [
           {
            "marker": {
             "colorbar": {
              "outlinewidth": 0,
              "ticks": ""
             }
            },
            "type": "scatterpolar"
           }
          ],
          "scatterpolargl": [
           {
            "marker": {
             "colorbar": {
              "outlinewidth": 0,
              "ticks": ""
             }
            },
            "type": "scatterpolargl"
           }
          ],
          "scatterternary": [
           {
            "marker": {
             "colorbar": {
              "outlinewidth": 0,
              "ticks": ""
             }
            },
            "type": "scatterternary"
           }
          ],
          "surface": [
           {
            "colorbar": {
             "outlinewidth": 0,
             "ticks": ""
            },
            "colorscale": [
             [
              0,
              "#0d0887"
             ],
             [
              0.1111111111111111,
              "#46039f"
             ],
             [
              0.2222222222222222,
              "#7201a8"
             ],
             [
              0.3333333333333333,
              "#9c179e"
             ],
             [
              0.4444444444444444,
              "#bd3786"
             ],
             [
              0.5555555555555556,
              "#d8576b"
             ],
             [
              0.6666666666666666,
              "#ed7953"
             ],
             [
              0.7777777777777778,
              "#fb9f3a"
             ],
             [
              0.8888888888888888,
              "#fdca26"
             ],
             [
              1,
              "#f0f921"
             ]
            ],
            "type": "surface"
           }
          ],
          "table": [
           {
            "cells": {
             "fill": {
              "color": "#EBF0F8"
             },
             "line": {
              "color": "white"
             }
            },
            "header": {
             "fill": {
              "color": "#C8D4E3"
             },
             "line": {
              "color": "white"
             }
            },
            "type": "table"
           }
          ]
         },
         "layout": {
          "annotationdefaults": {
           "arrowcolor": "#2a3f5f",
           "arrowhead": 0,
           "arrowwidth": 1
          },
          "coloraxis": {
           "colorbar": {
            "outlinewidth": 0,
            "ticks": ""
           }
          },
          "colorscale": {
           "diverging": [
            [
             0,
             "#8e0152"
            ],
            [
             0.1,
             "#c51b7d"
            ],
            [
             0.2,
             "#de77ae"
            ],
            [
             0.3,
             "#f1b6da"
            ],
            [
             0.4,
             "#fde0ef"
            ],
            [
             0.5,
             "#f7f7f7"
            ],
            [
             0.6,
             "#e6f5d0"
            ],
            [
             0.7,
             "#b8e186"
            ],
            [
             0.8,
             "#7fbc41"
            ],
            [
             0.9,
             "#4d9221"
            ],
            [
             1,
             "#276419"
            ]
           ],
           "sequential": [
            [
             0,
             "#0d0887"
            ],
            [
             0.1111111111111111,
             "#46039f"
            ],
            [
             0.2222222222222222,
             "#7201a8"
            ],
            [
             0.3333333333333333,
             "#9c179e"
            ],
            [
             0.4444444444444444,
             "#bd3786"
            ],
            [
             0.5555555555555556,
             "#d8576b"
            ],
            [
             0.6666666666666666,
             "#ed7953"
            ],
            [
             0.7777777777777778,
             "#fb9f3a"
            ],
            [
             0.8888888888888888,
             "#fdca26"
            ],
            [
             1,
             "#f0f921"
            ]
           ],
           "sequentialminus": [
            [
             0,
             "#0d0887"
            ],
            [
             0.1111111111111111,
             "#46039f"
            ],
            [
             0.2222222222222222,
             "#7201a8"
            ],
            [
             0.3333333333333333,
             "#9c179e"
            ],
            [
             0.4444444444444444,
             "#bd3786"
            ],
            [
             0.5555555555555556,
             "#d8576b"
            ],
            [
             0.6666666666666666,
             "#ed7953"
            ],
            [
             0.7777777777777778,
             "#fb9f3a"
            ],
            [
             0.8888888888888888,
             "#fdca26"
            ],
            [
             1,
             "#f0f921"
            ]
           ]
          },
          "colorway": [
           "#636efa",
           "#EF553B",
           "#00cc96",
           "#ab63fa",
           "#FFA15A",
           "#19d3f3",
           "#FF6692",
           "#B6E880",
           "#FF97FF",
           "#FECB52"
          ],
          "font": {
           "color": "#2a3f5f"
          },
          "geo": {
           "bgcolor": "white",
           "lakecolor": "white",
           "landcolor": "#E5ECF6",
           "showlakes": true,
           "showland": true,
           "subunitcolor": "white"
          },
          "hoverlabel": {
           "align": "left"
          },
          "hovermode": "closest",
          "mapbox": {
           "style": "light"
          },
          "paper_bgcolor": "white",
          "plot_bgcolor": "#E5ECF6",
          "polar": {
           "angularaxis": {
            "gridcolor": "white",
            "linecolor": "white",
            "ticks": ""
           },
           "bgcolor": "#E5ECF6",
           "radialaxis": {
            "gridcolor": "white",
            "linecolor": "white",
            "ticks": ""
           }
          },
          "scene": {
           "xaxis": {
            "backgroundcolor": "#E5ECF6",
            "gridcolor": "white",
            "gridwidth": 2,
            "linecolor": "white",
            "showbackground": true,
            "ticks": "",
            "zerolinecolor": "white"
           },
           "yaxis": {
            "backgroundcolor": "#E5ECF6",
            "gridcolor": "white",
            "gridwidth": 2,
            "linecolor": "white",
            "showbackground": true,
            "ticks": "",
            "zerolinecolor": "white"
           },
           "zaxis": {
            "backgroundcolor": "#E5ECF6",
            "gridcolor": "white",
            "gridwidth": 2,
            "linecolor": "white",
            "showbackground": true,
            "ticks": "",
            "zerolinecolor": "white"
           }
          },
          "shapedefaults": {
           "line": {
            "color": "#2a3f5f"
           }
          },
          "ternary": {
           "aaxis": {
            "gridcolor": "white",
            "linecolor": "white",
            "ticks": ""
           },
           "baxis": {
            "gridcolor": "white",
            "linecolor": "white",
            "ticks": ""
           },
           "bgcolor": "#E5ECF6",
           "caxis": {
            "gridcolor": "white",
            "linecolor": "white",
            "ticks": ""
           }
          },
          "title": {
           "x": 0.05
          },
          "xaxis": {
           "automargin": true,
           "gridcolor": "white",
           "linecolor": "white",
           "ticks": "",
           "title": {
            "standoff": 15
           },
           "zerolinecolor": "white",
           "zerolinewidth": 2
          },
          "yaxis": {
           "automargin": true,
           "gridcolor": "white",
           "linecolor": "white",
           "ticks": "",
           "title": {
            "standoff": 15
           },
           "zerolinecolor": "white",
           "zerolinewidth": 2
          }
         }
        },
        "xaxis": {
         "title": {
          "text": "n clusters"
         }
        },
        "yaxis": {
         "title": {
          "text": "score value"
         }
        }
       }
      },
      "text/html": [
       "<div>\n",
       "        \n",
       "        \n",
       "            <div id=\"24c4b050-e2cc-402b-a03e-16ec244d23cc\" class=\"plotly-graph-div\" style=\"height:525px; width:100%;\"></div>\n",
       "            <script type=\"text/javascript\">\n",
       "                require([\"plotly\"], function(Plotly) {\n",
       "                    window.PLOTLYENV=window.PLOTLYENV || {};\n",
       "                    \n",
       "                if (document.getElementById(\"24c4b050-e2cc-402b-a03e-16ec244d23cc\")) {\n",
       "                    Plotly.newPlot(\n",
       "                        '24c4b050-e2cc-402b-a03e-16ec244d23cc',\n",
       "                        [{\"name\": \"f1\", \"type\": \"scatter\", \"x\": [5, 6, 7, 8, 9, 10, 11, 12, 13, 14, 15, 16, 17, 18, 19, 20, 21, 22, 23, 24, 25, 26, 27, 28, 29, 30, 31, 32, 33, 34, 35, 36, 37, 38, 39, 40, 41, 42, 43, 44, 45, 46, 47, 48, 49, 50, 51, 52, 53, 54, 55, 56, 57, 58, 59, 60, 61, 62, 63, 64, 65, 66, 67, 68, 69, 70, 71, 72, 73, 74, 75, 76, 77, 78, 79, 80, 81, 82, 83, 84, 85, 86, 87, 88, 89, 90, 91, 92, 93, 94, 95, 96, 97, 98, 99, 100, 101, 102, 103, 104, 105, 106, 107, 108, 109, 110, 111, 112, 113, 114, 115, 116, 117, 118, 119, 120, 121, 122, 123, 124, 125, 126, 127, 128, 129, 130, 131, 132, 133, 134, 135, 136, 137, 138, 139, 140, 141, 142, 143, 144, 145, 146, 147, 148, 149, 150], \"y\": [0.35122197026958923, 0.3524844720496895, 0.3700564971751413, 0.38686567164179103, 0.3864994026284349, 0.4521943573667712, 0.4521943573667712, 0.4530082579630358, 0.3938487825715506, 0.3847191011235954, 0.3847191011235954, 0.3857593510590355, 0.39904761904761904, 0.4122137404580153, 0.4122137404580153, 0.3933747412008281, 0.3935784567581564, 0.3931535269709544, 0.3857758620689655, 0.3922437673130194, 0.4126040428061831, 0.4166164960866948, 0.4166164960866948, 0.4173703256936068, 0.4206686930091186, 0.4181483752299204, 0.3967661691542289, 0.3967661691542289, 0.3419354838709677, 0.3449637919684002, 0.3195187165775401, 0.3195187165775401, 0.3195187165775401, 0.3225371120107962, 0.32043448744059744, 0.3175906913073238, 0.3118131868131868, 0.30949105914718017, 0.3045897079276773, 0.3048016701461378, 0.3048016701461378, 0.3048016701461378, 0.3072586328400282, 0.3072586328400282, 0.31069364161849705, 0.31069364161849705, 0.30624092888243826, 0.2941176470588235, 0.29329403095062634, 0.2941611234294161, 0.2941611234294161, 0.2938105891126025, 0.2925731432858215, 0.2925731432858215, 0.2867924528301887, 0.2874432677760968, 0.2874432677760968, 0.2874432677760968, 0.28658074298711145, 0.2857142857142857, 0.2857142857142857, 0.2857142857142857, 0.2857142857142857, 0.2857142857142857, 0.2848438690022848, 0.2848438690022848, 0.2848438690022848, 0.2852784134248665, 0.2863705972434916, 0.2863705972434916, 0.28659003831417623, 0.28659003831417623, 0.28659003831417623, 0.2852760736196319, 0.2852760736196319, 0.2854950115118956, 0.2605304212168487, 0.2605304212168487, 0.2440944881889764, 0.2442868400315209, 0.2429022082018928, 0.2429022082018928, 0.2429022082018928, 0.2432859399684044, 0.23790642347343374, 0.23790642347343374, 0.2354813046937152, 0.2356687898089172, 0.22293504410585405, 0.2231139646869984, 0.2225806451612903, 0.22276029055690072, 0.22294022617124395, 0.22294022617124395, 0.22312045270816488, 0.22312045270816488, 0.2233009708737864, 0.22348178137651825, 0.22348178137651825, 0.22348178137651825, 0.22348178137651825, 0.22366288492706646, 0.2238442822384428, 0.2238442822384428, 0.2238442822384428, 0.2238442822384428, 0.2238442822384428, 0.224025974025974, 0.2242079610073111, 0.2242079610073111, 0.2242079610073111, 0.2242079610073111, 0.2242079610073111, 0.224390243902439, 0.224390243902439, 0.224390243902439, 0.224390243902439, 0.224390243902439, 0.22457282343368595, 0.22457282343368595, 0.2247557003257329, 0.22493887530562345, 0.22493887530562345, 0.22493887530562345, 0.22512234910277326, 0.22512234910277326, 0.22512234910277326, 0.22512234910277326, 0.22512234910277326, 0.22512234910277326, 0.22512234910277326, 0.22385620915032675, 0.22385620915032675, 0.22385620915032675, 0.22240392477514312, 0.22240392477514312, 0.22240392477514312, 0.22240392477514312, 0.22240392477514312, 0.22240392477514312, 0.22240392477514312, 0.22094926350245497, 0.22131147540983606, 0.22131147540983606, 0.22131147540983606, 0.21563786008230454]}],\n",
       "                        {\"template\": {\"data\": {\"bar\": [{\"error_x\": {\"color\": \"#2a3f5f\"}, \"error_y\": {\"color\": \"#2a3f5f\"}, \"marker\": {\"line\": {\"color\": \"#E5ECF6\", \"width\": 0.5}}, \"type\": \"bar\"}], \"barpolar\": [{\"marker\": {\"line\": {\"color\": \"#E5ECF6\", \"width\": 0.5}}, \"type\": \"barpolar\"}], \"carpet\": [{\"aaxis\": {\"endlinecolor\": \"#2a3f5f\", \"gridcolor\": \"white\", \"linecolor\": \"white\", \"minorgridcolor\": \"white\", \"startlinecolor\": \"#2a3f5f\"}, \"baxis\": {\"endlinecolor\": \"#2a3f5f\", \"gridcolor\": \"white\", \"linecolor\": \"white\", \"minorgridcolor\": \"white\", \"startlinecolor\": \"#2a3f5f\"}, \"type\": \"carpet\"}], \"choropleth\": [{\"colorbar\": {\"outlinewidth\": 0, \"ticks\": \"\"}, \"type\": \"choropleth\"}], \"contour\": [{\"colorbar\": {\"outlinewidth\": 0, \"ticks\": \"\"}, \"colorscale\": [[0.0, \"#0d0887\"], [0.1111111111111111, \"#46039f\"], [0.2222222222222222, \"#7201a8\"], [0.3333333333333333, \"#9c179e\"], [0.4444444444444444, \"#bd3786\"], [0.5555555555555556, \"#d8576b\"], [0.6666666666666666, \"#ed7953\"], [0.7777777777777778, \"#fb9f3a\"], [0.8888888888888888, \"#fdca26\"], [1.0, \"#f0f921\"]], \"type\": \"contour\"}], \"contourcarpet\": [{\"colorbar\": {\"outlinewidth\": 0, \"ticks\": \"\"}, \"type\": \"contourcarpet\"}], \"heatmap\": [{\"colorbar\": {\"outlinewidth\": 0, \"ticks\": \"\"}, \"colorscale\": [[0.0, \"#0d0887\"], [0.1111111111111111, \"#46039f\"], [0.2222222222222222, \"#7201a8\"], [0.3333333333333333, \"#9c179e\"], [0.4444444444444444, \"#bd3786\"], [0.5555555555555556, \"#d8576b\"], [0.6666666666666666, \"#ed7953\"], [0.7777777777777778, \"#fb9f3a\"], [0.8888888888888888, \"#fdca26\"], [1.0, \"#f0f921\"]], \"type\": \"heatmap\"}], \"heatmapgl\": [{\"colorbar\": {\"outlinewidth\": 0, \"ticks\": \"\"}, \"colorscale\": [[0.0, \"#0d0887\"], [0.1111111111111111, \"#46039f\"], [0.2222222222222222, \"#7201a8\"], [0.3333333333333333, \"#9c179e\"], [0.4444444444444444, \"#bd3786\"], [0.5555555555555556, \"#d8576b\"], [0.6666666666666666, \"#ed7953\"], [0.7777777777777778, \"#fb9f3a\"], [0.8888888888888888, \"#fdca26\"], [1.0, \"#f0f921\"]], \"type\": \"heatmapgl\"}], \"histogram\": [{\"marker\": {\"colorbar\": {\"outlinewidth\": 0, \"ticks\": \"\"}}, \"type\": \"histogram\"}], \"histogram2d\": [{\"colorbar\": {\"outlinewidth\": 0, \"ticks\": \"\"}, \"colorscale\": [[0.0, \"#0d0887\"], [0.1111111111111111, \"#46039f\"], [0.2222222222222222, \"#7201a8\"], [0.3333333333333333, \"#9c179e\"], [0.4444444444444444, \"#bd3786\"], [0.5555555555555556, \"#d8576b\"], [0.6666666666666666, \"#ed7953\"], [0.7777777777777778, \"#fb9f3a\"], [0.8888888888888888, \"#fdca26\"], [1.0, \"#f0f921\"]], \"type\": \"histogram2d\"}], \"histogram2dcontour\": [{\"colorbar\": {\"outlinewidth\": 0, \"ticks\": \"\"}, \"colorscale\": [[0.0, \"#0d0887\"], [0.1111111111111111, \"#46039f\"], [0.2222222222222222, \"#7201a8\"], [0.3333333333333333, \"#9c179e\"], [0.4444444444444444, \"#bd3786\"], [0.5555555555555556, \"#d8576b\"], [0.6666666666666666, \"#ed7953\"], [0.7777777777777778, \"#fb9f3a\"], [0.8888888888888888, \"#fdca26\"], [1.0, \"#f0f921\"]], \"type\": \"histogram2dcontour\"}], \"mesh3d\": [{\"colorbar\": {\"outlinewidth\": 0, \"ticks\": \"\"}, \"type\": \"mesh3d\"}], \"parcoords\": [{\"line\": {\"colorbar\": {\"outlinewidth\": 0, \"ticks\": \"\"}}, \"type\": \"parcoords\"}], \"pie\": [{\"automargin\": true, \"type\": \"pie\"}], \"scatter\": [{\"marker\": {\"colorbar\": {\"outlinewidth\": 0, \"ticks\": \"\"}}, \"type\": \"scatter\"}], \"scatter3d\": [{\"line\": {\"colorbar\": {\"outlinewidth\": 0, \"ticks\": \"\"}}, \"marker\": {\"colorbar\": {\"outlinewidth\": 0, \"ticks\": \"\"}}, \"type\": \"scatter3d\"}], \"scattercarpet\": [{\"marker\": {\"colorbar\": {\"outlinewidth\": 0, \"ticks\": \"\"}}, \"type\": \"scattercarpet\"}], \"scattergeo\": [{\"marker\": {\"colorbar\": {\"outlinewidth\": 0, \"ticks\": \"\"}}, \"type\": \"scattergeo\"}], \"scattergl\": [{\"marker\": {\"colorbar\": {\"outlinewidth\": 0, \"ticks\": \"\"}}, \"type\": \"scattergl\"}], \"scattermapbox\": [{\"marker\": {\"colorbar\": {\"outlinewidth\": 0, \"ticks\": \"\"}}, \"type\": \"scattermapbox\"}], \"scatterpolar\": [{\"marker\": {\"colorbar\": {\"outlinewidth\": 0, \"ticks\": \"\"}}, \"type\": \"scatterpolar\"}], \"scatterpolargl\": [{\"marker\": {\"colorbar\": {\"outlinewidth\": 0, \"ticks\": \"\"}}, \"type\": \"scatterpolargl\"}], \"scatterternary\": [{\"marker\": {\"colorbar\": {\"outlinewidth\": 0, \"ticks\": \"\"}}, \"type\": \"scatterternary\"}], \"surface\": [{\"colorbar\": {\"outlinewidth\": 0, \"ticks\": \"\"}, \"colorscale\": [[0.0, \"#0d0887\"], [0.1111111111111111, \"#46039f\"], [0.2222222222222222, \"#7201a8\"], [0.3333333333333333, \"#9c179e\"], [0.4444444444444444, \"#bd3786\"], [0.5555555555555556, \"#d8576b\"], [0.6666666666666666, \"#ed7953\"], [0.7777777777777778, \"#fb9f3a\"], [0.8888888888888888, \"#fdca26\"], [1.0, \"#f0f921\"]], \"type\": \"surface\"}], \"table\": [{\"cells\": {\"fill\": {\"color\": \"#EBF0F8\"}, \"line\": {\"color\": \"white\"}}, \"header\": {\"fill\": {\"color\": \"#C8D4E3\"}, \"line\": {\"color\": \"white\"}}, \"type\": \"table\"}]}, \"layout\": {\"annotationdefaults\": {\"arrowcolor\": \"#2a3f5f\", \"arrowhead\": 0, \"arrowwidth\": 1}, \"coloraxis\": {\"colorbar\": {\"outlinewidth\": 0, \"ticks\": \"\"}}, \"colorscale\": {\"diverging\": [[0, \"#8e0152\"], [0.1, \"#c51b7d\"], [0.2, \"#de77ae\"], [0.3, \"#f1b6da\"], [0.4, \"#fde0ef\"], [0.5, \"#f7f7f7\"], [0.6, \"#e6f5d0\"], [0.7, \"#b8e186\"], [0.8, \"#7fbc41\"], [0.9, \"#4d9221\"], [1, \"#276419\"]], \"sequential\": [[0.0, \"#0d0887\"], [0.1111111111111111, \"#46039f\"], [0.2222222222222222, \"#7201a8\"], [0.3333333333333333, \"#9c179e\"], [0.4444444444444444, \"#bd3786\"], [0.5555555555555556, \"#d8576b\"], [0.6666666666666666, \"#ed7953\"], [0.7777777777777778, \"#fb9f3a\"], [0.8888888888888888, \"#fdca26\"], [1.0, \"#f0f921\"]], \"sequentialminus\": [[0.0, \"#0d0887\"], [0.1111111111111111, \"#46039f\"], [0.2222222222222222, \"#7201a8\"], [0.3333333333333333, \"#9c179e\"], [0.4444444444444444, \"#bd3786\"], [0.5555555555555556, \"#d8576b\"], [0.6666666666666666, \"#ed7953\"], [0.7777777777777778, \"#fb9f3a\"], [0.8888888888888888, \"#fdca26\"], [1.0, \"#f0f921\"]]}, \"colorway\": [\"#636efa\", \"#EF553B\", \"#00cc96\", \"#ab63fa\", \"#FFA15A\", \"#19d3f3\", \"#FF6692\", \"#B6E880\", \"#FF97FF\", \"#FECB52\"], \"font\": {\"color\": \"#2a3f5f\"}, \"geo\": {\"bgcolor\": \"white\", \"lakecolor\": \"white\", \"landcolor\": \"#E5ECF6\", \"showlakes\": true, \"showland\": true, \"subunitcolor\": \"white\"}, \"hoverlabel\": {\"align\": \"left\"}, \"hovermode\": \"closest\", \"mapbox\": {\"style\": \"light\"}, \"paper_bgcolor\": \"white\", \"plot_bgcolor\": \"#E5ECF6\", \"polar\": {\"angularaxis\": {\"gridcolor\": \"white\", \"linecolor\": \"white\", \"ticks\": \"\"}, \"bgcolor\": \"#E5ECF6\", \"radialaxis\": {\"gridcolor\": \"white\", \"linecolor\": \"white\", \"ticks\": \"\"}}, \"scene\": {\"xaxis\": {\"backgroundcolor\": \"#E5ECF6\", \"gridcolor\": \"white\", \"gridwidth\": 2, \"linecolor\": \"white\", \"showbackground\": true, \"ticks\": \"\", \"zerolinecolor\": \"white\"}, \"yaxis\": {\"backgroundcolor\": \"#E5ECF6\", \"gridcolor\": \"white\", \"gridwidth\": 2, \"linecolor\": \"white\", \"showbackground\": true, \"ticks\": \"\", \"zerolinecolor\": \"white\"}, \"zaxis\": {\"backgroundcolor\": \"#E5ECF6\", \"gridcolor\": \"white\", \"gridwidth\": 2, \"linecolor\": \"white\", \"showbackground\": true, \"ticks\": \"\", \"zerolinecolor\": \"white\"}}, \"shapedefaults\": {\"line\": {\"color\": \"#2a3f5f\"}}, \"ternary\": {\"aaxis\": {\"gridcolor\": \"white\", \"linecolor\": \"white\", \"ticks\": \"\"}, \"baxis\": {\"gridcolor\": \"white\", \"linecolor\": \"white\", \"ticks\": \"\"}, \"bgcolor\": \"#E5ECF6\", \"caxis\": {\"gridcolor\": \"white\", \"linecolor\": \"white\", \"ticks\": \"\"}}, \"title\": {\"x\": 0.05}, \"xaxis\": {\"automargin\": true, \"gridcolor\": \"white\", \"linecolor\": \"white\", \"ticks\": \"\", \"title\": {\"standoff\": 15}, \"zerolinecolor\": \"white\", \"zerolinewidth\": 2}, \"yaxis\": {\"automargin\": true, \"gridcolor\": \"white\", \"linecolor\": \"white\", \"ticks\": \"\", \"title\": {\"standoff\": 15}, \"zerolinecolor\": \"white\", \"zerolinewidth\": 2}}}, \"xaxis\": {\"title\": {\"text\": \"n clusters\"}}, \"yaxis\": {\"title\": {\"text\": \"score value\"}}},\n",
       "                        {\"responsive\": true}\n",
       "                    ).then(function(){\n",
       "                            \n",
       "var gd = document.getElementById('24c4b050-e2cc-402b-a03e-16ec244d23cc');\n",
       "var x = new MutationObserver(function (mutations, observer) {{\n",
       "        var display = window.getComputedStyle(gd).display;\n",
       "        if (!display || display === 'none') {{\n",
       "            console.log([gd, 'removed!']);\n",
       "            Plotly.purge(gd);\n",
       "            observer.disconnect();\n",
       "        }}\n",
       "}});\n",
       "\n",
       "// Listen for the removal of the full notebook cells\n",
       "var notebookContainer = gd.closest('#notebook-container');\n",
       "if (notebookContainer) {{\n",
       "    x.observe(notebookContainer, {childList: true});\n",
       "}}\n",
       "\n",
       "// Listen for the clearing of the current output cell\n",
       "var outputEl = gd.closest('.output');\n",
       "if (outputEl) {{\n",
       "    x.observe(outputEl, {childList: true});\n",
       "}}\n",
       "\n",
       "                        })\n",
       "                };\n",
       "                });\n",
       "            </script>\n",
       "        </div>"
      ]
     },
     "metadata": {},
     "output_type": "display_data"
    },
    {
     "data": {
      "application/vnd.plotly.v1+json": {
       "config": {
        "plotlyServerURL": "https://plot.ly"
       },
       "data": [
        {
         "hovertemplate": "<b>%{hovertext}</b><br><br>x=%{x}<br>y=%{y}<br>size=%{marker.size}<br>text=%{text}<br>label=%{marker.color}<extra></extra>",
         "hovertext": [
          "новыйгод<br>2020<br>новыйгод2020<br>сновымгодом<br>манежнаяплощадь<br>happynewyear<br>ярмарканаманежной<br>newyear2020<br>годкрысы<br>сновымгодом2020<br>манежнаяплощадьспб<br>рождественскаяярмарка<br>happynewyear2020<br>зима2020<br>новогодняяярмарка",
          "севкабельпорт<br>2020<br>карантин<br>сидимдома<br>самоизоляция<br>севкабель<br>новыйгод<br>оставайтесьдома<br>коронавирус<br>новыйгод2020<br>stayhome<br>sevkabelport<br>@sevcableport<br>пасха<br>весна2020",
          "рпл<br>газпромарена<br>кхл<br>spartak<br>спартакмосква<br>spartakmoscow<br>@zenit_spb<br>краснобелые<br>фкзенит<br>fcsm<br>открытиеарена<br>khl<br>впередспартак<br>hcska<br>fczenit",
          "ледовый<br>карантин<br>2020<br>иванусович<br>пародия<br>юлияахмедова<br>славакомиссаренко<br>кулик<br>иванабрамов<br>дмитрийроманов<br>куликдататарочка<br>видеодня<br>стендапкомик<br>викторкомаров<br>стасстаровойтов",
          "a2greenconcert<br>ледовый<br>2020<br>юбилейный<br>a2<br>icepalace<br>димабилан<br>а2<br>билан<br>скюбилейный<br>@bilanofficial<br>крокусситихолл<br>карантин<br>2019<br>севкабельпорт",
          "dorosh_anka<br>идагалич<br>аварцы<br>даргинцы<br>дагестанцывпитере<br>чеченцы<br>ингуши<br>дагспб<br>ингушка<br>дагпитер<br>аварка<br>кавказцы<br>кавказцывмоскве<br>чеченка<br>кабардинка",
          "сидимдома<br>карантин<br>самоизоляция<br>оставайтесьдома<br>коронавирус<br>stayhome<br>2020<br>лучшедома<br>весна2020<br>сидидома<br>covid19<br>пандемия<br>оставайсядома<br>вирус<br>короновирус",
          "деньпобеды<br>9мая<br>8марта<br>деньпобеды2019<br>бессмертныйполк<br>9мая2019<br>23февраля<br>сднемпобеды<br>женскийдень<br>2020<br>спасибодедузапобеду<br>victoryday<br>великаяпобеда<br>никтонезабытничтонезабыто<br>сднемзащитникаотечества",
          "estetfashionweek<br>estetfw<br>неделямоды<br>2019<br>estetfashionweek2019<br>estet<br>ювелирныйдомэстет<br>тюнингуюсьсгоар<br>@estetfw<br>эстет<br>@goaravetisyan_beauty<br>efw<br>интершарм2019<br>показмод<br>крокусэкспо",
          "vkfest<br>vkfest5<br>vkfest2019<br>вкфест<br>@vk_fest<br>вкфест2019<br>вкфест5<br>лето2019<br>фестивальвконтакте<br>парк300летияспб<br>@littlebigband<br>@egorkreed<br>radiorecord<br>@radiorecord<br>@buzova86",
          "sgf2019<br>synergyglobalforum<br>синергия<br>synergy<br>@oskar_hartmann<br>@schwarzenegger<br>synergyglobalforum2019<br>газпромарена<br>sgf<br>@rybakov_igor<br>sinergyglobalforum<br>@bssynergy<br>арнольдшварценеггер<br>arnoldschwarzenegger<br>синерджиглобалфорум",
          "andotoc<br>karrina<br>jc<br>katharina_eisenblut_<br>_aromanovaa_<br>@yairelav98<br>beloyar_1488<br>@sigidina19<br>makovka22<br>@va6a_detka<br>xkassikex<br>всенепредсказуемо<br>@mihailchelentano<br>marisha7528<br>sssherbakovvva"
         ],
         "legendgroup": "",
         "marker": {
          "color": [
           0,
           1,
           2,
           3,
           4,
           5,
           6,
           7,
           8,
           9,
           10,
           11
          ],
          "coloraxis": "coloraxis",
          "size": [
           271,
           3191,
           748,
           404,
           2058,
           136,
           1887,
           274,
           1034,
           123,
           70,
           18
          ],
          "sizemode": "area",
          "sizeref": 0.49859375,
          "symbol": "circle"
         },
         "mode": "markers+text",
         "name": "",
         "showlegend": false,
         "text": [
          "новыйгод",
          "севкабельпорт",
          "рпл",
          "ледовый",
          "a2greenconcert",
          "dorosh_anka",
          "сидимдома",
          "деньпобеды",
          "estetfashionweek",
          "vkfest",
          "sgf2019",
          "andotoc"
         ],
         "type": "scatter",
         "x": [
          -12.39959565387454,
          -0.12043612201402704,
          -12.577885319956149,
          1.2674566193960395,
          3.351643399467444,
          6.124670612838236,
          4.684988128928988,
          -4.903503494087591,
          -0.6811259213723403,
          -19.773794174552847,
          -23.10182407142857,
          33.220697944444446
         ],
         "xaxis": "x",
         "y": [
          2.8619904845018445,
          -0.526970826453557,
          -4.579660255538904,
          2.9872435369603956,
          11.160875220427112,
          1.7659828868382355,
          -10.252020470559088,
          -11.136215897664233,
          0.453096547302708,
          2.5922767799187,
          25.09492074285715,
          0.5112390133333334
         ],
         "yaxis": "y"
        }
       ],
       "layout": {
        "coloraxis": {
         "colorbar": {
          "title": {
           "text": "label"
          }
         },
         "colorscale": [
          [
           0,
           "#0d0887"
          ],
          [
           0.1111111111111111,
           "#46039f"
          ],
          [
           0.2222222222222222,
           "#7201a8"
          ],
          [
           0.3333333333333333,
           "#9c179e"
          ],
          [
           0.4444444444444444,
           "#bd3786"
          ],
          [
           0.5555555555555556,
           "#d8576b"
          ],
          [
           0.6666666666666666,
           "#ed7953"
          ],
          [
           0.7777777777777778,
           "#fb9f3a"
          ],
          [
           0.8888888888888888,
           "#fdca26"
          ],
          [
           1,
           "#f0f921"
          ]
         ]
        },
        "legend": {
         "itemsizing": "constant",
         "tracegroupgap": 0
        },
        "margin": {
         "t": 60
        },
        "template": {
         "data": {
          "bar": [
           {
            "error_x": {
             "color": "#2a3f5f"
            },
            "error_y": {
             "color": "#2a3f5f"
            },
            "marker": {
             "line": {
              "color": "#E5ECF6",
              "width": 0.5
             }
            },
            "type": "bar"
           }
          ],
          "barpolar": [
           {
            "marker": {
             "line": {
              "color": "#E5ECF6",
              "width": 0.5
             }
            },
            "type": "barpolar"
           }
          ],
          "carpet": [
           {
            "aaxis": {
             "endlinecolor": "#2a3f5f",
             "gridcolor": "white",
             "linecolor": "white",
             "minorgridcolor": "white",
             "startlinecolor": "#2a3f5f"
            },
            "baxis": {
             "endlinecolor": "#2a3f5f",
             "gridcolor": "white",
             "linecolor": "white",
             "minorgridcolor": "white",
             "startlinecolor": "#2a3f5f"
            },
            "type": "carpet"
           }
          ],
          "choropleth": [
           {
            "colorbar": {
             "outlinewidth": 0,
             "ticks": ""
            },
            "type": "choropleth"
           }
          ],
          "contour": [
           {
            "colorbar": {
             "outlinewidth": 0,
             "ticks": ""
            },
            "colorscale": [
             [
              0,
              "#0d0887"
             ],
             [
              0.1111111111111111,
              "#46039f"
             ],
             [
              0.2222222222222222,
              "#7201a8"
             ],
             [
              0.3333333333333333,
              "#9c179e"
             ],
             [
              0.4444444444444444,
              "#bd3786"
             ],
             [
              0.5555555555555556,
              "#d8576b"
             ],
             [
              0.6666666666666666,
              "#ed7953"
             ],
             [
              0.7777777777777778,
              "#fb9f3a"
             ],
             [
              0.8888888888888888,
              "#fdca26"
             ],
             [
              1,
              "#f0f921"
             ]
            ],
            "type": "contour"
           }
          ],
          "contourcarpet": [
           {
            "colorbar": {
             "outlinewidth": 0,
             "ticks": ""
            },
            "type": "contourcarpet"
           }
          ],
          "heatmap": [
           {
            "colorbar": {
             "outlinewidth": 0,
             "ticks": ""
            },
            "colorscale": [
             [
              0,
              "#0d0887"
             ],
             [
              0.1111111111111111,
              "#46039f"
             ],
             [
              0.2222222222222222,
              "#7201a8"
             ],
             [
              0.3333333333333333,
              "#9c179e"
             ],
             [
              0.4444444444444444,
              "#bd3786"
             ],
             [
              0.5555555555555556,
              "#d8576b"
             ],
             [
              0.6666666666666666,
              "#ed7953"
             ],
             [
              0.7777777777777778,
              "#fb9f3a"
             ],
             [
              0.8888888888888888,
              "#fdca26"
             ],
             [
              1,
              "#f0f921"
             ]
            ],
            "type": "heatmap"
           }
          ],
          "heatmapgl": [
           {
            "colorbar": {
             "outlinewidth": 0,
             "ticks": ""
            },
            "colorscale": [
             [
              0,
              "#0d0887"
             ],
             [
              0.1111111111111111,
              "#46039f"
             ],
             [
              0.2222222222222222,
              "#7201a8"
             ],
             [
              0.3333333333333333,
              "#9c179e"
             ],
             [
              0.4444444444444444,
              "#bd3786"
             ],
             [
              0.5555555555555556,
              "#d8576b"
             ],
             [
              0.6666666666666666,
              "#ed7953"
             ],
             [
              0.7777777777777778,
              "#fb9f3a"
             ],
             [
              0.8888888888888888,
              "#fdca26"
             ],
             [
              1,
              "#f0f921"
             ]
            ],
            "type": "heatmapgl"
           }
          ],
          "histogram": [
           {
            "marker": {
             "colorbar": {
              "outlinewidth": 0,
              "ticks": ""
             }
            },
            "type": "histogram"
           }
          ],
          "histogram2d": [
           {
            "colorbar": {
             "outlinewidth": 0,
             "ticks": ""
            },
            "colorscale": [
             [
              0,
              "#0d0887"
             ],
             [
              0.1111111111111111,
              "#46039f"
             ],
             [
              0.2222222222222222,
              "#7201a8"
             ],
             [
              0.3333333333333333,
              "#9c179e"
             ],
             [
              0.4444444444444444,
              "#bd3786"
             ],
             [
              0.5555555555555556,
              "#d8576b"
             ],
             [
              0.6666666666666666,
              "#ed7953"
             ],
             [
              0.7777777777777778,
              "#fb9f3a"
             ],
             [
              0.8888888888888888,
              "#fdca26"
             ],
             [
              1,
              "#f0f921"
             ]
            ],
            "type": "histogram2d"
           }
          ],
          "histogram2dcontour": [
           {
            "colorbar": {
             "outlinewidth": 0,
             "ticks": ""
            },
            "colorscale": [
             [
              0,
              "#0d0887"
             ],
             [
              0.1111111111111111,
              "#46039f"
             ],
             [
              0.2222222222222222,
              "#7201a8"
             ],
             [
              0.3333333333333333,
              "#9c179e"
             ],
             [
              0.4444444444444444,
              "#bd3786"
             ],
             [
              0.5555555555555556,
              "#d8576b"
             ],
             [
              0.6666666666666666,
              "#ed7953"
             ],
             [
              0.7777777777777778,
              "#fb9f3a"
             ],
             [
              0.8888888888888888,
              "#fdca26"
             ],
             [
              1,
              "#f0f921"
             ]
            ],
            "type": "histogram2dcontour"
           }
          ],
          "mesh3d": [
           {
            "colorbar": {
             "outlinewidth": 0,
             "ticks": ""
            },
            "type": "mesh3d"
           }
          ],
          "parcoords": [
           {
            "line": {
             "colorbar": {
              "outlinewidth": 0,
              "ticks": ""
             }
            },
            "type": "parcoords"
           }
          ],
          "pie": [
           {
            "automargin": true,
            "type": "pie"
           }
          ],
          "scatter": [
           {
            "marker": {
             "colorbar": {
              "outlinewidth": 0,
              "ticks": ""
             }
            },
            "type": "scatter"
           }
          ],
          "scatter3d": [
           {
            "line": {
             "colorbar": {
              "outlinewidth": 0,
              "ticks": ""
             }
            },
            "marker": {
             "colorbar": {
              "outlinewidth": 0,
              "ticks": ""
             }
            },
            "type": "scatter3d"
           }
          ],
          "scattercarpet": [
           {
            "marker": {
             "colorbar": {
              "outlinewidth": 0,
              "ticks": ""
             }
            },
            "type": "scattercarpet"
           }
          ],
          "scattergeo": [
           {
            "marker": {
             "colorbar": {
              "outlinewidth": 0,
              "ticks": ""
             }
            },
            "type": "scattergeo"
           }
          ],
          "scattergl": [
           {
            "marker": {
             "colorbar": {
              "outlinewidth": 0,
              "ticks": ""
             }
            },
            "type": "scattergl"
           }
          ],
          "scattermapbox": [
           {
            "marker": {
             "colorbar": {
              "outlinewidth": 0,
              "ticks": ""
             }
            },
            "type": "scattermapbox"
           }
          ],
          "scatterpolar": [
           {
            "marker": {
             "colorbar": {
              "outlinewidth": 0,
              "ticks": ""
             }
            },
            "type": "scatterpolar"
           }
          ],
          "scatterpolargl": [
           {
            "marker": {
             "colorbar": {
              "outlinewidth": 0,
              "ticks": ""
             }
            },
            "type": "scatterpolargl"
           }
          ],
          "scatterternary": [
           {
            "marker": {
             "colorbar": {
              "outlinewidth": 0,
              "ticks": ""
             }
            },
            "type": "scatterternary"
           }
          ],
          "surface": [
           {
            "colorbar": {
             "outlinewidth": 0,
             "ticks": ""
            },
            "colorscale": [
             [
              0,
              "#0d0887"
             ],
             [
              0.1111111111111111,
              "#46039f"
             ],
             [
              0.2222222222222222,
              "#7201a8"
             ],
             [
              0.3333333333333333,
              "#9c179e"
             ],
             [
              0.4444444444444444,
              "#bd3786"
             ],
             [
              0.5555555555555556,
              "#d8576b"
             ],
             [
              0.6666666666666666,
              "#ed7953"
             ],
             [
              0.7777777777777778,
              "#fb9f3a"
             ],
             [
              0.8888888888888888,
              "#fdca26"
             ],
             [
              1,
              "#f0f921"
             ]
            ],
            "type": "surface"
           }
          ],
          "table": [
           {
            "cells": {
             "fill": {
              "color": "#EBF0F8"
             },
             "line": {
              "color": "white"
             }
            },
            "header": {
             "fill": {
              "color": "#C8D4E3"
             },
             "line": {
              "color": "white"
             }
            },
            "type": "table"
           }
          ]
         },
         "layout": {
          "annotationdefaults": {
           "arrowcolor": "#2a3f5f",
           "arrowhead": 0,
           "arrowwidth": 1
          },
          "coloraxis": {
           "colorbar": {
            "outlinewidth": 0,
            "ticks": ""
           }
          },
          "colorscale": {
           "diverging": [
            [
             0,
             "#8e0152"
            ],
            [
             0.1,
             "#c51b7d"
            ],
            [
             0.2,
             "#de77ae"
            ],
            [
             0.3,
             "#f1b6da"
            ],
            [
             0.4,
             "#fde0ef"
            ],
            [
             0.5,
             "#f7f7f7"
            ],
            [
             0.6,
             "#e6f5d0"
            ],
            [
             0.7,
             "#b8e186"
            ],
            [
             0.8,
             "#7fbc41"
            ],
            [
             0.9,
             "#4d9221"
            ],
            [
             1,
             "#276419"
            ]
           ],
           "sequential": [
            [
             0,
             "#0d0887"
            ],
            [
             0.1111111111111111,
             "#46039f"
            ],
            [
             0.2222222222222222,
             "#7201a8"
            ],
            [
             0.3333333333333333,
             "#9c179e"
            ],
            [
             0.4444444444444444,
             "#bd3786"
            ],
            [
             0.5555555555555556,
             "#d8576b"
            ],
            [
             0.6666666666666666,
             "#ed7953"
            ],
            [
             0.7777777777777778,
             "#fb9f3a"
            ],
            [
             0.8888888888888888,
             "#fdca26"
            ],
            [
             1,
             "#f0f921"
            ]
           ],
           "sequentialminus": [
            [
             0,
             "#0d0887"
            ],
            [
             0.1111111111111111,
             "#46039f"
            ],
            [
             0.2222222222222222,
             "#7201a8"
            ],
            [
             0.3333333333333333,
             "#9c179e"
            ],
            [
             0.4444444444444444,
             "#bd3786"
            ],
            [
             0.5555555555555556,
             "#d8576b"
            ],
            [
             0.6666666666666666,
             "#ed7953"
            ],
            [
             0.7777777777777778,
             "#fb9f3a"
            ],
            [
             0.8888888888888888,
             "#fdca26"
            ],
            [
             1,
             "#f0f921"
            ]
           ]
          },
          "colorway": [
           "#636efa",
           "#EF553B",
           "#00cc96",
           "#ab63fa",
           "#FFA15A",
           "#19d3f3",
           "#FF6692",
           "#B6E880",
           "#FF97FF",
           "#FECB52"
          ],
          "font": {
           "color": "#2a3f5f"
          },
          "geo": {
           "bgcolor": "white",
           "lakecolor": "white",
           "landcolor": "#E5ECF6",
           "showlakes": true,
           "showland": true,
           "subunitcolor": "white"
          },
          "hoverlabel": {
           "align": "left"
          },
          "hovermode": "closest",
          "mapbox": {
           "style": "light"
          },
          "paper_bgcolor": "white",
          "plot_bgcolor": "#E5ECF6",
          "polar": {
           "angularaxis": {
            "gridcolor": "white",
            "linecolor": "white",
            "ticks": ""
           },
           "bgcolor": "#E5ECF6",
           "radialaxis": {
            "gridcolor": "white",
            "linecolor": "white",
            "ticks": ""
           }
          },
          "scene": {
           "xaxis": {
            "backgroundcolor": "#E5ECF6",
            "gridcolor": "white",
            "gridwidth": 2,
            "linecolor": "white",
            "showbackground": true,
            "ticks": "",
            "zerolinecolor": "white"
           },
           "yaxis": {
            "backgroundcolor": "#E5ECF6",
            "gridcolor": "white",
            "gridwidth": 2,
            "linecolor": "white",
            "showbackground": true,
            "ticks": "",
            "zerolinecolor": "white"
           },
           "zaxis": {
            "backgroundcolor": "#E5ECF6",
            "gridcolor": "white",
            "gridwidth": 2,
            "linecolor": "white",
            "showbackground": true,
            "ticks": "",
            "zerolinecolor": "white"
           }
          },
          "shapedefaults": {
           "line": {
            "color": "#2a3f5f"
           }
          },
          "ternary": {
           "aaxis": {
            "gridcolor": "white",
            "linecolor": "white",
            "ticks": ""
           },
           "baxis": {
            "gridcolor": "white",
            "linecolor": "white",
            "ticks": ""
           },
           "bgcolor": "#E5ECF6",
           "caxis": {
            "gridcolor": "white",
            "linecolor": "white",
            "ticks": ""
           }
          },
          "title": {
           "x": 0.05
          },
          "xaxis": {
           "automargin": true,
           "gridcolor": "white",
           "linecolor": "white",
           "ticks": "",
           "title": {
            "standoff": 15
           },
           "zerolinecolor": "white",
           "zerolinewidth": 2
          },
          "yaxis": {
           "automargin": true,
           "gridcolor": "white",
           "linecolor": "white",
           "ticks": "",
           "title": {
            "standoff": 15
           },
           "zerolinecolor": "white",
           "zerolinewidth": 2
          }
         }
        },
        "xaxis": {
         "anchor": "y",
         "domain": [
          0,
          1
         ],
         "title": {
          "text": "x"
         }
        },
        "yaxis": {
         "anchor": "x",
         "domain": [
          0,
          1
         ],
         "title": {
          "text": "y"
         }
        }
       }
      },
      "text/html": [
       "<div>\n",
       "        \n",
       "        \n",
       "            <div id=\"76f0f220-886e-41f6-9b31-f2e78cfea383\" class=\"plotly-graph-div\" style=\"height:525px; width:100%;\"></div>\n",
       "            <script type=\"text/javascript\">\n",
       "                require([\"plotly\"], function(Plotly) {\n",
       "                    window.PLOTLYENV=window.PLOTLYENV || {};\n",
       "                    \n",
       "                if (document.getElementById(\"76f0f220-886e-41f6-9b31-f2e78cfea383\")) {\n",
       "                    Plotly.newPlot(\n",
       "                        '76f0f220-886e-41f6-9b31-f2e78cfea383',\n",
       "                        [{\"hovertemplate\": \"<b>%{hovertext}</b><br><br>x=%{x}<br>y=%{y}<br>size=%{marker.size}<br>text=%{text}<br>label=%{marker.color}<extra></extra>\", \"hovertext\": [\"\\u043d\\u043e\\u0432\\u044b\\u0439\\u0433\\u043e\\u0434<br>2020<br>\\u043d\\u043e\\u0432\\u044b\\u0439\\u0433\\u043e\\u04342020<br>\\u0441\\u043d\\u043e\\u0432\\u044b\\u043c\\u0433\\u043e\\u0434\\u043e\\u043c<br>\\u043c\\u0430\\u043d\\u0435\\u0436\\u043d\\u0430\\u044f\\u043f\\u043b\\u043e\\u0449\\u0430\\u0434\\u044c<br>happynewyear<br>\\u044f\\u0440\\u043c\\u0430\\u0440\\u043a\\u0430\\u043d\\u0430\\u043c\\u0430\\u043d\\u0435\\u0436\\u043d\\u043e\\u0439<br>newyear2020<br>\\u0433\\u043e\\u0434\\u043a\\u0440\\u044b\\u0441\\u044b<br>\\u0441\\u043d\\u043e\\u0432\\u044b\\u043c\\u0433\\u043e\\u0434\\u043e\\u043c2020<br>\\u043c\\u0430\\u043d\\u0435\\u0436\\u043d\\u0430\\u044f\\u043f\\u043b\\u043e\\u0449\\u0430\\u0434\\u044c\\u0441\\u043f\\u0431<br>\\u0440\\u043e\\u0436\\u0434\\u0435\\u0441\\u0442\\u0432\\u0435\\u043d\\u0441\\u043a\\u0430\\u044f\\u044f\\u0440\\u043c\\u0430\\u0440\\u043a\\u0430<br>happynewyear2020<br>\\u0437\\u0438\\u043c\\u04302020<br>\\u043d\\u043e\\u0432\\u043e\\u0433\\u043e\\u0434\\u043d\\u044f\\u044f\\u044f\\u0440\\u043c\\u0430\\u0440\\u043a\\u0430\", \"\\u0441\\u0435\\u0432\\u043a\\u0430\\u0431\\u0435\\u043b\\u044c\\u043f\\u043e\\u0440\\u0442<br>2020<br>\\u043a\\u0430\\u0440\\u0430\\u043d\\u0442\\u0438\\u043d<br>\\u0441\\u0438\\u0434\\u0438\\u043c\\u0434\\u043e\\u043c\\u0430<br>\\u0441\\u0430\\u043c\\u043e\\u0438\\u0437\\u043e\\u043b\\u044f\\u0446\\u0438\\u044f<br>\\u0441\\u0435\\u0432\\u043a\\u0430\\u0431\\u0435\\u043b\\u044c<br>\\u043d\\u043e\\u0432\\u044b\\u0439\\u0433\\u043e\\u0434<br>\\u043e\\u0441\\u0442\\u0430\\u0432\\u0430\\u0439\\u0442\\u0435\\u0441\\u044c\\u0434\\u043e\\u043c\\u0430<br>\\u043a\\u043e\\u0440\\u043e\\u043d\\u0430\\u0432\\u0438\\u0440\\u0443\\u0441<br>\\u043d\\u043e\\u0432\\u044b\\u0439\\u0433\\u043e\\u04342020<br>stayhome<br>sevkabelport<br>@sevcableport<br>\\u043f\\u0430\\u0441\\u0445\\u0430<br>\\u0432\\u0435\\u0441\\u043d\\u04302020\", \"\\u0440\\u043f\\u043b<br>\\u0433\\u0430\\u0437\\u043f\\u0440\\u043e\\u043c\\u0430\\u0440\\u0435\\u043d\\u0430<br>\\u043a\\u0445\\u043b<br>spartak<br>\\u0441\\u043f\\u0430\\u0440\\u0442\\u0430\\u043a\\u043c\\u043e\\u0441\\u043a\\u0432\\u0430<br>spartakmoscow<br>@zenit_spb<br>\\u043a\\u0440\\u0430\\u0441\\u043d\\u043e\\u0431\\u0435\\u043b\\u044b\\u0435<br>\\u0444\\u043a\\u0437\\u0435\\u043d\\u0438\\u0442<br>fcsm<br>\\u043e\\u0442\\u043a\\u0440\\u044b\\u0442\\u0438\\u0435\\u0430\\u0440\\u0435\\u043d\\u0430<br>khl<br>\\u0432\\u043f\\u0435\\u0440\\u0435\\u0434\\u0441\\u043f\\u0430\\u0440\\u0442\\u0430\\u043a<br>hcska<br>fczenit\", \"\\u043b\\u0435\\u0434\\u043e\\u0432\\u044b\\u0439<br>\\u043a\\u0430\\u0440\\u0430\\u043d\\u0442\\u0438\\u043d<br>2020<br>\\u0438\\u0432\\u0430\\u043d\\u0443\\u0441\\u043e\\u0432\\u0438\\u0447<br>\\u043f\\u0430\\u0440\\u043e\\u0434\\u0438\\u044f<br>\\u044e\\u043b\\u0438\\u044f\\u0430\\u0445\\u043c\\u0435\\u0434\\u043e\\u0432\\u0430<br>\\u0441\\u043b\\u0430\\u0432\\u0430\\u043a\\u043e\\u043c\\u0438\\u0441\\u0441\\u0430\\u0440\\u0435\\u043d\\u043a\\u043e<br>\\u043a\\u0443\\u043b\\u0438\\u043a<br>\\u0438\\u0432\\u0430\\u043d\\u0430\\u0431\\u0440\\u0430\\u043c\\u043e\\u0432<br>\\u0434\\u043c\\u0438\\u0442\\u0440\\u0438\\u0439\\u0440\\u043e\\u043c\\u0430\\u043d\\u043e\\u0432<br>\\u043a\\u0443\\u043b\\u0438\\u043a\\u0434\\u0430\\u0442\\u0430\\u0442\\u0430\\u0440\\u043e\\u0447\\u043a\\u0430<br>\\u0432\\u0438\\u0434\\u0435\\u043e\\u0434\\u043d\\u044f<br>\\u0441\\u0442\\u0435\\u043d\\u0434\\u0430\\u043f\\u043a\\u043e\\u043c\\u0438\\u043a<br>\\u0432\\u0438\\u043a\\u0442\\u043e\\u0440\\u043a\\u043e\\u043c\\u0430\\u0440\\u043e\\u0432<br>\\u0441\\u0442\\u0430\\u0441\\u0441\\u0442\\u0430\\u0440\\u043e\\u0432\\u043e\\u0439\\u0442\\u043e\\u0432\", \"a2greenconcert<br>\\u043b\\u0435\\u0434\\u043e\\u0432\\u044b\\u0439<br>2020<br>\\u044e\\u0431\\u0438\\u043b\\u0435\\u0439\\u043d\\u044b\\u0439<br>a2<br>icepalace<br>\\u0434\\u0438\\u043c\\u0430\\u0431\\u0438\\u043b\\u0430\\u043d<br>\\u04302<br>\\u0431\\u0438\\u043b\\u0430\\u043d<br>\\u0441\\u043a\\u044e\\u0431\\u0438\\u043b\\u0435\\u0439\\u043d\\u044b\\u0439<br>@bilanofficial<br>\\u043a\\u0440\\u043e\\u043a\\u0443\\u0441\\u0441\\u0438\\u0442\\u0438\\u0445\\u043e\\u043b\\u043b<br>\\u043a\\u0430\\u0440\\u0430\\u043d\\u0442\\u0438\\u043d<br>2019<br>\\u0441\\u0435\\u0432\\u043a\\u0430\\u0431\\u0435\\u043b\\u044c\\u043f\\u043e\\u0440\\u0442\", \"dorosh_anka<br>\\u0438\\u0434\\u0430\\u0433\\u0430\\u043b\\u0438\\u0447<br>\\u0430\\u0432\\u0430\\u0440\\u0446\\u044b<br>\\u0434\\u0430\\u0440\\u0433\\u0438\\u043d\\u0446\\u044b<br>\\u0434\\u0430\\u0433\\u0435\\u0441\\u0442\\u0430\\u043d\\u0446\\u044b\\u0432\\u043f\\u0438\\u0442\\u0435\\u0440\\u0435<br>\\u0447\\u0435\\u0447\\u0435\\u043d\\u0446\\u044b<br>\\u0438\\u043d\\u0433\\u0443\\u0448\\u0438<br>\\u0434\\u0430\\u0433\\u0441\\u043f\\u0431<br>\\u0438\\u043d\\u0433\\u0443\\u0448\\u043a\\u0430<br>\\u0434\\u0430\\u0433\\u043f\\u0438\\u0442\\u0435\\u0440<br>\\u0430\\u0432\\u0430\\u0440\\u043a\\u0430<br>\\u043a\\u0430\\u0432\\u043a\\u0430\\u0437\\u0446\\u044b<br>\\u043a\\u0430\\u0432\\u043a\\u0430\\u0437\\u0446\\u044b\\u0432\\u043c\\u043e\\u0441\\u043a\\u0432\\u0435<br>\\u0447\\u0435\\u0447\\u0435\\u043d\\u043a\\u0430<br>\\u043a\\u0430\\u0431\\u0430\\u0440\\u0434\\u0438\\u043d\\u043a\\u0430\", \"\\u0441\\u0438\\u0434\\u0438\\u043c\\u0434\\u043e\\u043c\\u0430<br>\\u043a\\u0430\\u0440\\u0430\\u043d\\u0442\\u0438\\u043d<br>\\u0441\\u0430\\u043c\\u043e\\u0438\\u0437\\u043e\\u043b\\u044f\\u0446\\u0438\\u044f<br>\\u043e\\u0441\\u0442\\u0430\\u0432\\u0430\\u0439\\u0442\\u0435\\u0441\\u044c\\u0434\\u043e\\u043c\\u0430<br>\\u043a\\u043e\\u0440\\u043e\\u043d\\u0430\\u0432\\u0438\\u0440\\u0443\\u0441<br>stayhome<br>2020<br>\\u043b\\u0443\\u0447\\u0448\\u0435\\u0434\\u043e\\u043c\\u0430<br>\\u0432\\u0435\\u0441\\u043d\\u04302020<br>\\u0441\\u0438\\u0434\\u0438\\u0434\\u043e\\u043c\\u0430<br>covid19<br>\\u043f\\u0430\\u043d\\u0434\\u0435\\u043c\\u0438\\u044f<br>\\u043e\\u0441\\u0442\\u0430\\u0432\\u0430\\u0439\\u0441\\u044f\\u0434\\u043e\\u043c\\u0430<br>\\u0432\\u0438\\u0440\\u0443\\u0441<br>\\u043a\\u043e\\u0440\\u043e\\u043d\\u043e\\u0432\\u0438\\u0440\\u0443\\u0441\", \"\\u0434\\u0435\\u043d\\u044c\\u043f\\u043e\\u0431\\u0435\\u0434\\u044b<br>9\\u043c\\u0430\\u044f<br>8\\u043c\\u0430\\u0440\\u0442\\u0430<br>\\u0434\\u0435\\u043d\\u044c\\u043f\\u043e\\u0431\\u0435\\u0434\\u044b2019<br>\\u0431\\u0435\\u0441\\u0441\\u043c\\u0435\\u0440\\u0442\\u043d\\u044b\\u0439\\u043f\\u043e\\u043b\\u043a<br>9\\u043c\\u0430\\u044f2019<br>23\\u0444\\u0435\\u0432\\u0440\\u0430\\u043b\\u044f<br>\\u0441\\u0434\\u043d\\u0435\\u043c\\u043f\\u043e\\u0431\\u0435\\u0434\\u044b<br>\\u0436\\u0435\\u043d\\u0441\\u043a\\u0438\\u0439\\u0434\\u0435\\u043d\\u044c<br>2020<br>\\u0441\\u043f\\u0430\\u0441\\u0438\\u0431\\u043e\\u0434\\u0435\\u0434\\u0443\\u0437\\u0430\\u043f\\u043e\\u0431\\u0435\\u0434\\u0443<br>victoryday<br>\\u0432\\u0435\\u043b\\u0438\\u043a\\u0430\\u044f\\u043f\\u043e\\u0431\\u0435\\u0434\\u0430<br>\\u043d\\u0438\\u043a\\u0442\\u043e\\u043d\\u0435\\u0437\\u0430\\u0431\\u044b\\u0442\\u043d\\u0438\\u0447\\u0442\\u043e\\u043d\\u0435\\u0437\\u0430\\u0431\\u044b\\u0442\\u043e<br>\\u0441\\u0434\\u043d\\u0435\\u043c\\u0437\\u0430\\u0449\\u0438\\u0442\\u043d\\u0438\\u043a\\u0430\\u043e\\u0442\\u0435\\u0447\\u0435\\u0441\\u0442\\u0432\\u0430\", \"estetfashionweek<br>estetfw<br>\\u043d\\u0435\\u0434\\u0435\\u043b\\u044f\\u043c\\u043e\\u0434\\u044b<br>2019<br>estetfashionweek2019<br>estet<br>\\u044e\\u0432\\u0435\\u043b\\u0438\\u0440\\u043d\\u044b\\u0439\\u0434\\u043e\\u043c\\u044d\\u0441\\u0442\\u0435\\u0442<br>\\u0442\\u044e\\u043d\\u0438\\u043d\\u0433\\u0443\\u044e\\u0441\\u044c\\u0441\\u0433\\u043e\\u0430\\u0440<br>@estetfw<br>\\u044d\\u0441\\u0442\\u0435\\u0442<br>@goaravetisyan_beauty<br>efw<br>\\u0438\\u043d\\u0442\\u0435\\u0440\\u0448\\u0430\\u0440\\u043c2019<br>\\u043f\\u043e\\u043a\\u0430\\u0437\\u043c\\u043e\\u0434<br>\\u043a\\u0440\\u043e\\u043a\\u0443\\u0441\\u044d\\u043a\\u0441\\u043f\\u043e\", \"vkfest<br>vkfest5<br>vkfest2019<br>\\u0432\\u043a\\u0444\\u0435\\u0441\\u0442<br>@vk_fest<br>\\u0432\\u043a\\u0444\\u0435\\u0441\\u04422019<br>\\u0432\\u043a\\u0444\\u0435\\u0441\\u04425<br>\\u043b\\u0435\\u0442\\u043e2019<br>\\u0444\\u0435\\u0441\\u0442\\u0438\\u0432\\u0430\\u043b\\u044c\\u0432\\u043a\\u043e\\u043d\\u0442\\u0430\\u043a\\u0442\\u0435<br>\\u043f\\u0430\\u0440\\u043a300\\u043b\\u0435\\u0442\\u0438\\u044f\\u0441\\u043f\\u0431<br>@littlebigband<br>@egorkreed<br>radiorecord<br>@radiorecord<br>@buzova86\", \"sgf2019<br>synergyglobalforum<br>\\u0441\\u0438\\u043d\\u0435\\u0440\\u0433\\u0438\\u044f<br>synergy<br>@oskar_hartmann<br>@schwarzenegger<br>synergyglobalforum2019<br>\\u0433\\u0430\\u0437\\u043f\\u0440\\u043e\\u043c\\u0430\\u0440\\u0435\\u043d\\u0430<br>sgf<br>@rybakov_igor<br>sinergyglobalforum<br>@bssynergy<br>\\u0430\\u0440\\u043d\\u043e\\u043b\\u044c\\u0434\\u0448\\u0432\\u0430\\u0440\\u0446\\u0435\\u043d\\u0435\\u0433\\u0433\\u0435\\u0440<br>arnoldschwarzenegger<br>\\u0441\\u0438\\u043d\\u0435\\u0440\\u0434\\u0436\\u0438\\u0433\\u043b\\u043e\\u0431\\u0430\\u043b\\u0444\\u043e\\u0440\\u0443\\u043c\", \"andotoc<br>karrina<br>jc<br>katharina_eisenblut_<br>_aromanovaa_<br>@yairelav98<br>beloyar_1488<br>@sigidina19<br>makovka22<br>@va6a_detka<br>xkassikex<br>\\u0432\\u0441\\u0435\\u043d\\u0435\\u043f\\u0440\\u0435\\u0434\\u0441\\u043a\\u0430\\u0437\\u0443\\u0435\\u043c\\u043e<br>@mihailchelentano<br>marisha7528<br>sssherbakovvva\"], \"legendgroup\": \"\", \"marker\": {\"color\": [0.0, 1.0, 2.0, 3.0, 4.0, 5.0, 6.0, 7.0, 8.0, 9.0, 10.0, 11.0], \"coloraxis\": \"coloraxis\", \"size\": [271, 3191, 748, 404, 2058, 136, 1887, 274, 1034, 123, 70, 18], \"sizemode\": \"area\", \"sizeref\": 0.49859375, \"symbol\": \"circle\"}, \"mode\": \"markers+text\", \"name\": \"\", \"showlegend\": false, \"text\": [\"\\u043d\\u043e\\u0432\\u044b\\u0439\\u0433\\u043e\\u0434\", \"\\u0441\\u0435\\u0432\\u043a\\u0430\\u0431\\u0435\\u043b\\u044c\\u043f\\u043e\\u0440\\u0442\", \"\\u0440\\u043f\\u043b\", \"\\u043b\\u0435\\u0434\\u043e\\u0432\\u044b\\u0439\", \"a2greenconcert\", \"dorosh_anka\", \"\\u0441\\u0438\\u0434\\u0438\\u043c\\u0434\\u043e\\u043c\\u0430\", \"\\u0434\\u0435\\u043d\\u044c\\u043f\\u043e\\u0431\\u0435\\u0434\\u044b\", \"estetfashionweek\", \"vkfest\", \"sgf2019\", \"andotoc\"], \"type\": \"scatter\", \"x\": [-12.39959565387454, -0.12043612201402704, -12.577885319956149, 1.2674566193960395, 3.351643399467444, 6.124670612838236, 4.684988128928988, -4.903503494087591, -0.6811259213723403, -19.773794174552847, -23.10182407142857, 33.220697944444446], \"xaxis\": \"x\", \"y\": [2.8619904845018445, -0.526970826453557, -4.579660255538904, 2.9872435369603956, 11.160875220427112, 1.7659828868382355, -10.252020470559088, -11.136215897664233, 0.453096547302708, 2.5922767799187, 25.09492074285715, 0.5112390133333334], \"yaxis\": \"y\"}],\n",
       "                        {\"coloraxis\": {\"colorbar\": {\"title\": {\"text\": \"label\"}}, \"colorscale\": [[0.0, \"#0d0887\"], [0.1111111111111111, \"#46039f\"], [0.2222222222222222, \"#7201a8\"], [0.3333333333333333, \"#9c179e\"], [0.4444444444444444, \"#bd3786\"], [0.5555555555555556, \"#d8576b\"], [0.6666666666666666, \"#ed7953\"], [0.7777777777777778, \"#fb9f3a\"], [0.8888888888888888, \"#fdca26\"], [1.0, \"#f0f921\"]]}, \"legend\": {\"itemsizing\": \"constant\", \"tracegroupgap\": 0}, \"margin\": {\"t\": 60}, \"template\": {\"data\": {\"bar\": [{\"error_x\": {\"color\": \"#2a3f5f\"}, \"error_y\": {\"color\": \"#2a3f5f\"}, \"marker\": {\"line\": {\"color\": \"#E5ECF6\", \"width\": 0.5}}, \"type\": \"bar\"}], \"barpolar\": [{\"marker\": {\"line\": {\"color\": \"#E5ECF6\", \"width\": 0.5}}, \"type\": \"barpolar\"}], \"carpet\": [{\"aaxis\": {\"endlinecolor\": \"#2a3f5f\", \"gridcolor\": \"white\", \"linecolor\": \"white\", \"minorgridcolor\": \"white\", \"startlinecolor\": \"#2a3f5f\"}, \"baxis\": {\"endlinecolor\": \"#2a3f5f\", \"gridcolor\": \"white\", \"linecolor\": \"white\", \"minorgridcolor\": \"white\", \"startlinecolor\": \"#2a3f5f\"}, \"type\": \"carpet\"}], \"choropleth\": [{\"colorbar\": {\"outlinewidth\": 0, \"ticks\": \"\"}, \"type\": \"choropleth\"}], \"contour\": [{\"colorbar\": {\"outlinewidth\": 0, \"ticks\": \"\"}, \"colorscale\": [[0.0, \"#0d0887\"], [0.1111111111111111, \"#46039f\"], [0.2222222222222222, \"#7201a8\"], [0.3333333333333333, \"#9c179e\"], [0.4444444444444444, \"#bd3786\"], [0.5555555555555556, \"#d8576b\"], [0.6666666666666666, \"#ed7953\"], [0.7777777777777778, \"#fb9f3a\"], [0.8888888888888888, \"#fdca26\"], [1.0, \"#f0f921\"]], \"type\": \"contour\"}], \"contourcarpet\": [{\"colorbar\": {\"outlinewidth\": 0, \"ticks\": \"\"}, \"type\": \"contourcarpet\"}], \"heatmap\": [{\"colorbar\": {\"outlinewidth\": 0, \"ticks\": \"\"}, \"colorscale\": [[0.0, \"#0d0887\"], [0.1111111111111111, \"#46039f\"], [0.2222222222222222, \"#7201a8\"], [0.3333333333333333, \"#9c179e\"], [0.4444444444444444, \"#bd3786\"], [0.5555555555555556, \"#d8576b\"], [0.6666666666666666, \"#ed7953\"], [0.7777777777777778, \"#fb9f3a\"], [0.8888888888888888, \"#fdca26\"], [1.0, \"#f0f921\"]], \"type\": \"heatmap\"}], \"heatmapgl\": [{\"colorbar\": {\"outlinewidth\": 0, \"ticks\": \"\"}, \"colorscale\": [[0.0, \"#0d0887\"], [0.1111111111111111, \"#46039f\"], [0.2222222222222222, \"#7201a8\"], [0.3333333333333333, \"#9c179e\"], [0.4444444444444444, \"#bd3786\"], [0.5555555555555556, \"#d8576b\"], [0.6666666666666666, \"#ed7953\"], [0.7777777777777778, \"#fb9f3a\"], [0.8888888888888888, \"#fdca26\"], [1.0, \"#f0f921\"]], \"type\": \"heatmapgl\"}], \"histogram\": [{\"marker\": {\"colorbar\": {\"outlinewidth\": 0, \"ticks\": \"\"}}, \"type\": \"histogram\"}], \"histogram2d\": [{\"colorbar\": {\"outlinewidth\": 0, \"ticks\": \"\"}, \"colorscale\": [[0.0, \"#0d0887\"], [0.1111111111111111, \"#46039f\"], [0.2222222222222222, \"#7201a8\"], [0.3333333333333333, \"#9c179e\"], [0.4444444444444444, \"#bd3786\"], [0.5555555555555556, \"#d8576b\"], [0.6666666666666666, \"#ed7953\"], [0.7777777777777778, \"#fb9f3a\"], [0.8888888888888888, \"#fdca26\"], [1.0, \"#f0f921\"]], \"type\": \"histogram2d\"}], \"histogram2dcontour\": [{\"colorbar\": {\"outlinewidth\": 0, \"ticks\": \"\"}, \"colorscale\": [[0.0, \"#0d0887\"], [0.1111111111111111, \"#46039f\"], [0.2222222222222222, \"#7201a8\"], [0.3333333333333333, \"#9c179e\"], [0.4444444444444444, \"#bd3786\"], [0.5555555555555556, \"#d8576b\"], [0.6666666666666666, \"#ed7953\"], [0.7777777777777778, \"#fb9f3a\"], [0.8888888888888888, \"#fdca26\"], [1.0, \"#f0f921\"]], \"type\": \"histogram2dcontour\"}], \"mesh3d\": [{\"colorbar\": {\"outlinewidth\": 0, \"ticks\": \"\"}, \"type\": \"mesh3d\"}], \"parcoords\": [{\"line\": {\"colorbar\": {\"outlinewidth\": 0, \"ticks\": \"\"}}, \"type\": \"parcoords\"}], \"pie\": [{\"automargin\": true, \"type\": \"pie\"}], \"scatter\": [{\"marker\": {\"colorbar\": {\"outlinewidth\": 0, \"ticks\": \"\"}}, \"type\": \"scatter\"}], \"scatter3d\": [{\"line\": {\"colorbar\": {\"outlinewidth\": 0, \"ticks\": \"\"}}, \"marker\": {\"colorbar\": {\"outlinewidth\": 0, \"ticks\": \"\"}}, \"type\": \"scatter3d\"}], \"scattercarpet\": [{\"marker\": {\"colorbar\": {\"outlinewidth\": 0, \"ticks\": \"\"}}, \"type\": \"scattercarpet\"}], \"scattergeo\": [{\"marker\": {\"colorbar\": {\"outlinewidth\": 0, \"ticks\": \"\"}}, \"type\": \"scattergeo\"}], \"scattergl\": [{\"marker\": {\"colorbar\": {\"outlinewidth\": 0, \"ticks\": \"\"}}, \"type\": \"scattergl\"}], \"scattermapbox\": [{\"marker\": {\"colorbar\": {\"outlinewidth\": 0, \"ticks\": \"\"}}, \"type\": \"scattermapbox\"}], \"scatterpolar\": [{\"marker\": {\"colorbar\": {\"outlinewidth\": 0, \"ticks\": \"\"}}, \"type\": \"scatterpolar\"}], \"scatterpolargl\": [{\"marker\": {\"colorbar\": {\"outlinewidth\": 0, \"ticks\": \"\"}}, \"type\": \"scatterpolargl\"}], \"scatterternary\": [{\"marker\": {\"colorbar\": {\"outlinewidth\": 0, \"ticks\": \"\"}}, \"type\": \"scatterternary\"}], \"surface\": [{\"colorbar\": {\"outlinewidth\": 0, \"ticks\": \"\"}, \"colorscale\": [[0.0, \"#0d0887\"], [0.1111111111111111, \"#46039f\"], [0.2222222222222222, \"#7201a8\"], [0.3333333333333333, \"#9c179e\"], [0.4444444444444444, \"#bd3786\"], [0.5555555555555556, \"#d8576b\"], [0.6666666666666666, \"#ed7953\"], [0.7777777777777778, \"#fb9f3a\"], [0.8888888888888888, \"#fdca26\"], [1.0, \"#f0f921\"]], \"type\": \"surface\"}], \"table\": [{\"cells\": {\"fill\": {\"color\": \"#EBF0F8\"}, \"line\": {\"color\": \"white\"}}, \"header\": {\"fill\": {\"color\": \"#C8D4E3\"}, \"line\": {\"color\": \"white\"}}, \"type\": \"table\"}]}, \"layout\": {\"annotationdefaults\": {\"arrowcolor\": \"#2a3f5f\", \"arrowhead\": 0, \"arrowwidth\": 1}, \"coloraxis\": {\"colorbar\": {\"outlinewidth\": 0, \"ticks\": \"\"}}, \"colorscale\": {\"diverging\": [[0, \"#8e0152\"], [0.1, \"#c51b7d\"], [0.2, \"#de77ae\"], [0.3, \"#f1b6da\"], [0.4, \"#fde0ef\"], [0.5, \"#f7f7f7\"], [0.6, \"#e6f5d0\"], [0.7, \"#b8e186\"], [0.8, \"#7fbc41\"], [0.9, \"#4d9221\"], [1, \"#276419\"]], \"sequential\": [[0.0, \"#0d0887\"], [0.1111111111111111, \"#46039f\"], [0.2222222222222222, \"#7201a8\"], [0.3333333333333333, \"#9c179e\"], [0.4444444444444444, \"#bd3786\"], [0.5555555555555556, \"#d8576b\"], [0.6666666666666666, \"#ed7953\"], [0.7777777777777778, \"#fb9f3a\"], [0.8888888888888888, \"#fdca26\"], [1.0, \"#f0f921\"]], \"sequentialminus\": [[0.0, \"#0d0887\"], [0.1111111111111111, \"#46039f\"], [0.2222222222222222, \"#7201a8\"], [0.3333333333333333, \"#9c179e\"], [0.4444444444444444, \"#bd3786\"], [0.5555555555555556, \"#d8576b\"], [0.6666666666666666, \"#ed7953\"], [0.7777777777777778, \"#fb9f3a\"], [0.8888888888888888, \"#fdca26\"], [1.0, \"#f0f921\"]]}, \"colorway\": [\"#636efa\", \"#EF553B\", \"#00cc96\", \"#ab63fa\", \"#FFA15A\", \"#19d3f3\", \"#FF6692\", \"#B6E880\", \"#FF97FF\", \"#FECB52\"], \"font\": {\"color\": \"#2a3f5f\"}, \"geo\": {\"bgcolor\": \"white\", \"lakecolor\": \"white\", \"landcolor\": \"#E5ECF6\", \"showlakes\": true, \"showland\": true, \"subunitcolor\": \"white\"}, \"hoverlabel\": {\"align\": \"left\"}, \"hovermode\": \"closest\", \"mapbox\": {\"style\": \"light\"}, \"paper_bgcolor\": \"white\", \"plot_bgcolor\": \"#E5ECF6\", \"polar\": {\"angularaxis\": {\"gridcolor\": \"white\", \"linecolor\": \"white\", \"ticks\": \"\"}, \"bgcolor\": \"#E5ECF6\", \"radialaxis\": {\"gridcolor\": \"white\", \"linecolor\": \"white\", \"ticks\": \"\"}}, \"scene\": {\"xaxis\": {\"backgroundcolor\": \"#E5ECF6\", \"gridcolor\": \"white\", \"gridwidth\": 2, \"linecolor\": \"white\", \"showbackground\": true, \"ticks\": \"\", \"zerolinecolor\": \"white\"}, \"yaxis\": {\"backgroundcolor\": \"#E5ECF6\", \"gridcolor\": \"white\", \"gridwidth\": 2, \"linecolor\": \"white\", \"showbackground\": true, \"ticks\": \"\", \"zerolinecolor\": \"white\"}, \"zaxis\": {\"backgroundcolor\": \"#E5ECF6\", \"gridcolor\": \"white\", \"gridwidth\": 2, \"linecolor\": \"white\", \"showbackground\": true, \"ticks\": \"\", \"zerolinecolor\": \"white\"}}, \"shapedefaults\": {\"line\": {\"color\": \"#2a3f5f\"}}, \"ternary\": {\"aaxis\": {\"gridcolor\": \"white\", \"linecolor\": \"white\", \"ticks\": \"\"}, \"baxis\": {\"gridcolor\": \"white\", \"linecolor\": \"white\", \"ticks\": \"\"}, \"bgcolor\": \"#E5ECF6\", \"caxis\": {\"gridcolor\": \"white\", \"linecolor\": \"white\", \"ticks\": \"\"}}, \"title\": {\"x\": 0.05}, \"xaxis\": {\"automargin\": true, \"gridcolor\": \"white\", \"linecolor\": \"white\", \"ticks\": \"\", \"title\": {\"standoff\": 15}, \"zerolinecolor\": \"white\", \"zerolinewidth\": 2}, \"yaxis\": {\"automargin\": true, \"gridcolor\": \"white\", \"linecolor\": \"white\", \"ticks\": \"\", \"title\": {\"standoff\": 15}, \"zerolinecolor\": \"white\", \"zerolinewidth\": 2}}}, \"xaxis\": {\"anchor\": \"y\", \"domain\": [0.0, 1.0], \"title\": {\"text\": \"x\"}}, \"yaxis\": {\"anchor\": \"x\", \"domain\": [0.0, 1.0], \"title\": {\"text\": \"y\"}}},\n",
       "                        {\"responsive\": true}\n",
       "                    ).then(function(){\n",
       "                            \n",
       "var gd = document.getElementById('76f0f220-886e-41f6-9b31-f2e78cfea383');\n",
       "var x = new MutationObserver(function (mutations, observer) {{\n",
       "        var display = window.getComputedStyle(gd).display;\n",
       "        if (!display || display === 'none') {{\n",
       "            console.log([gd, 'removed!']);\n",
       "            Plotly.purge(gd);\n",
       "            observer.disconnect();\n",
       "        }}\n",
       "}});\n",
       "\n",
       "// Listen for the removal of the full notebook cells\n",
       "var notebookContainer = gd.closest('#notebook-container');\n",
       "if (notebookContainer) {{\n",
       "    x.observe(notebookContainer, {childList: true});\n",
       "}}\n",
       "\n",
       "// Listen for the clearing of the current output cell\n",
       "var outputEl = gd.closest('.output');\n",
       "if (outputEl) {{\n",
       "    x.observe(outputEl, {childList: true});\n",
       "}}\n",
       "\n",
       "                        })\n",
       "                };\n",
       "                });\n",
       "            </script>\n",
       "        </div>"
      ]
     },
     "metadata": {},
     "output_type": "display_data"
    }
   ],
   "source": [
    "reload(tools)\n",
    "df = tools.read_events(TMP_PATH + 'df_ag.csv')\n",
    "scores = pd.read_csv(TMP_PATH + 'scores_ag.csv')\n",
    "# def find_best_score(scores_df: pd.DataFrame, score_name: str):\n",
    "best = tools.find_best_score(scores, 'f1')\n",
    "print(best)\n",
    "# def plot_score(scores_df: pd.DataFrame, y, x='n_clusters', x_title='n clusters', y_title='score value'):\n",
    "tools.plot_score(scores, 'f1').show()\n",
    "# def plot_events(df: pd.DataFrame, color:str or int, hover_name='title'):\n",
    "tools.plot_events(df, best['n_clusters'])\n",
    "# def calc_centroids(df: pd.DataFrame, n:int, hashtags_size=15):\n",
    "centroids = tools.calc_centroids(df, best['n_clusters'])\n",
    "# def plot_centroids(df_centroids, size_max=100, size_text_tags=0, min_size=0, max_size=None):\n",
    "fig, _ = tools.plot_centroids(centroids, size_max=80, size_text_tags=1)\n",
    "fig.show()"
   ]
  },
  {
   "cell_type": "code",
   "execution_count": null,
   "metadata": {},
   "outputs": [],
   "source": []
  }
 ],
 "metadata": {
  "kernelspec": {
   "display_name": "Python 3",
   "language": "python",
   "name": "python3"
  },
  "language_info": {
   "codemirror_mode": {
    "name": "ipython",
    "version": 3
   },
   "file_extension": ".py",
   "mimetype": "text/x-python",
   "name": "python",
   "nbconvert_exporter": "python",
   "pygments_lexer": "ipython3",
   "version": "3.7.6"
  }
 },
 "nbformat": 4,
 "nbformat_minor": 4
}
